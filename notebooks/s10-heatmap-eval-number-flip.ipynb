{
 "cells": [
  {
   "cell_type": "code",
   "execution_count": 1,
   "metadata": {},
   "outputs": [],
   "source": [
    "import logging\n",
    "from utils import logging as lg\n",
    "lg.set_logging(logging.ERROR)\n",
    "\n",
    "\n",
    "from skimage.measure import block_reduce\n",
    "import numpy as np\n",
    "\n",
    "import logging\n",
    "\n",
    "\n",
    "\n",
    "from model import base, provider, heatmap_evaluation\n",
    "import matplotlib.pyplot as plt\n",
    "import tensorflow as tf\n",
    "tf.logging.set_verbosity(tf.logging.ERROR)\n"
   ]
  },
  {
   "cell_type": "code",
   "execution_count": 2,
   "metadata": {},
   "outputs": [],
   "source": [
    "from utils import data_provider"
   ]
  },
  {
   "cell_type": "code",
   "execution_count": 3,
   "metadata": {},
   "outputs": [],
   "source": [
    "dataset = {\n",
    "    'mnist': data_provider.MNISTData(dir_path='../data/mnist'),\n",
    "    'fashion-mnist': data_provider.FashionMNISTData(dir_path='../data/fashion-mnist'),\n",
    "    'ufi-cropped': data_provider.UFICroppedData(dir_path='../data/ufi-cropped')\n",
    "}"
   ]
  },
  {
   "cell_type": "code",
   "execution_count": 4,
   "metadata": {},
   "outputs": [],
   "source": [
    "def model_path(network, dataset, seq):\n",
    "    return '../final-models/%s_network-%s-seq-%d' % (network, dataset, seq)"
   ]
  },
  {
   "cell_type": "code",
   "execution_count": null,
   "metadata": {},
   "outputs": [],
   "source": []
  },
  {
   "cell_type": "markdown",
   "metadata": {},
   "source": [
    "# AOPC"
   ]
  },
  {
   "cell_type": "code",
   "execution_count": 36,
   "metadata": {},
   "outputs": [],
   "source": [
    "def plot_aopc(network, methods, dataset_name, seq):\n",
    "    data = dataset[dataset_name]\n",
    "\n",
    "    markers = ['o', '^', '*', 's']\n",
    "\n",
    "    labels = []\n",
    "    last_values = []\n",
    "    \n",
    "    path = model_path(network, dataset_name, seq)\n",
    "\n",
    "    model_obj = provider.load(path)\n",
    "    name = base.BaseNetwork.network_nickname(model_obj._.architecture_name)\n",
    "    test_data = data.test2d.x\n",
    "    print('data shape')\n",
    "    print(test_data.shape)\n",
    "\n",
    "    results = dict()\n",
    "    max_k = 16\n",
    "    patch_size = (7,7)\n",
    "    no_flip_random = heatmap_evaluation.count_flip(model_obj, test_data, order='random', patch_size=patch_size, method='sensitivity', max_k=max_k)   \n",
    "\n",
    "    results['random'] = no_flip_random\n",
    "    relevances = []\n",
    "\n",
    "    print('dataset %s' % dataset_name)\n",
    "    for i, m in zip(range(len(methods)), methods):\n",
    "        no_flip = heatmap_evaluation.count_flip(model_obj, test_data, patch_size=patch_size, method=m, max_k=max_k)   \n",
    "\n",
    "        results[m] = no_flip\n",
    "        stats.append(dict(method=m, seq=seq, architecture=network, dataset=dataset_name, no_flip=no_flip))\n",
    "\n",
    "        \n",
    "    for key, value in sorted(results.items(), key=lambda p: (p[1],p[0])):\n",
    "        print(\"method %20s | avg_flip %f\" % (key, value))\n"
   ]
  },
  {
   "cell_type": "code",
   "execution_count": 37,
   "metadata": {},
   "outputs": [],
   "source": [
    "def plot_aopc_all_dataset( network, methods, seq ):\n",
    "    for d in ['mnist', 'fashion-mnist']:\n",
    "        plot_aopc(network, methods, d, seq)"
   ]
  },
  {
   "cell_type": "markdown",
   "metadata": {},
   "source": [
    "## Shallow"
   ]
  },
  {
   "cell_type": "code",
   "execution_count": 38,
   "metadata": {},
   "outputs": [
    {
     "name": "stdout",
     "output_type": "stream",
     "text": [
      "data shape\n",
      "(10000, 28, 28)\n",
      "dataset mnist\n",
      "method      lrp_deep_taylor | avg_flip 3.166300\n",
      "method      guided_backprop | avg_flip 3.450100\n",
      "method          sensitivity | avg_flip 3.744800\n",
      "method               random | avg_flip 7.051000\n"
     ]
    }
   ],
   "source": [
    "import imp\n",
    "imp.reload(heatmap_evaluation)\n",
    "stats = []\n",
    "plot_aopc('s2', ['sensitivity', 'guided_backprop', 'lrp_deep_taylor'], 'mnist', 1)"
   ]
  },
  {
   "cell_type": "code",
   "execution_count": null,
   "metadata": {},
   "outputs": [],
   "source": []
  },
  {
   "cell_type": "code",
   "execution_count": 39,
   "metadata": {},
   "outputs": [
    {
     "name": "stdout",
     "output_type": "stream",
     "text": [
      "data shape\n",
      "(10000, 28, 28)\n",
      "dataset mnist\n",
      "method      lrp_deep_taylor | avg_flip 3.166300\n",
      "method      guided_backprop | avg_flip 3.450100\n",
      "method          sensitivity | avg_flip 3.744800\n",
      "method               random | avg_flip 7.051000\n",
      "data shape\n",
      "(10000, 28, 28)\n",
      "dataset fashion-mnist\n",
      "method      lrp_deep_taylor | avg_flip 3.625400\n",
      "method      guided_backprop | avg_flip 4.195900\n",
      "method          sensitivity | avg_flip 4.760700\n",
      "method               random | avg_flip 5.728400\n"
     ]
    }
   ],
   "source": [
    "stats = []\n",
    "plot_aopc_all_dataset('s2', ['sensitivity', 'guided_backprop', 'lrp_deep_taylor'], 1)"
   ]
  },
  {
   "cell_type": "code",
   "execution_count": 40,
   "metadata": {},
   "outputs": [
    {
     "name": "stdout",
     "output_type": "stream",
     "text": [
      "data shape\n",
      "(10000, 28, 28)\n",
      "dataset mnist\n",
      "method          sensitivity | avg_flip 3.949400\n",
      "method      guided_backprop | avg_flip 4.696000\n",
      "method               random | avg_flip 6.575100\n",
      "method      lrp_deep_taylor | avg_flip 8.237600\n",
      "data shape\n",
      "(10000, 28, 28)\n",
      "dataset fashion-mnist\n",
      "method          sensitivity | avg_flip 3.990400\n",
      "method      guided_backprop | avg_flip 3.994800\n",
      "method               random | avg_flip 5.027400\n",
      "method      lrp_deep_taylor | avg_flip 6.552600\n"
     ]
    }
   ],
   "source": [
    "plot_aopc_all_dataset('s2', ['sensitivity', 'guided_backprop', 'lrp_deep_taylor'], 4)"
   ]
  },
  {
   "cell_type": "code",
   "execution_count": 41,
   "metadata": {},
   "outputs": [
    {
     "name": "stdout",
     "output_type": "stream",
     "text": [
      "data shape\n",
      "(10000, 28, 28)\n",
      "dataset mnist\n",
      "method          sensitivity | avg_flip 4.017600\n",
      "method      guided_backprop | avg_flip 4.484400\n",
      "method               random | avg_flip 6.634300\n",
      "method      lrp_deep_taylor | avg_flip 8.163000\n",
      "data shape\n",
      "(10000, 28, 28)\n",
      "dataset fashion-mnist\n",
      "method          sensitivity | avg_flip 4.407200\n",
      "method      guided_backprop | avg_flip 4.482800\n",
      "method               random | avg_flip 4.890200\n",
      "method      lrp_deep_taylor | avg_flip 5.673200\n"
     ]
    }
   ],
   "source": [
    "plot_aopc_all_dataset('s2', ['sensitivity', 'guided_backprop', 'lrp_deep_taylor'], 7)"
   ]
  },
  {
   "cell_type": "code",
   "execution_count": 42,
   "metadata": {},
   "outputs": [
    {
     "name": "stdout",
     "output_type": "stream",
     "text": [
      "data shape\n",
      "(10000, 28, 28)\n",
      "dataset mnist\n",
      "method          sensitivity | avg_flip 3.926000\n",
      "method      guided_backprop | avg_flip 4.811800\n",
      "method               random | avg_flip 5.618900\n",
      "method      lrp_deep_taylor | avg_flip 6.775100\n",
      "data shape\n",
      "(10000, 28, 28)\n",
      "dataset fashion-mnist\n",
      "method      lrp_deep_taylor | avg_flip 4.159900\n",
      "method               random | avg_flip 4.245000\n",
      "method          sensitivity | avg_flip 4.419700\n",
      "method      guided_backprop | avg_flip 4.917400\n"
     ]
    }
   ],
   "source": [
    "plot_aopc_all_dataset('s2', ['sensitivity', 'guided_backprop', 'lrp_deep_taylor'], 14)"
   ]
  },
  {
   "cell_type": "markdown",
   "metadata": {},
   "source": [
    "## Deep"
   ]
  },
  {
   "cell_type": "code",
   "execution_count": 43,
   "metadata": {},
   "outputs": [
    {
     "name": "stdout",
     "output_type": "stream",
     "text": [
      "data shape\n",
      "(10000, 28, 28)\n",
      "dataset mnist\n",
      "method      lrp_deep_taylor | avg_flip 3.229600\n",
      "method          sensitivity | avg_flip 3.712500\n",
      "method      guided_backprop | avg_flip 3.754700\n",
      "method               random | avg_flip 7.359700\n",
      "data shape\n",
      "(10000, 28, 28)\n",
      "dataset fashion-mnist\n",
      "method      lrp_deep_taylor | avg_flip 3.815100\n",
      "method      guided_backprop | avg_flip 5.456800\n",
      "method          sensitivity | avg_flip 5.468000\n",
      "method               random | avg_flip 6.693100\n"
     ]
    }
   ],
   "source": [
    "plot_aopc_all_dataset('s3', ['sensitivity', 'guided_backprop', 'lrp_deep_taylor'], 1)"
   ]
  },
  {
   "cell_type": "code",
   "execution_count": 44,
   "metadata": {},
   "outputs": [
    {
     "name": "stdout",
     "output_type": "stream",
     "text": [
      "data shape\n",
      "(10000, 28, 28)\n",
      "dataset mnist\n",
      "method      lrp_deep_taylor | avg_flip 4.046100\n",
      "method      guided_backprop | avg_flip 4.170200\n",
      "method          sensitivity | avg_flip 4.275800\n",
      "method               random | avg_flip 6.332200\n",
      "data shape\n",
      "(10000, 28, 28)\n",
      "dataset fashion-mnist\n",
      "method      lrp_deep_taylor | avg_flip 4.226500\n",
      "method      guided_backprop | avg_flip 4.312300\n",
      "method          sensitivity | avg_flip 4.436400\n",
      "method               random | avg_flip 6.552200\n"
     ]
    }
   ],
   "source": [
    "plot_aopc_all_dataset('s3', ['sensitivity', 'guided_backprop', 'lrp_deep_taylor'], 4)"
   ]
  },
  {
   "cell_type": "code",
   "execution_count": 45,
   "metadata": {},
   "outputs": [
    {
     "name": "stdout",
     "output_type": "stream",
     "text": [
      "data shape\n",
      "(10000, 28, 28)\n",
      "dataset mnist\n",
      "method          sensitivity | avg_flip 3.912500\n",
      "method      guided_backprop | avg_flip 3.944700\n",
      "method      lrp_deep_taylor | avg_flip 4.058100\n",
      "method               random | avg_flip 5.637700\n",
      "data shape\n",
      "(10000, 28, 28)\n",
      "dataset fashion-mnist\n",
      "method      guided_backprop | avg_flip 3.017700\n",
      "method          sensitivity | avg_flip 3.203400\n",
      "method      lrp_deep_taylor | avg_flip 3.304000\n",
      "method               random | avg_flip 5.223300\n"
     ]
    }
   ],
   "source": [
    "plot_aopc_all_dataset('s3', ['sensitivity', 'guided_backprop', 'lrp_deep_taylor'], 7)"
   ]
  },
  {
   "cell_type": "code",
   "execution_count": 46,
   "metadata": {},
   "outputs": [
    {
     "name": "stdout",
     "output_type": "stream",
     "text": [
      "data shape\n",
      "(10000, 28, 28)\n",
      "dataset mnist\n",
      "method          sensitivity | avg_flip 2.666900\n",
      "method      guided_backprop | avg_flip 2.853300\n",
      "method      lrp_deep_taylor | avg_flip 2.940500\n",
      "method               random | avg_flip 4.473600\n",
      "data shape\n",
      "(10000, 28, 28)\n",
      "dataset fashion-mnist\n",
      "method      guided_backprop | avg_flip 2.104800\n",
      "method      lrp_deep_taylor | avg_flip 2.271800\n",
      "method          sensitivity | avg_flip 2.325900\n",
      "method               random | avg_flip 3.791800\n"
     ]
    }
   ],
   "source": [
    "plot_aopc_all_dataset('s3', ['sensitivity', 'guided_backprop', 'lrp_deep_taylor'], 14)"
   ]
  },
  {
   "cell_type": "markdown",
   "metadata": {},
   "source": [
    "## Deep_4l"
   ]
  },
  {
   "cell_type": "code",
   "execution_count": 47,
   "metadata": {},
   "outputs": [
    {
     "name": "stdout",
     "output_type": "stream",
     "text": [
      "data shape\n",
      "(10000, 28, 28)\n",
      "dataset mnist\n",
      "method      lrp_deep_taylor | avg_flip 3.036500\n",
      "method      guided_backprop | avg_flip 3.452200\n",
      "method          sensitivity | avg_flip 3.508800\n",
      "method               random | avg_flip 7.494400\n",
      "data shape\n",
      "(10000, 28, 28)\n",
      "dataset fashion-mnist\n",
      "method      lrp_deep_taylor | avg_flip 3.588600\n",
      "method          sensitivity | avg_flip 5.085200\n",
      "method      guided_backprop | avg_flip 5.158100\n",
      "method               random | avg_flip 6.432400\n"
     ]
    }
   ],
   "source": [
    "plot_aopc_all_dataset('deep_4l', ['sensitivity', 'guided_backprop', 'lrp_deep_taylor'], 1)"
   ]
  },
  {
   "cell_type": "code",
   "execution_count": 48,
   "metadata": {},
   "outputs": [
    {
     "name": "stdout",
     "output_type": "stream",
     "text": [
      "data shape\n",
      "(10000, 28, 28)\n",
      "dataset mnist\n",
      "method      lrp_deep_taylor | avg_flip 3.541400\n",
      "method          sensitivity | avg_flip 3.999300\n",
      "method      guided_backprop | avg_flip 4.072200\n",
      "method               random | avg_flip 5.891700\n",
      "data shape\n",
      "(10000, 28, 28)\n",
      "dataset fashion-mnist\n",
      "method          sensitivity | avg_flip 4.499100\n",
      "method      guided_backprop | avg_flip 4.556200\n",
      "method      lrp_deep_taylor | avg_flip 4.567500\n",
      "method               random | avg_flip 6.848000\n"
     ]
    }
   ],
   "source": [
    "plot_aopc_all_dataset('deep_4l', ['sensitivity', 'guided_backprop', 'lrp_deep_taylor'], 4)"
   ]
  },
  {
   "cell_type": "code",
   "execution_count": 49,
   "metadata": {},
   "outputs": [
    {
     "name": "stdout",
     "output_type": "stream",
     "text": [
      "data shape\n",
      "(10000, 28, 28)\n",
      "dataset mnist\n",
      "method      lrp_deep_taylor | avg_flip 3.769500\n",
      "method          sensitivity | avg_flip 4.051100\n",
      "method      guided_backprop | avg_flip 4.201800\n",
      "method               random | avg_flip 6.279700\n",
      "data shape\n",
      "(10000, 28, 28)\n",
      "dataset fashion-mnist\n",
      "method      guided_backprop | avg_flip 3.846800\n",
      "method      lrp_deep_taylor | avg_flip 3.869700\n",
      "method          sensitivity | avg_flip 3.998000\n",
      "method               random | avg_flip 5.938700\n"
     ]
    }
   ],
   "source": [
    "plot_aopc_all_dataset('deep_4l', ['sensitivity', 'guided_backprop', 'lrp_deep_taylor'], 7)"
   ]
  },
  {
   "cell_type": "code",
   "execution_count": 50,
   "metadata": {},
   "outputs": [
    {
     "name": "stdout",
     "output_type": "stream",
     "text": [
      "data shape\n",
      "(10000, 28, 28)\n",
      "dataset mnist\n",
      "method      lrp_deep_taylor | avg_flip 3.474100\n",
      "method          sensitivity | avg_flip 3.971000\n",
      "method      guided_backprop | avg_flip 3.973000\n",
      "method               random | avg_flip 5.279700\n",
      "data shape\n",
      "(10000, 28, 28)\n",
      "dataset fashion-mnist\n",
      "method      guided_backprop | avg_flip 3.287900\n",
      "method      lrp_deep_taylor | avg_flip 3.411700\n",
      "method          sensitivity | avg_flip 3.701200\n",
      "method               random | avg_flip 4.902400\n"
     ]
    }
   ],
   "source": [
    "plot_aopc_all_dataset('deep_4l', ['sensitivity', 'guided_backprop', 'lrp_deep_taylor'], 14)"
   ]
  },
  {
   "cell_type": "markdown",
   "metadata": {},
   "source": [
    "## ConvDeep"
   ]
  },
  {
   "cell_type": "code",
   "execution_count": 51,
   "metadata": {},
   "outputs": [
    {
     "name": "stdout",
     "output_type": "stream",
     "text": [
      "data shape\n",
      "(10000, 28, 28)\n",
      "dataset mnist\n",
      "method      lrp_deep_taylor | avg_flip 4.604400\n",
      "method      guided_backprop | avg_flip 4.749100\n",
      "method          sensitivity | avg_flip 4.755500\n",
      "method               random | avg_flip 7.049000\n",
      "data shape\n",
      "(10000, 28, 28)\n",
      "dataset fashion-mnist\n",
      "method      lrp_deep_taylor | avg_flip 4.598300\n",
      "method      guided_backprop | avg_flip 4.638900\n",
      "method          sensitivity | avg_flip 4.841200\n",
      "method               random | avg_flip 5.304500\n"
     ]
    }
   ],
   "source": [
    "plot_aopc_all_dataset('convdeep_4l', ['sensitivity', 'guided_backprop', 'lrp_deep_taylor'], 1)"
   ]
  },
  {
   "cell_type": "code",
   "execution_count": 52,
   "metadata": {},
   "outputs": [
    {
     "name": "stdout",
     "output_type": "stream",
     "text": [
      "data shape\n",
      "(10000, 28, 28)\n",
      "dataset mnist\n",
      "method          sensitivity | avg_flip 4.115300\n",
      "method      guided_backprop | avg_flip 4.353400\n",
      "method      lrp_deep_taylor | avg_flip 4.583400\n",
      "method               random | avg_flip 6.201700\n",
      "data shape\n",
      "(10000, 28, 28)\n",
      "dataset fashion-mnist\n",
      "method      guided_backprop | avg_flip 5.431700\n",
      "method          sensitivity | avg_flip 5.619100\n",
      "method      lrp_deep_taylor | avg_flip 5.667400\n",
      "method               random | avg_flip 7.065700\n"
     ]
    }
   ],
   "source": [
    "plot_aopc_all_dataset('convdeep_4l', ['sensitivity', 'guided_backprop', 'lrp_deep_taylor'], 4)"
   ]
  },
  {
   "cell_type": "code",
   "execution_count": 53,
   "metadata": {},
   "outputs": [
    {
     "name": "stdout",
     "output_type": "stream",
     "text": [
      "data shape\n",
      "(10000, 28, 28)\n",
      "dataset mnist\n",
      "method          sensitivity | avg_flip 3.999700\n",
      "method      lrp_deep_taylor | avg_flip 4.460900\n",
      "method      guided_backprop | avg_flip 4.471900\n",
      "method               random | avg_flip 5.406600\n",
      "data shape\n",
      "(10000, 28, 28)\n",
      "dataset fashion-mnist\n",
      "method      guided_backprop | avg_flip 3.570400\n",
      "method      lrp_deep_taylor | avg_flip 3.694800\n",
      "method          sensitivity | avg_flip 3.709200\n",
      "method               random | avg_flip 4.860000\n"
     ]
    }
   ],
   "source": [
    "plot_aopc_all_dataset('convdeep_4l', ['sensitivity', 'guided_backprop', 'lrp_deep_taylor'], 7)"
   ]
  },
  {
   "cell_type": "code",
   "execution_count": 54,
   "metadata": {},
   "outputs": [
    {
     "name": "stdout",
     "output_type": "stream",
     "text": [
      "data shape\n",
      "(10000, 28, 28)\n",
      "dataset mnist\n",
      "method      lrp_deep_taylor | avg_flip 2.618000\n",
      "method          sensitivity | avg_flip 2.635600\n",
      "method      guided_backprop | avg_flip 3.022700\n",
      "method               random | avg_flip 3.610100\n",
      "data shape\n",
      "(10000, 28, 28)\n",
      "dataset fashion-mnist\n",
      "method          sensitivity | avg_flip 2.834300\n",
      "method      lrp_deep_taylor | avg_flip 2.960100\n",
      "method      guided_backprop | avg_flip 3.480400\n",
      "method               random | avg_flip 4.697800\n"
     ]
    }
   ],
   "source": [
    "plot_aopc_all_dataset('convdeep_4l', ['sensitivity', 'guided_backprop', 'lrp_deep_taylor'], 14)"
   ]
  },
  {
   "cell_type": "code",
   "execution_count": 55,
   "metadata": {},
   "outputs": [],
   "source": [
    "# import pandas as pd \n",
    "\n",
    "# pd.DataFrame(stats).to_csv('aopc3.csv')"
   ]
  },
  {
   "cell_type": "markdown",
   "metadata": {},
   "source": [
    "# Image Entropy"
   ]
  },
  {
   "cell_type": "code",
   "execution_count": null,
   "metadata": {},
   "outputs": [],
   "source": [
    "import imp\n",
    "imp.reload(heatmap_evaluation)\n",
    "def plot_image_entropies(networks, dataset_name, seq):\n",
    "    pass\n",
    "#     data = dataset[dataset_name]\n",
    "#     fig = plt.figure()\n",
    "\n",
    "#     ax = fig.add_subplot(111)\n",
    "#     ax.spines['top'].set_visible(False)\n",
    "#     ax.spines['right'].set_visible(False)\n",
    "\n",
    "#     labels = []\n",
    "#     last_values = []\n",
    "#     print(\"Entropy of heatmaps from %s testing dataset\" % (dataset_name))\n",
    "#     for m in networks:\n",
    "#         path = model_path(m, dataset_name, seq)\n",
    "#         model_obj = provider.load(model_path(m, dataset_name, seq))\n",
    "#         entropy = heatmap_evaluation.image_entropy(model_obj, data.test2d.x[:5,:,:])   \n",
    "#         name = provider.network_nickname(model_obj._.architecture_name)\n",
    "#         print('%s : %f' % (name, entropy))\n",
    "              \n",
    "# plot_image_entropies(['s2','s3', 'deep_4l', 'convdeep_4l'], 'mnist', 1)"
   ]
  },
  {
   "cell_type": "code",
   "execution_count": null,
   "metadata": {},
   "outputs": [],
   "source": [
    "plot_image_entropies(['s2','s3', 'deep_4l', 'convdeep_4l'], 'mnist', 4)"
   ]
  },
  {
   "cell_type": "code",
   "execution_count": null,
   "metadata": {},
   "outputs": [],
   "source": [
    "plot_image_entropies(['s2','s3', 'deep_4l', 'convdeep_4l'], 'fashion-mnist', 4)"
   ]
  }
 ],
 "metadata": {
  "kernelspec": {
   "display_name": "Python3 Thesis Kernel",
   "language": "python",
   "name": "py3-thesis-kernel"
  },
  "language_info": {
   "codemirror_mode": {
    "name": "ipython",
    "version": 3
   },
   "file_extension": ".py",
   "mimetype": "text/x-python",
   "name": "python",
   "nbconvert_exporter": "python",
   "pygments_lexer": "ipython3",
   "version": "3.5.1"
  },
  "toc": {
   "nav_menu": {},
   "number_sections": true,
   "sideBar": true,
   "skip_h1_title": false,
   "toc_cell": false,
   "toc_position": {
    "height": "669px",
    "left": "0px",
    "right": "20px",
    "top": "111px",
    "width": "212px"
   },
   "toc_section_display": "block",
   "toc_window_display": true
  }
 },
 "nbformat": 4,
 "nbformat_minor": 2
}
