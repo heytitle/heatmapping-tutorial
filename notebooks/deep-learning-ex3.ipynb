{
 "cells": [
  {
   "cell_type": "code",
   "execution_count": 1,
   "metadata": {},
   "outputs": [],
   "source": [
    "import numpy as np"
   ]
  },
  {
   "cell_type": "markdown",
   "metadata": {},
   "source": [
    "# Question 3\n",
    "![](https://i.imgur.com/6ZgKWyT.png)"
   ]
  },
  {
   "cell_type": "markdown",
   "metadata": {},
   "source": [
    "# Derivations\n",
    "## Forward pass\n",
    "\\begin{align*}\n",
    "z^{(h)}_{i} &= \\sum_j w^{(h)}_{ij} x_j + b_i \\\\\n",
    "a^{(h)}_{i}  &= max(0, z^{(h)}_{i} ) \\\\\n",
    "z_{i} = z^{(o)}_{i} &= \\sum_j w^{(o)}_{ij} a^{(h)}_j + b_i \\\\\n",
    "k(\\boldsymbol{z^{(o)}})_i &= \\frac{e^{z^{(o)}_i}}{\\sum_k e^{z^{(o)}_k}}\n",
    "\\end{align*}"
   ]
  },
  {
   "cell_type": "markdown",
   "metadata": {},
   "source": [
    "## derivation of $\\frac{\\partial \\mathcal{L} }{\\partial z_i}$\n",
    "\\begin{align*}\n",
    "\\frac{\\partial \\mathcal{L} }{\\partial z_i} &= \\sum_k \\frac{\\partial \\mathcal{L}}{\\partial k(z_k) }\\frac{\\partial k(z_k) }{z_i}\n",
    "\\end{align*}\n",
    "\n",
    "\\begin{align*}\n",
    "\\frac{\\partial \\mathcal{L}}{\\partial k(z_k) } &= \\frac{\\partial}{\\partial k(z_k) } -\\sum_j p_j log(k(z_j)) \\\\\n",
    "&= -\\frac{p_k}{k(z_k)}\n",
    "\\end{align*}\n",
    "\n",
    "\\begin{align*}\n",
    "\\frac{\\partial k(z_k) }{z_i} &=  \\frac{\\partial}{\\partial z_i } \\frac{e^{z_k}}{\\sum_j e^{z_j}} \\\\\n",
    "&= \\frac{ \\sum_j e^{z_j} \\frac{\\partial e^{z_k}}{\\partial z_i} - e^{z_k} \\frac{\\partial }{\\partial z_i} \\sum_j e^{z_j}  }{\\bigg(\\sum_j e^{z_j}\\bigg)^2}\n",
    "\\end{align*}\n",
    "\n",
    "For $i=k$:\n",
    "\\begin{align*}\n",
    "\\frac{\\partial k(z_i) }{z_i} &= \\frac{ \\sum_j e^{z_j} e^{z_i} - e^{z_i} e^{z_i} }{\\bigg(\\sum_j e^{z_j}\\bigg)^2} \\\\\n",
    "&= k(z_i) ( 1 - k(z_i))\n",
    "\\end{align*}\n",
    "\n",
    "For $i\\ne k$:\n",
    "\n",
    "\\begin{align*}\n",
    "\\frac{\\partial k(z_i) }{z_i} &= \\frac{ 0 - e^{z_k} e^{z_i} }{\\bigg(\\sum_j e^{z_j}\\bigg)^2} \\\\\n",
    "&= - k(z_i)k(z_k))\n",
    "\\end{align*}\n",
    "\n",
    "Therefore, \n",
    "\n",
    "\\begin{align*}\n",
    "\\frac{\\partial \\mathcal{L} }{\\partial z_i} &=  -\\frac{p_i}{k(z_i)} k(z_i)(1-k(z_i)) + \\sum_{k\\ne i}\\frac{p_k}{k(z_k)} k(z_i)k(z_k) \\\\\n",
    "&= -p_i + p_i k(z_i) + \\sum_{k \\ne i } p_k k(z_i) \\\\\n",
    "&= -p_i + \\sum_{k} p_k k(z_i)  \\\\\n",
    "\\frac{\\partial \\mathcal{L} }{\\partial z_i}  &= k(z_i) - p_i \\tag{$\\sum_k p_k = 1$}\n",
    "\\end{align*} "
   ]
  },
  {
   "cell_type": "markdown",
   "metadata": {},
   "source": [
    "## derivation of $\\frac{\\partial L}{w^{(o)}_{ij} }, \\frac{\\partial L}{b^{(o)}_{i} }$\n",
    "\\begin{align*}\n",
    "\\frac{\\partial L}{w^{(o)}_{ij} } &= \\frac{\\partial \\mathcal{L}}{ \\partial z_i } \\frac{\\partial z_i }{ \\partial w^{(o)}_{ij} } \\\\\n",
    "&= (k(z_i) - p_i) a^{(h)}_j \n",
    "\\end{align*}\n",
    "\n",
    "Similarly, \n",
    "\\begin{align*}\n",
    "\\frac{\\partial L}{b^{(o)}_{i} } &= \\frac{\\partial \\mathcal{L}}{ \\partial z_i } \\frac{\\partial z_i }{ \\partial b^{(o)}_{i} } \\\\\n",
    "&= (k(z_i) - p_i)\n",
    "\\end{align*}\n",
    "## derivation of $\\frac{\\partial L}{w^{(h)}_{ij} }, \\frac{\\partial L}{b^{(h)}_{i} }$\n"
   ]
  },
  {
   "cell_type": "markdown",
   "metadata": {},
   "source": [
    "\\begin{align*}\n",
    "\\frac{\\partial L}{w^{(h)}_{ij} } &= \\frac{\\partial \\mathcal{L}}{ \\partial a^{(h)}_i } \\frac{\\partial a^{(h)}_i }{ \\partial w^{(h)}_{ij} } \\\\\n",
    "\\end{align*}\n",
    "\n",
    "\\begin{align*}\n",
    "\\frac{\\partial \\mathcal{L}}{ \\partial a^{(h)}_i } &= \\sum_k \\frac{\\partial \\mathcal{L}}{ \\partial z_k } \\frac{ \\partial z_k }{ \\partial a^{(h)}_i } \\\\\n",
    "&= \\sum_k (k(z_k) - p_k) w^{(o)}_{ki}\n",
    "\\end{align*}\n",
    "\n",
    "\\begin{align*}\n",
    "\\frac{\\partial a^{(h)}_i }{ \\partial w^{(h)}_{ij} }  &= \\sigma'(  z^{(h)}_{i} )\\frac{\\partial  z^{(h)}_{i} }{ \\partial w^{(h)}_{ij}  } \\\\\n",
    "  &= \\sigma'(  z^{(h)}_{i} ) x_j \n",
    "\\end{align*}\n",
    "Therefore, \n",
    "\n",
    "\\begin{align*}\n",
    "\\frac{\\partial L}{w^{(h)}_{ij} } &= \\bigg( \\sum_k (k(z_k) - p_k) w^{(o)}_{ki} \\bigg) \\sigma'(  z^{(h)}_{i} ) x_j \n",
    "\\end{align*}\n",
    "\n",
    "Similarly, \n",
    "\\begin{align*}\n",
    "\\frac{\\partial L}{b^{(h)}_{i} } &= \\bigg( \\sum_k (k(z_k) - p_k) w^{(o)}_{ki} \\bigg) \\sigma'(  z^{(h)}_{i} )\n",
    "\\end{align*}\n"
   ]
  },
  {
   "cell_type": "markdown",
   "metadata": {},
   "source": [
    "## Derivation with vector and matrix notations\n",
    "Denote $\\boldsymbol{y}, \\boldsymbol{z}^{(h)}, \\boldsymbol{a}^{(h)}, \\boldsymbol{z}^{(o)}, \\boldsymbol{W}^{(o)}, \\boldsymbol{b}^{(o)}, \\boldsymbol{W}^{(h)}, \\boldsymbol{b}^{(h)} $ vector notation corresponding to its lowercase scala. \n",
    "\n",
    "The $\\nabla_{\\boldsymbol{z}}\\mathcal{L}$ is :\n",
    "\\begin{align*}\n",
    "\\nabla_{\\boldsymbol{z}}\\mathcal{L}  = k(\\boldsymbol{z}) - \\boldsymbol{y}\n",
    "\\end{align*}\n",
    "Therefore,\n",
    "\\begin{align*}\n",
    "\\nabla_{\\boldsymbol{W}^{(o)}} \\mathcal{L} &= \\nabla_{\\boldsymbol{z}} \\mathcal{L} \\otimes \\boldsymbol{a}^{(h)} \\\\\n",
    "\\nabla_{\\boldsymbol{b}^{(o)}} \\mathcal{L} &= \\nabla_{\\boldsymbol{z}}\\mathcal{L} \n",
    "\\end{align*}\n",
    "and \n",
    "\\begin{align*}\n",
    "\\nabla_{\\boldsymbol{a}^{(h)}} \\mathcal{L} &= (\\boldsymbol{W}^{(o)})^T \\nabla_{\\boldsymbol{z}}\\mathcal{L}  \\\\\n",
    "\\nabla_{\\boldsymbol{z}^{(h)}} \\boldsymbol{a}^{(h)} &= [ z_i^{(h)} > 0]_i \\\\\n",
    "\\nabla_{\\boldsymbol{W}^{(h)}} \\boldsymbol{a}^{(h)} &= \\nabla_{\\boldsymbol{z}^{(h)}} \\boldsymbol{a}^{(h)} \\otimes \\boldsymbol{x} \\\\\n",
    "\\nabla_{\\boldsymbol{b}^{(h)}} \\boldsymbol{a}^{(h)} &= \\nabla_{\\boldsymbol{z}^{(h)}} \\boldsymbol{a}^{(h)}\n",
    "\\end{align*}\n",
    "\n",
    "Therfore,\n",
    "\\begin{align*}\n",
    "\\nabla_{\\boldsymbol{W}^{(h)}} \\mathcal{L} &= \\bigg((\\boldsymbol{W}^{(o)})^T \\nabla_{\\boldsymbol{z}}\\mathcal{L}\\bigg) \\bigg(\\nabla_{\\boldsymbol{z}^{(h)}} \\boldsymbol{a}^{(h)} \\otimes \\boldsymbol{x}\\bigg)  \\\\\n",
    "\\nabla_{\\boldsymbol{b}^{(h)}} \\mathcal{L} &= \\bigg((\\boldsymbol{W}^{(o)})^T \\nabla_{\\boldsymbol{z}}\\mathcal{L}\\bigg) \\bigg(\\nabla_{\\boldsymbol{z}^{(h)}} \\boldsymbol{a}^{(h)} \\bigg)  \\\\\n",
    "\\end{align*}"
   ]
  },
  {
   "cell_type": "markdown",
   "metadata": {},
   "source": [
    "# Implementation"
   ]
  },
  {
   "cell_type": "code",
   "execution_count": 38,
   "metadata": {},
   "outputs": [],
   "source": [
    "W_h = np.array([[2, 1, 2], [1, 1, 2]])\n",
    "b_h = np.array([0,0])\n",
    "\n",
    "W_o = np.array([[1,1], [-2,-1],[1,-1]])\n",
    "b_o = np.array([0,0,0])\n",
    "\n",
    "x = np.array([1,0,1])\n",
    "y_true = np.array([0,0,1])"
   ]
  },
  {
   "cell_type": "code",
   "execution_count": 194,
   "metadata": {},
   "outputs": [],
   "source": [
    "def forward_and_backward_pass(x, y_true, w_h, b_h, w_o, b_o, lr=0.1, verbose=False):\n",
    "\n",
    "    z_h = np.dot(w_h,x) + b_h\n",
    "\n",
    "    a_h = z_h * ( z_h > 0)\n",
    "\n",
    "    z_o = np.dot(w_o, a_h) + b_o\n",
    "    if verbose:\n",
    "        print('---- forward')\n",
    "        print(w_h.shape)\n",
    "        print(b_h.shape)\n",
    "        print('z hidden')\n",
    "        print(z_h)\n",
    "        print('activation hidden')\n",
    "        print(a_h)\n",
    "        print('z output')\n",
    "        print(z_o)\n",
    "        print('softmax')\n",
    "        print(kz)\n",
    "    \n",
    "    kz = np.exp(z_o)/np.sum(np.exp(z_o))\n",
    "    loss = -np.sum(np.multiply(y_true, np.log(kz)))\n",
    "\n",
    "    print('loss : %.4f : predicted class %d ' % (loss, np.argmax(kz)+1))\n",
    "    dL_dz = kz - y_true\n",
    "    \n",
    "    dL_dWo = np.outer(dL_dz, a_h)\n",
    "    dL_dbo = dL_dz\n",
    "    \n",
    "    dL_dAh = np.dot(W_o.T, dL_dz).reshape(-1,1)\n",
    "\n",
    "    dAh_dZh = z_h > 0\n",
    "    dAh_dWh = np.outer(dAh_dZh, x)\n",
    "\n",
    "    dL_dWh =  np.multiply(dAh_dWh, dL_dAh)\n",
    "    dL_dbh = np.multiply(dAh_dZh.reshape(-1,1), dL_dAh)\n",
    "\n",
    "    n_Wh = W_h - lr*dL_dWh\n",
    "\n",
    "    n_bh = b_h - lr*dL_dbh[:,0]\n",
    "    \n",
    "    n_Wo = W_o - lr*dL_dWo\n",
    "    n_bo = b_o - lr*dL_dbo\n",
    "\n",
    "    return n_Wh, n_bh, n_Wo, n_bo"
   ]
  },
  {
   "cell_type": "code",
   "execution_count": 195,
   "metadata": {},
   "outputs": [
    {
     "name": "stdout",
     "output_type": "stream",
     "text": [
      "loss : 6.0025 : predicted class 1 \n"
     ]
    }
   ],
   "source": [
    "new_theta = forward_and_backward_pass(x, y_true, W_h, b_h, W_o, b_o)"
   ]
  },
  {
   "cell_type": "code",
   "execution_count": 196,
   "metadata": {},
   "outputs": [
    {
     "name": "stdout",
     "output_type": "stream",
     "text": [
      "loss : 0.6803 : predicted class 3 \n",
      "loss : 2.6138 : predicted class 1 \n",
      "loss : 0.6193 : predicted class 3 \n",
      "loss : 2.1111 : predicted class 1 \n",
      "loss : 0.4676 : predicted class 3 \n",
      "loss : 1.9018 : predicted class 1 \n",
      "loss : 0.3228 : predicted class 3 \n",
      "loss : 1.7614 : predicted class 1 \n",
      "loss : 0.2191 : predicted class 3 \n",
      "loss : 1.5788 : predicted class 1 \n",
      "loss : 0.1593 : predicted class 3 \n",
      "loss : 1.3283 : predicted class 1 \n",
      "loss : 0.1317 : predicted class 3 \n",
      "loss : 1.0506 : predicted class 1 \n",
      "loss : 0.1254 : predicted class 3 \n",
      "loss : 0.7929 : predicted class 1 \n",
      "loss : 0.1336 : predicted class 3 \n",
      "loss : 0.5813 : predicted class 3 \n",
      "loss : 0.1504 : predicted class 3 \n",
      "loss : 0.4227 : predicted class 3 \n",
      "loss : 0.1682 : predicted class 3 \n",
      "loss : 0.3130 : predicted class 3 \n",
      "loss : 0.1789 : predicted class 3 \n",
      "loss : 0.2423 : predicted class 3 \n",
      "loss : 0.1786 : predicted class 3 \n",
      "loss : 0.1983 : predicted class 3 \n",
      "loss : 0.1692 : predicted class 3 \n",
      "loss : 0.1703 : predicted class 3 \n",
      "loss : 0.1558 : predicted class 3 \n",
      "loss : 0.1507 : predicted class 3 \n",
      "loss : 0.1418 : predicted class 3 \n",
      "loss : 0.1356 : predicted class 3 \n",
      "loss : 0.1290 : predicted class 3 \n",
      "loss : 0.1232 : predicted class 3 \n",
      "loss : 0.1177 : predicted class 3 \n",
      "loss : 0.1126 : predicted class 3 \n",
      "loss : 0.1079 : predicted class 3 \n",
      "loss : 0.1035 : predicted class 3 \n",
      "loss : 0.0994 : predicted class 3 \n",
      "loss : 0.0955 : predicted class 3 \n",
      "loss : 0.0919 : predicted class 3 \n",
      "loss : 0.0885 : predicted class 3 \n",
      "loss : 0.0853 : predicted class 3 \n",
      "loss : 0.0823 : predicted class 3 \n",
      "loss : 0.0795 : predicted class 3 \n",
      "loss : 0.0769 : predicted class 3 \n",
      "loss : 0.0744 : predicted class 3 \n",
      "loss : 0.0720 : predicted class 3 \n",
      "loss : 0.0697 : predicted class 3 \n",
      "loss : 0.0676 : predicted class 3 \n"
     ]
    }
   ],
   "source": [
    "for i in range(50):\n",
    "    new_theta = forward_and_backward_pass(x, y_true, *new_theta)"
   ]
  },
  {
   "cell_type": "code",
   "execution_count": null,
   "metadata": {},
   "outputs": [],
   "source": []
  },
  {
   "cell_type": "code",
   "execution_count": null,
   "metadata": {},
   "outputs": [],
   "source": []
  }
 ],
 "metadata": {
  "kernelspec": {
   "display_name": "Python3 Thesis Kernel",
   "language": "python",
   "name": "py3-thesis-kernel"
  },
  "language_info": {
   "codemirror_mode": {
    "name": "ipython",
    "version": 3
   },
   "file_extension": ".py",
   "mimetype": "text/x-python",
   "name": "python",
   "nbconvert_exporter": "python",
   "pygments_lexer": "ipython3",
   "version": "3.5.1"
  },
  "toc": {
   "nav_menu": {},
   "number_sections": true,
   "sideBar": true,
   "skip_h1_title": false,
   "toc_cell": false,
   "toc_position": {},
   "toc_section_display": "block",
   "toc_window_display": false
  }
 },
 "nbformat": 4,
 "nbformat_minor": 2
}
