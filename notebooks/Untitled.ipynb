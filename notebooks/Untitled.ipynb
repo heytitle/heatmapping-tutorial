{
 "cells": [
  {
   "cell_type": "code",
   "execution_count": 1,
   "metadata": {},
   "outputs": [],
   "source": [
    "import tensorflow as tf"
   ]
  },
  {
   "cell_type": "code",
   "execution_count": 4,
   "metadata": {},
   "outputs": [
    {
     "name": "stdout",
     "output_type": "stream",
     "text": [
      "[2.0, 0.22134316, 2.221343, 6.0, 0.22134316, 6.221343]\n"
     ]
    }
   ],
   "source": [
    "# means = tf.constant([.3,.8])\n",
    "x = tf.random_uniform(shape=())\n",
    "v = tf.constant(2.0)\n",
    "y = tf.constant(6.0)\n",
    "with tf.Session('') as sess:\n",
    "#     cc = tf.Variable(x)\n",
    "    c = v+x\n",
    "    d = y+x\n",
    "    print(sess.run([v, x, c, y, x, d]))"
   ]
  },
  {
   "cell_type": "code",
   "execution_count": 11,
   "metadata": {},
   "outputs": [
    {
     "data": {
      "text/plain": [
       "0.72123241"
      ]
     },
     "execution_count": 11,
     "metadata": {},
     "output_type": "execute_result"
    }
   ],
   "source": [
    "x = tf.random_uniform(shape=())\n",
    "sess = tf.Session()\n",
    "sess.run(x)\n",
    "# 0.79877698\n",
    "sess.run(x)\n",
    "# 0.76016617"
   ]
  },
  {
   "cell_type": "code",
   "execution_count": null,
   "metadata": {},
   "outputs": [],
   "source": []
  }
 ],
 "metadata": {
  "kernelspec": {
   "display_name": "Python3 Thesis Kernel",
   "language": "python",
   "name": "py3-thesis-kernel"
  },
  "language_info": {
   "codemirror_mode": {
    "name": "ipython",
    "version": 3
   },
   "file_extension": ".py",
   "mimetype": "text/x-python",
   "name": "python",
   "nbconvert_exporter": "python",
   "pygments_lexer": "ipython3",
   "version": "3.5.1"
  },
  "toc": {
   "nav_menu": {},
   "number_sections": true,
   "sideBar": true,
   "skip_h1_title": false,
   "toc_cell": false,
   "toc_position": {},
   "toc_section_display": "block",
   "toc_window_display": false
  }
 },
 "nbformat": 4,
 "nbformat_minor": 2
}
