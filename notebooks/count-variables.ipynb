{
 "cells": [
  {
   "cell_type": "code",
   "execution_count": 1,
   "metadata": {},
   "outputs": [],
   "source": [
    "from model import s2_network, s3_network, convdeep_4l_network, deep_4l_network\n",
    "from utils import network_architecture"
   ]
  },
  {
   "cell_type": "code",
   "execution_count": 2,
   "metadata": {},
   "outputs": [],
   "source": [
    "no_col_feed = 7\n",
    "no_classes = 10\n",
    "\n"
   ]
  },
  {
   "cell_type": "code",
   "execution_count": 16,
   "metadata": {},
   "outputs": [
    {
     "name": "stdout",
     "output_type": "stream",
     "text": [
      "Cols feed 7\n",
      "recur 256\n"
     ]
    },
    {
     "name": "stderr",
     "output_type": "stream",
     "text": [
      "2018-02-21 11:22:58,649 | INFO : base.py(no_variables 92) - layer recurrent | # variables 131328\n",
      "2018-02-21 11:22:58,650 | INFO : base.py(no_variables 92) - layer output | # variables 5130\n",
      "2018-02-21 11:22:58,651 | INFO : base.py(no_variables 92) - layer input | # variables 231936\n",
      "2018-02-21 11:22:59,569 | INFO : base.py(no_variables 92) - layer input_to_cell | # variables 65664\n",
      "2018-02-21 11:22:59,570 | INFO : base.py(no_variables 92) - layer output_from_cell | # variables 4128\n",
      "2018-02-21 11:22:59,571 | INFO : base.py(no_variables 92) - layer input_1 | # variables 50432\n",
      "2018-02-21 11:22:59,572 | INFO : base.py(no_variables 92) - layer recurrent | # variables 33024\n",
      "2018-02-21 11:22:59,573 | INFO : base.py(no_variables 92) - layer output_2 | # variables 330\n",
      "2018-02-21 11:23:00,607 | INFO : base.py(no_variables 92) - layer input_to_cell | # variables 65664\n",
      "2018-02-21 11:23:00,608 | INFO : base.py(no_variables 92) - layer recurrent | # variables 33024\n",
      "2018-02-21 11:23:00,609 | INFO : base.py(no_variables 92) - layer input_2 | # variables 33024\n",
      "2018-02-21 11:23:00,610 | INFO : base.py(no_variables 92) - layer output_from_cell | # variables 4128\n",
      "2018-02-21 11:23:00,611 | INFO : base.py(no_variables 92) - layer output_2 | # variables 330\n",
      "2018-02-21 11:23:00,612 | INFO : base.py(no_variables 92) - layer input_1 | # variables 25216\n",
      "2018-02-21 11:23:00,655 | INFO : convdeep_4l_network.py(__init__ 47) - conv1 shape \n",
      "2018-02-21 11:23:00,656 | INFO : convdeep_4l_network.py(__init__ 48) - [-1, 28, 7, 24]\n",
      "2018-02-21 11:23:00,660 | INFO : convdeep_4l_network.py(__init__ 52) - pool1 shape \n",
      "2018-02-21 11:23:00,661 | INFO : convdeep_4l_network.py(__init__ 53) - [-1, 14, 4, 24]\n",
      "2018-02-21 11:23:00,667 | INFO : convdeep_4l_network.py(__init__ 57) - conv2 shape \n",
      "2018-02-21 11:23:00,668 | INFO : convdeep_4l_network.py(__init__ 58) - [-1, 14, 4, 32]\n",
      "2018-02-21 11:23:00,672 | INFO : convdeep_4l_network.py(__init__ 63) - Output dims after conv and pooling layers\n",
      "2018-02-21 11:23:00,673 | INFO : convdeep_4l_network.py(__init__ 64) - (1, 7, 2, 32)\n",
      "2018-02-21 11:23:01,845 | INFO : base.py(no_variables 92) - layer conv2 | # variables 6944\n",
      "2018-02-21 11:23:01,846 | INFO : base.py(no_variables 92) - layer input_to_cell | # variables 65664\n",
      "2018-02-21 11:23:01,847 | INFO : base.py(no_variables 92) - layer pool2 | # variables 0\n",
      "2018-02-21 11:23:01,848 | INFO : base.py(no_variables 92) - layer recurrent | # variables 33024\n",
      "2018-02-21 11:23:01,849 | INFO : base.py(no_variables 92) - layer pool1 | # variables 0\n",
      "2018-02-21 11:23:01,850 | INFO : base.py(no_variables 92) - layer conv1 | # variables 624\n",
      "2018-02-21 11:23:01,851 | INFO : base.py(no_variables 92) - layer output_from_cell | # variables 4128\n",
      "2018-02-21 11:23:01,852 | INFO : base.py(no_variables 92) - layer input_1 | # variables 114944\n",
      "2018-02-21 11:23:01,852 | INFO : base.py(no_variables 92) - layer output_2 | # variables 330\n"
     ]
    },
    {
     "name": "stdout",
     "output_type": "stream",
     "text": [
      "shallow: 368394\n",
      ">> {'hidden': 512, 'recur': 256, 'out': 10}\n",
      "deep: 153578\n",
      ">> {'hidden': 128, 'out2': 10, 'in1': 256, 'out1': 32, 'recur': 256}\n",
      "deepv2: 161386\n",
      ">>  {'out1': 32, 'hidden': 128, 'out2': 10, 'in1': 128, 'in2': 256, 'recur': 256}\n",
      "convde: 225658\n",
      ">>  conv1:5x5x24=>2x2[2,2]|conv2:3x3x32=>2x2[2,2]|in1:256|hidden:128|out1:32|out2:10--recur:256\n"
     ]
    }
   ],
   "source": [
    "def compute_no_variables(seq_len, no_rows, no_cols):\n",
    "    no_col_feed = int(no_cols / seq_len)\n",
    "    print('Cols feed %d' % no_col_feed)\n",
    "    \n",
    "    if seq_len == 1:\n",
    "        recur = 0\n",
    "    else:\n",
    "        recur = 256\n",
    "    print('recur %d' % recur)\n",
    "    s2_params = dict(hidden=512, out=10, recur=recur)\n",
    "    s2_no = s2_network.Dag(no_col_feed, no_rows, seq_len,\n",
    "               s2_network.Architecture(**s2_params), 'AdamOptimizer', no_classes).no_variables()\n",
    "    \n",
    "    s3_params = dict(in1=256,hidden=128, out1=32, out2=10, recur=recur)\n",
    "    s3_no = s3_network.Dag(no_col_feed, no_rows, seq_len,\n",
    "               s3_network.Architecture(**s3_params), 'AdamOptimizer', no_classes).no_variables()\n",
    "    \n",
    "    d4_params = dict(in1=128, in2=256, hidden=128, out1=32, out2=10, recur=recur)\n",
    "    d4l_no = deep_4l_network.Dag(no_col_feed, no_rows, seq_len,\n",
    "               deep_4l_network.Architecture(**d4_params), 'AdamOptimizer', no_classes).no_variables()\n",
    "    \n",
    "    cd_str = 'conv1:5x5x24=>2x2[2,2]|conv2:3x3x32=>2x2[2,2]|in1:256|hidden:128|out1:32|out2:10--recur:%d' % recur\n",
    "    d = network_architecture.parse(cd_str)\n",
    "    cd4l_no = convdeep_4l_network.Dag(no_col_feed, no_rows, seq_len,\n",
    "               convdeep_4l_network.Architecture(**d),\n",
    "                    'AdamOptimizer', no_classes).no_variables()\n",
    "            \n",
    "    print('shallow: %d' % s2_no)\n",
    "    print('>>', s2_params)\n",
    "    \n",
    "    print('deep: %d' % s3_no)\n",
    "    print('>>', s3_params)\n",
    "    \n",
    "    print('deepv2: %d' % d4l_no)\n",
    "    print('>> ', d4_params)\n",
    "    \n",
    "    print('convde: %d' % cd4l_no)\n",
    "    print('>> ', cd_str)\n",
    "compute_no_variables(4, no_rows=28, no_cols=28)"
   ]
  },
  {
   "cell_type": "markdown",
   "metadata": {},
   "source": [
    "# my setting\n",
    "```\n",
    "shallow: 184330\n",
    ">> {'hidden': 256, 'recur': 256, 'out': 10}\n",
    "deep: 153578\n",
    ">> {'hidden': 128, 'out2': 10, 'in1': 256, 'out1': 32, 'recur': 256}\n",
    "    deepv2: 161386\n",
    ">>  {'out1': 32, 'hidden': 128, 'out2': 10, 'in1': 128, 'in2': 256, 'recur': 256}\n",
    "convde: 151802\n",
    ">>  conv1:5x5x24=>2x2[2,2]|conv2:3x3x32=>2x2[2,2]|in1:128|hidden:128|out1:32|out2:10--recur:256\n",
    "```\n",
    "\n",
    "# my setting 2\n",
    "```\n",
    "shallow: 230346\n",
    ">> {'hidden': 320, 'recur': 256, 'out': 10}\n",
    "deep: 214670\n",
    ">> {'hidden': 196, 'out2': 10, 'in1': 256, 'out1': 64, 'recur': 256}\n",
    "deepv2: 223818\n",
    ">>  223818\n",
    "convde: 256629\n",
    ">>  conv1:5x5x10=>2x2[2,2]|conv2:3x3x25=>2x2[2,2]|in1:256|hidden:196|out1:64|out2:10--recur:256\n",
    "```                            \n",
    "\n",
    "# Gregoire setting\n",
    "```\n",
    "shallow: 184330\n",
    ">> {'hidden': 256, 'recur': 256, 'out': 10}\n",
    "deep: 281738\n",
    ">> {'hidden': 256, 'out2': 10, 'in1': 256, 'out1': 128, 'recur': 256}\n",
    "deepv2: 232714\n",
    ">>  232714\n",
    "convde: 353818\n",
    ">>  conv1:5x5x24=>2x2[2,2]|conv2:3x3x32=>2x2[2,2]|in1:256|hidden:256|out1:128|out2:10--recur:256\n",
    "```\n",
    "    \n",
    "\n"
   ]
  },
  {
   "cell_type": "code",
   "execution_count": null,
   "metadata": {},
   "outputs": [],
   "source": []
  },
  {
   "cell_type": "code",
   "execution_count": null,
   "metadata": {},
   "outputs": [],
   "source": []
  },
  {
   "cell_type": "code",
   "execution_count": 33,
   "metadata": {},
   "outputs": [
    {
     "name": "stdout",
     "output_type": "stream",
     "text": [
      "recur 128\n"
     ]
    },
    {
     "name": "stderr",
     "output_type": "stream",
     "text": [
      "2018-02-16 20:14:08,199 | INFO : base.py(no_variables 92) - layer recurrent | # variables 98432\n",
      "2018-02-16 20:14:08,200 | INFO : base.py(no_variables 92) - layer input | # variables 249600\n",
      "2018-02-16 20:14:08,201 | INFO : base.py(no_variables 92) - layer output | # variables 7690\n",
      "2018-02-16 20:14:09,098 | INFO : base.py(no_variables 92) - layer recurrent | # variables 32896\n",
      "2018-02-16 20:14:09,099 | INFO : base.py(no_variables 92) - layer output_from_cell | # variables 16448\n",
      "2018-02-16 20:14:09,100 | INFO : base.py(no_variables 92) - layer output_2 | # variables 650\n",
      "2018-02-16 20:14:09,101 | INFO : base.py(no_variables 92) - layer input_to_cell | # variables 164096\n",
      "2018-02-16 20:14:09,102 | INFO : base.py(no_variables 92) - layer input_1 | # variables 100864\n",
      "2018-02-16 20:14:10,146 | INFO : base.py(no_variables 92) - layer input_2 | # variables 92352\n",
      "2018-02-16 20:14:10,147 | INFO : base.py(no_variables 92) - layer output_2 | # variables 650\n",
      "2018-02-16 20:14:10,147 | INFO : base.py(no_variables 92) - layer output_from_cell | # variables 16448\n",
      "2018-02-16 20:14:10,148 | INFO : base.py(no_variables 92) - layer recurrent | # variables 32896\n",
      "2018-02-16 20:14:10,149 | INFO : base.py(no_variables 92) - layer input_1 | # variables 94560\n",
      "2018-02-16 20:14:10,150 | INFO : base.py(no_variables 92) - layer input_to_cell | # variables 82176\n",
      "2018-02-16 20:14:10,194 | INFO : convdeep_4l_network.py(__init__ 47) - conv1 shape \n",
      "2018-02-16 20:14:10,195 | INFO : convdeep_4l_network.py(__init__ 48) - [-1, 28, 7, 24]\n",
      "2018-02-16 20:14:10,199 | INFO : convdeep_4l_network.py(__init__ 52) - pool1 shape \n",
      "2018-02-16 20:14:10,200 | INFO : convdeep_4l_network.py(__init__ 53) - [-1, 14, 4, 24]\n",
      "2018-02-16 20:14:10,206 | INFO : convdeep_4l_network.py(__init__ 57) - conv2 shape \n",
      "2018-02-16 20:14:10,207 | INFO : convdeep_4l_network.py(__init__ 58) - [-1, 14, 4, 48]\n",
      "2018-02-16 20:14:10,212 | INFO : convdeep_4l_network.py(__init__ 63) - Output dims after conv and pooling layers\n",
      "2018-02-16 20:14:10,213 | INFO : convdeep_4l_network.py(__init__ 64) - (1, 7, 2, 48)\n",
      "2018-02-16 20:14:11,286 | INFO : base.py(no_variables 92) - layer conv1 | # variables 624\n",
      "2018-02-16 20:14:11,288 | INFO : base.py(no_variables 92) - layer output_from_cell | # variables 32896\n",
      "2018-02-16 20:14:11,289 | INFO : base.py(no_variables 92) - layer input_to_cell | # variables 205056\n",
      "2018-02-16 20:14:11,290 | INFO : base.py(no_variables 92) - layer pool2 | # variables 0\n",
      "2018-02-16 20:14:11,290 | INFO : base.py(no_variables 92) - layer pool1 | # variables 0\n",
      "2018-02-16 20:14:11,291 | INFO : base.py(no_variables 92) - layer output_2 | # variables 1290\n",
      "2018-02-16 20:14:11,292 | INFO : base.py(no_variables 92) - layer conv2 | # variables 10416\n",
      "2018-02-16 20:14:11,293 | INFO : base.py(no_variables 92) - layer recurrent | # variables 32896\n"
     ]
    },
    {
     "name": "stdout",
     "output_type": "stream",
     "text": [
      "s2: 355722\n",
      "s3: 314954\n",
      "deep: 319082\n",
      "convde: 283178\n"
     ]
    }
   ],
   "source": []
  },
  {
   "cell_type": "code",
   "execution_count": null,
   "metadata": {},
   "outputs": [],
   "source": []
  },
  {
   "cell_type": "code",
   "execution_count": 97,
   "metadata": {},
   "outputs": [
    {
     "name": "stdout",
     "output_type": "stream",
     "text": [
      "recur 128\n"
     ]
    },
    {
     "name": "stderr",
     "output_type": "stream",
     "text": [
      "2017-12-29 18:34:46,257 | INFO : convdeep_4l_network.py(__init__ 47) - conv1 shape \n",
      "2017-12-29 18:34:46,258 | INFO : convdeep_4l_network.py(__init__ 48) - [-1, 28, 7, 24]\n",
      "2017-12-29 18:34:46,261 | INFO : convdeep_4l_network.py(__init__ 52) - pool1 shape \n",
      "2017-12-29 18:34:46,262 | INFO : convdeep_4l_network.py(__init__ 53) - [-1, 14, 4, 24]\n",
      "2017-12-29 18:34:46,272 | INFO : convdeep_4l_network.py(__init__ 57) - conv2 shape \n",
      "2017-12-29 18:34:46,273 | INFO : convdeep_4l_network.py(__init__ 58) - [-1, 14, 4, 48]\n",
      "2017-12-29 18:34:46,277 | INFO : convdeep_4l_network.py(__init__ 63) - Output dims after conv and pooling layers\n",
      "2017-12-29 18:34:46,278 | INFO : convdeep_4l_network.py(__init__ 64) - (1, 7, 2, 48)\n"
     ]
    },
    {
     "name": "stdout",
     "output_type": "stream",
     "text": [
      "s2: 355722\n",
      "s3: 314954\n",
      "deep: 306890\n",
      "convde: 283178\n"
     ]
    }
   ],
   "source": [
    "compute_no_variables(4, no_rows=28, no_cols=28)"
   ]
  },
  {
   "cell_type": "code",
   "execution_count": 98,
   "metadata": {},
   "outputs": [
    {
     "name": "stdout",
     "output_type": "stream",
     "text": [
      "recur 128\n"
     ]
    },
    {
     "name": "stderr",
     "output_type": "stream",
     "text": [
      "2017-12-29 18:34:50,248 | INFO : convdeep_4l_network.py(__init__ 47) - conv1 shape \n",
      "2017-12-29 18:34:50,249 | INFO : convdeep_4l_network.py(__init__ 48) - [-1, 28, 4, 24]\n",
      "2017-12-29 18:34:50,252 | INFO : convdeep_4l_network.py(__init__ 52) - pool1 shape \n",
      "2017-12-29 18:34:50,253 | INFO : convdeep_4l_network.py(__init__ 53) - [-1, 14, 2, 24]\n",
      "2017-12-29 18:34:50,259 | INFO : convdeep_4l_network.py(__init__ 57) - conv2 shape \n",
      "2017-12-29 18:34:50,260 | INFO : convdeep_4l_network.py(__init__ 58) - [-1, 14, 2, 48]\n",
      "2017-12-29 18:34:50,264 | INFO : convdeep_4l_network.py(__init__ 63) - Output dims after conv and pooling layers\n",
      "2017-12-29 18:34:50,265 | INFO : convdeep_4l_network.py(__init__ 64) - (1, 7, 1, 48)\n"
     ]
    },
    {
     "name": "stdout",
     "output_type": "stream",
     "text": [
      "s2: 291210\n",
      "s3: 271946\n",
      "deep: 263882\n",
      "convde: 197162\n"
     ]
    }
   ],
   "source": [
    "compute_no_variables(7, no_rows=28, no_cols=28)"
   ]
  },
  {
   "cell_type": "code",
   "execution_count": 99,
   "metadata": {},
   "outputs": [
    {
     "name": "stdout",
     "output_type": "stream",
     "text": [
      "recur 128\n"
     ]
    },
    {
     "name": "stderr",
     "output_type": "stream",
     "text": [
      "2017-12-29 18:35:40,759 | INFO : convdeep_4l_network.py(__init__ 47) - conv1 shape \n",
      "2017-12-29 18:35:40,760 | INFO : convdeep_4l_network.py(__init__ 48) - [-1, 28, 2, 24]\n",
      "2017-12-29 18:35:40,762 | INFO : convdeep_4l_network.py(__init__ 52) - pool1 shape \n",
      "2017-12-29 18:35:40,763 | INFO : convdeep_4l_network.py(__init__ 53) - [-1, 14, 1, 24]\n",
      "2017-12-29 18:35:40,768 | INFO : convdeep_4l_network.py(__init__ 57) - conv2 shape \n",
      "2017-12-29 18:35:40,769 | INFO : convdeep_4l_network.py(__init__ 58) - [-1, 14, 1, 48]\n",
      "2017-12-29 18:35:40,772 | INFO : convdeep_4l_network.py(__init__ 63) - Output dims after conv and pooling layers\n",
      "2017-12-29 18:35:40,773 | INFO : convdeep_4l_network.py(__init__ 64) - (1, 7, 1, 48)\n"
     ]
    },
    {
     "name": "stdout",
     "output_type": "stream",
     "text": [
      "s2: 248202\n",
      "s3: 243274\n",
      "deep: 235210\n",
      "convde: 197162\n"
     ]
    }
   ],
   "source": [
    "compute_no_variables(14, no_rows=28, no_cols=28)"
   ]
  },
  {
   "cell_type": "code",
   "execution_count": null,
   "metadata": {},
   "outputs": [],
   "source": []
  },
  {
   "cell_type": "code",
   "execution_count": 72,
   "metadata": {},
   "outputs": [
    {
     "data": {
      "text/plain": [
       "<module 'model.convdeep_4l_network' from '/Users/heytitle/projects/heatmapping-tutorial/src/model/convdeep_4l_network.py'>"
      ]
     },
     "execution_count": 72,
     "metadata": {},
     "output_type": "execute_result"
    }
   ],
   "source": [
    "import imp\n",
    "imp.reload(convdeep_4l_network)"
   ]
  },
  {
   "cell_type": "code",
   "execution_count": null,
   "metadata": {},
   "outputs": [],
   "source": []
  },
  {
   "cell_type": "code",
   "execution_count": null,
   "metadata": {},
   "outputs": [],
   "source": []
  },
  {
   "cell_type": "code",
   "execution_count": 15,
   "metadata": {},
   "outputs": [
    {
     "data": {
      "text/plain": [
       "476490"
      ]
     },
     "execution_count": 15,
     "metadata": {},
     "output_type": "execute_result"
    }
   ],
   "source": [
    "s3_network.Dag(no_col_feed, 28, int(float(28)/no_col_feed),\n",
    "               s3_network.Architecture(in1=512,hidden=128, out1=64, out2=10, recur=0), 'AdamOptimizer', no_classes).no_variables()"
   ]
  },
  {
   "cell_type": "code",
   "execution_count": null,
   "metadata": {},
   "outputs": [],
   "source": [
    "s3_network.Dag(no_col_feed, 28, int(float(28)/no_col_feed),\n",
    "               s3_network.Architecture(in1=512,hidden=128, out1=64, out2=10, recur=0), 'AdamOptimizer', no_classes).no_variables()"
   ]
  },
  {
   "cell_type": "code",
   "execution_count": 17,
   "metadata": {},
   "outputs": [
    {
     "data": {
      "text/plain": [
       "575050"
      ]
     },
     "execution_count": 17,
     "metadata": {},
     "output_type": "execute_result"
    }
   ],
   "source": [
    "deep_4l_network.Dag(no_col_feed, 28, int(float(28)/no_col_feed),\n",
    "               deep_4l_network.Architecture(in1=512, in2=256, hidden=128, out1=64, out2=10, recur=0), 'AdamOptimizer', no_classes).no_variables()"
   ]
  },
  {
   "cell_type": "code",
   "execution_count": 22,
   "metadata": {},
   "outputs": [
    {
     "name": "stderr",
     "output_type": "stream",
     "text": [
      "2017-12-29 18:11:42,355 | INFO : convdeep_4l_network.py(__init__ 57) - Output dims after conv and pooling layers\n",
      "2017-12-29 18:11:42,357 | INFO : convdeep_4l_network.py(__init__ 58) - (1, 7, 7, 32)\n"
     ]
    },
    {
     "data": {
      "text/plain": [
       "1212874"
      ]
     },
     "execution_count": 22,
     "metadata": {},
     "output_type": "execute_result"
    }
   ],
   "source": [
    "convdeep_4l_network.Dag(no_col_feed, 28, int(float(28)/no_col_feed),\n",
    "               convdeep_4l_network.Architecture(**network_architecture.parse('conv1:5x5x16=>2x2[2,2]|conv2:5x5x32=>2x2[2,2]|hidden:512|out1:256|out2:10--recur:256')),\n",
    "                    'AdamOptimizer', no_classes).no_variables()"
   ]
  },
  {
   "cell_type": "code",
   "execution_count": null,
   "metadata": {},
   "outputs": [],
   "source": []
  }
 ],
 "metadata": {
  "kernelspec": {
   "display_name": "Python3 Thesis Kernel",
   "language": "python",
   "name": "py3-thesis-kernel"
  },
  "language_info": {
   "codemirror_mode": {
    "name": "ipython",
    "version": 3
   },
   "file_extension": ".py",
   "mimetype": "text/x-python",
   "name": "python",
   "nbconvert_exporter": "python",
   "pygments_lexer": "ipython3",
   "version": "3.5.1"
  },
  "toc": {
   "nav_menu": {},
   "number_sections": true,
   "sideBar": true,
   "skip_h1_title": false,
   "toc_cell": false,
   "toc_position": {},
   "toc_section_display": "block",
   "toc_window_display": false
  }
 },
 "nbformat": 4,
 "nbformat_minor": 2
}
