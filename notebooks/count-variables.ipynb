{
 "cells": [
  {
   "cell_type": "code",
   "execution_count": 18,
   "metadata": {},
   "outputs": [],
   "source": [
    "from model import s2_network, s3_network, convdeep_4l_network, deep_4l_network\n",
    "from utils import network_architecture"
   ]
  },
  {
   "cell_type": "code",
   "execution_count": 16,
   "metadata": {},
   "outputs": [
    {
     "data": {
      "text/plain": [
       "407050"
      ]
     },
     "execution_count": 16,
     "metadata": {},
     "output_type": "execute_result"
    }
   ],
   "source": [
    "no_col_feed = 28\n",
    "no_classes = 10\n",
    "\n"
   ]
  },
  {
   "cell_type": "code",
   "execution_count": 95,
   "metadata": {},
   "outputs": [],
   "source": [
    "def compute_no_variables(seq_len, no_rows, no_cols):\n",
    "    no_col_feed = int(no_cols / seq_len)\n",
    "    \n",
    "    if seq_len == 1:\n",
    "        recur = 0\n",
    "    else:\n",
    "        recur = 128\n",
    "    print('recur %d' % recur)\n",
    "    s2_no = s2_network.Dag(no_col_feed, no_rows, seq_len,\n",
    "               s2_network.Architecture(hidden=768, out=10, recur=recur), 'AdamOptimizer', no_classes).no_variables()\n",
    "    s3_no = s3_network.Dag(no_col_feed, no_rows, seq_len,\n",
    "               s3_network.Architecture(in1=512,hidden=256, out1=64, out2=10, recur=recur), 'AdamOptimizer', no_classes).no_variables()\n",
    "    d4l_no = deep_4l_network.Dag(no_col_feed, no_rows, seq_len,\n",
    "               deep_4l_network.Architecture(in1=512, in2=256, hidden=128, out1=64, out2=10, recur=recur), 'AdamOptimizer', no_classes).no_variables()\n",
    "    \n",
    "    d = network_architecture.parse('conv1:5x5x24=>2x2[2,2]|conv2:3x3x48=>2x2[2,2]|hidden:256|out1:128|out2:10--recur:%d' % recur)\n",
    "    cd4l_no = convdeep_4l_network.Dag(no_col_feed, no_rows, seq_len,\n",
    "               convdeep_4l_network.Architecture(**d),\n",
    "                    'AdamOptimizer', no_classes).no_variables()\n",
    "            \n",
    "    print('s2: %d' % s2_no)\n",
    "    print('s3: %d' % s3_no)\n",
    "    print('deep: %d' % d4l_no)\n",
    "    print('convde: %d' % cd4l_no)"
   ]
  },
  {
   "cell_type": "code",
   "execution_count": 96,
   "metadata": {},
   "outputs": [
    {
     "name": "stdout",
     "output_type": "stream",
     "text": [
      "recur 0\n"
     ]
    },
    {
     "name": "stderr",
     "output_type": "stream",
     "text": [
      "2017-12-29 18:34:40,489 | INFO : convdeep_4l_network.py(__init__ 47) - conv1 shape \n",
      "2017-12-29 18:34:40,489 | INFO : convdeep_4l_network.py(__init__ 48) - [-1, 28, 28, 24]\n",
      "2017-12-29 18:34:40,492 | INFO : convdeep_4l_network.py(__init__ 52) - pool1 shape \n",
      "2017-12-29 18:34:40,493 | INFO : convdeep_4l_network.py(__init__ 53) - [-1, 14, 14, 24]\n",
      "2017-12-29 18:34:40,498 | INFO : convdeep_4l_network.py(__init__ 57) - conv2 shape \n",
      "2017-12-29 18:34:40,499 | INFO : convdeep_4l_network.py(__init__ 58) - [-1, 14, 14, 48]\n",
      "2017-12-29 18:34:40,502 | INFO : convdeep_4l_network.py(__init__ 63) - Output dims after conv and pooling layers\n",
      "2017-12-29 18:34:40,502 | INFO : convdeep_4l_network.py(__init__ 64) - (1, 7, 7, 48)\n"
     ]
    },
    {
     "name": "stdout",
     "output_type": "stream",
     "text": [
      "s2: 610570\n",
      "s3: 550346\n",
      "deep: 575050\n",
      "convde: 647594\n"
     ]
    }
   ],
   "source": [
    "compute_no_variables(1, no_rows=28, no_cols=28)"
   ]
  },
  {
   "cell_type": "code",
   "execution_count": 97,
   "metadata": {},
   "outputs": [
    {
     "name": "stdout",
     "output_type": "stream",
     "text": [
      "recur 128\n"
     ]
    },
    {
     "name": "stderr",
     "output_type": "stream",
     "text": [
      "2017-12-29 18:34:46,257 | INFO : convdeep_4l_network.py(__init__ 47) - conv1 shape \n",
      "2017-12-29 18:34:46,258 | INFO : convdeep_4l_network.py(__init__ 48) - [-1, 28, 7, 24]\n",
      "2017-12-29 18:34:46,261 | INFO : convdeep_4l_network.py(__init__ 52) - pool1 shape \n",
      "2017-12-29 18:34:46,262 | INFO : convdeep_4l_network.py(__init__ 53) - [-1, 14, 4, 24]\n",
      "2017-12-29 18:34:46,272 | INFO : convdeep_4l_network.py(__init__ 57) - conv2 shape \n",
      "2017-12-29 18:34:46,273 | INFO : convdeep_4l_network.py(__init__ 58) - [-1, 14, 4, 48]\n",
      "2017-12-29 18:34:46,277 | INFO : convdeep_4l_network.py(__init__ 63) - Output dims after conv and pooling layers\n",
      "2017-12-29 18:34:46,278 | INFO : convdeep_4l_network.py(__init__ 64) - (1, 7, 2, 48)\n"
     ]
    },
    {
     "name": "stdout",
     "output_type": "stream",
     "text": [
      "s2: 355722\n",
      "s3: 314954\n",
      "deep: 306890\n",
      "convde: 283178\n"
     ]
    }
   ],
   "source": [
    "compute_no_variables(4, no_rows=28, no_cols=28)"
   ]
  },
  {
   "cell_type": "code",
   "execution_count": 98,
   "metadata": {},
   "outputs": [
    {
     "name": "stdout",
     "output_type": "stream",
     "text": [
      "recur 128\n"
     ]
    },
    {
     "name": "stderr",
     "output_type": "stream",
     "text": [
      "2017-12-29 18:34:50,248 | INFO : convdeep_4l_network.py(__init__ 47) - conv1 shape \n",
      "2017-12-29 18:34:50,249 | INFO : convdeep_4l_network.py(__init__ 48) - [-1, 28, 4, 24]\n",
      "2017-12-29 18:34:50,252 | INFO : convdeep_4l_network.py(__init__ 52) - pool1 shape \n",
      "2017-12-29 18:34:50,253 | INFO : convdeep_4l_network.py(__init__ 53) - [-1, 14, 2, 24]\n",
      "2017-12-29 18:34:50,259 | INFO : convdeep_4l_network.py(__init__ 57) - conv2 shape \n",
      "2017-12-29 18:34:50,260 | INFO : convdeep_4l_network.py(__init__ 58) - [-1, 14, 2, 48]\n",
      "2017-12-29 18:34:50,264 | INFO : convdeep_4l_network.py(__init__ 63) - Output dims after conv and pooling layers\n",
      "2017-12-29 18:34:50,265 | INFO : convdeep_4l_network.py(__init__ 64) - (1, 7, 1, 48)\n"
     ]
    },
    {
     "name": "stdout",
     "output_type": "stream",
     "text": [
      "s2: 291210\n",
      "s3: 271946\n",
      "deep: 263882\n",
      "convde: 197162\n"
     ]
    }
   ],
   "source": [
    "compute_no_variables(7, no_rows=28, no_cols=28)"
   ]
  },
  {
   "cell_type": "code",
   "execution_count": 99,
   "metadata": {},
   "outputs": [
    {
     "name": "stdout",
     "output_type": "stream",
     "text": [
      "recur 128\n"
     ]
    },
    {
     "name": "stderr",
     "output_type": "stream",
     "text": [
      "2017-12-29 18:35:40,759 | INFO : convdeep_4l_network.py(__init__ 47) - conv1 shape \n",
      "2017-12-29 18:35:40,760 | INFO : convdeep_4l_network.py(__init__ 48) - [-1, 28, 2, 24]\n",
      "2017-12-29 18:35:40,762 | INFO : convdeep_4l_network.py(__init__ 52) - pool1 shape \n",
      "2017-12-29 18:35:40,763 | INFO : convdeep_4l_network.py(__init__ 53) - [-1, 14, 1, 24]\n",
      "2017-12-29 18:35:40,768 | INFO : convdeep_4l_network.py(__init__ 57) - conv2 shape \n",
      "2017-12-29 18:35:40,769 | INFO : convdeep_4l_network.py(__init__ 58) - [-1, 14, 1, 48]\n",
      "2017-12-29 18:35:40,772 | INFO : convdeep_4l_network.py(__init__ 63) - Output dims after conv and pooling layers\n",
      "2017-12-29 18:35:40,773 | INFO : convdeep_4l_network.py(__init__ 64) - (1, 7, 1, 48)\n"
     ]
    },
    {
     "name": "stdout",
     "output_type": "stream",
     "text": [
      "s2: 248202\n",
      "s3: 243274\n",
      "deep: 235210\n",
      "convde: 197162\n"
     ]
    }
   ],
   "source": [
    "compute_no_variables(14, no_rows=28, no_cols=28)"
   ]
  },
  {
   "cell_type": "code",
   "execution_count": null,
   "metadata": {},
   "outputs": [],
   "source": []
  },
  {
   "cell_type": "code",
   "execution_count": 72,
   "metadata": {},
   "outputs": [
    {
     "data": {
      "text/plain": [
       "<module 'model.convdeep_4l_network' from '/Users/heytitle/projects/heatmapping-tutorial/src/model/convdeep_4l_network.py'>"
      ]
     },
     "execution_count": 72,
     "metadata": {},
     "output_type": "execute_result"
    }
   ],
   "source": [
    "import imp\n",
    "imp.reload(convdeep_4l_network)"
   ]
  },
  {
   "cell_type": "code",
   "execution_count": null,
   "metadata": {},
   "outputs": [],
   "source": []
  },
  {
   "cell_type": "code",
   "execution_count": null,
   "metadata": {},
   "outputs": [],
   "source": []
  },
  {
   "cell_type": "code",
   "execution_count": 15,
   "metadata": {},
   "outputs": [
    {
     "data": {
      "text/plain": [
       "476490"
      ]
     },
     "execution_count": 15,
     "metadata": {},
     "output_type": "execute_result"
    }
   ],
   "source": [
    "s3_network.Dag(no_col_feed, 28, int(float(28)/no_col_feed),\n",
    "               s3_network.Architecture(in1=512,hidden=128, out1=64, out2=10, recur=0), 'AdamOptimizer', no_classes).no_variables()"
   ]
  },
  {
   "cell_type": "code",
   "execution_count": null,
   "metadata": {},
   "outputs": [],
   "source": [
    "s3_network.Dag(no_col_feed, 28, int(float(28)/no_col_feed),\n",
    "               s3_network.Architecture(in1=512,hidden=128, out1=64, out2=10, recur=0), 'AdamOptimizer', no_classes).no_variables()"
   ]
  },
  {
   "cell_type": "code",
   "execution_count": 17,
   "metadata": {},
   "outputs": [
    {
     "data": {
      "text/plain": [
       "575050"
      ]
     },
     "execution_count": 17,
     "metadata": {},
     "output_type": "execute_result"
    }
   ],
   "source": [
    "deep_4l_network.Dag(no_col_feed, 28, int(float(28)/no_col_feed),\n",
    "               deep_4l_network.Architecture(in1=512, in2=256, hidden=128, out1=64, out2=10, recur=0), 'AdamOptimizer', no_classes).no_variables()"
   ]
  },
  {
   "cell_type": "code",
   "execution_count": 22,
   "metadata": {},
   "outputs": [
    {
     "name": "stderr",
     "output_type": "stream",
     "text": [
      "2017-12-29 18:11:42,355 | INFO : convdeep_4l_network.py(__init__ 57) - Output dims after conv and pooling layers\n",
      "2017-12-29 18:11:42,357 | INFO : convdeep_4l_network.py(__init__ 58) - (1, 7, 7, 32)\n"
     ]
    },
    {
     "data": {
      "text/plain": [
       "1212874"
      ]
     },
     "execution_count": 22,
     "metadata": {},
     "output_type": "execute_result"
    }
   ],
   "source": [
    "convdeep_4l_network.Dag(no_col_feed, 28, int(float(28)/no_col_feed),\n",
    "               convdeep_4l_network.Architecture(**network_architecture.parse('conv1:5x5x16=>2x2[2,2]|conv2:5x5x32=>2x2[2,2]|hidden:512|out1:256|out2:10--recur:256')),\n",
    "                    'AdamOptimizer', no_classes).no_variables()"
   ]
  },
  {
   "cell_type": "code",
   "execution_count": null,
   "metadata": {},
   "outputs": [],
   "source": []
  }
 ],
 "metadata": {
  "kernelspec": {
   "display_name": "Python3 Thesis Kernel",
   "language": "python",
   "name": "py3-thesis-kernel"
  },
  "language_info": {
   "codemirror_mode": {
    "name": "ipython",
    "version": 3
   },
   "file_extension": ".py",
   "mimetype": "text/x-python",
   "name": "python",
   "nbconvert_exporter": "python",
   "pygments_lexer": "ipython3",
   "version": "3.5.1"
  },
  "toc": {
   "nav_menu": {},
   "number_sections": true,
   "sideBar": true,
   "skip_h1_title": false,
   "toc_cell": false,
   "toc_position": {},
   "toc_section_display": "block",
   "toc_window_display": false
  }
 },
 "nbformat": 4,
 "nbformat_minor": 2
}
