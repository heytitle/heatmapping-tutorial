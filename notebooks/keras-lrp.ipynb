{
 "cells": [
  {
   "cell_type": "code",
   "execution_count": 134,
   "metadata": {},
   "outputs": [],
   "source": [
    "from __future__ import print_function\n",
    "\n",
    "import keras\n",
    "from keras.datasets import mnist\n",
    "from keras.models import Sequential, Model\n",
    "from keras.layers import Dense, Dropout, Lambda\n",
    "from keras import layers as KL\n",
    "from keras.optimizers import RMSprop\n",
    "\n",
    "from keras import backend as K\n"
   ]
  },
  {
   "cell_type": "code",
   "execution_count": 233,
   "metadata": {},
   "outputs": [],
   "source": [
    "import matplotlib.pyplot as plt\n"
   ]
  },
  {
   "cell_type": "code",
   "execution_count": 246,
   "metadata": {},
   "outputs": [],
   "source": [
    "\n",
    "def plot_digits(data, title=\"\", show_title=False):\n",
    "    plt.figure(figsize=(16,2))\n",
    "    data = data.reshape(-1, 28, 28)\n",
    "    for i in range(data.shape[0]):\n",
    "        plt.subplot(1,16, i+1)\n",
    "        plt.imshow(data[i,:,:], cmap='Reds')\n",
    "        plt.xticks([])\n",
    "        plt.yticks([])\n",
    "    if show_title:\n",
    "        plt.suptitle(title)\n",
    "    plt.show()"
   ]
  },
  {
   "cell_type": "code",
   "execution_count": 248,
   "metadata": {},
   "outputs": [
    {
     "data": {
      "image/png": "[encoded data removed]",
      "text/plain": [
       "<matplotlib.figure.Figure at 0x129ba6550>"
      ]
     },
     "metadata": {},
     "output_type": "display_data"
    }
   ],
   "source": [
    "plot_digits(x_train[:10,:])"
   ]
  },
  {
   "cell_type": "markdown",
   "metadata": {},
   "source": [
    "# Define Layer"
   ]
  },
  {
   "cell_type": "code",
   "execution_count": 267,
   "metadata": {},
   "outputs": [],
   "source": [
    "# class LRPSequential(Sequential):\n",
    "#     def __init__(self, **kwargs):\n",
    "#         super(LRPSequential, self).__init__(**kwargs)\n",
    "DIVISION_ADJUSTMENT = 0.0001\n",
    "class LRPDense(Dense):\n",
    "\n",
    "    def __init__(self, *args, **kwargs):\n",
    "        self.lrp_rule = kwargs['lrp_rule']\n",
    "        del kwargs['lrp_rule']\n",
    "        super(LRPDense, self).__init__(*args, **kwargs)\n",
    "\n",
    "    def build(self, input_shape):\n",
    "        super(LRPDense, self).build(input_shape)  # Be sure to call this somewhere!\n",
    "\n",
    "    def call(self, x):\n",
    "        output = super(LRPDense, self).call(x)        \n",
    "        return output\n",
    "\n",
    "    def compute_output_shape(self, input_shape):\n",
    "        return super(LRPDense, self).compute_output_shape(input_shape)\n",
    "    \n",
    "    def rel_prop(self, x, relevance):\n",
    "        return getattr(self, 'rel_prop_%s' % self.lrp_rule)(x, relevance)\n",
    "\n",
    "    def rel_prop_zplus(self, x_in, relevance):\n",
    "\n",
    "        def compute(args):\n",
    "            x, rel = args\n",
    "            v = K.maximum(0.0, self.kernel)\n",
    "\n",
    "            z = K.dot(x, v) + DIVISION_ADJUSTMENT\n",
    "            s = rel / z\n",
    "            c = K.dot(s, K.transpose(v))\n",
    "            return c\n",
    "\n",
    "        return Lambda(compute, output_shape=lambda x: x)([x_in, relevance])\n",
    "\n",
    "    def rel_prop_beta(self, x_in, relevance, lowest=-1, highest=1):\n",
    "        def compute(args):\n",
    "            x, rel = args\n",
    "            w, v, u = self.kernel, K.maximum(0.0, self.kernel), K.minimum(0.0, self.kernel)\n",
    "            l, h = x * 0 + lowest, x * 0 + highest\n",
    "\n",
    "            z = K.dot(x, w) - (K.dot(l, v) + K.dot(h, u)) + DIVISION_ADJUSTMENT\n",
    "            s = rel / z\n",
    "            return x * K.dot(s, K.transpose(w))\\\n",
    "                   - (l * K.dot(s, K.transpose(v)) + h * K.dot(s, K.transpose(u)))\n",
    "        print('sss')\n",
    "        return Lambda(compute, output_shape=lambda x: x)([x_in, relevance])\n",
    "    \n",
    "#     def rel_prop_beta(self, x_in, relevance, lowest=-1, highest=1):\n",
    "#         def compute(args):\n",
    "#             x, rel = args\n",
    "#             w, v, u = self.kernel, K.maximum(0.0, self.kernel), K.minimum(0.0, self.kernel)\n",
    "#             l, h = x * 0 + lowest, x * 0 + highest\n",
    "\n",
    "#             z = K.dot(x, w) - (K.dot(l, v) + K.dot(h, u)) + DIVISION_ADJUSTMENT\n",
    "#             s = rel / z\n",
    "#             return x * K.dot(s, K.transpose(w))\\\n",
    "#                    - (l * K.dot(s, K.transpose(v)) + h * K.dot(s, K.transpose(u)))\n",
    "        \n",
    "#         return Lambda(compute, output_shape=lambda x: x)([x_in, relevance])\n",
    "    def __repr__(self):\n",
    "        return '%s-%s' % (type(self).__name__, self.lrp_rule)"
   ]
  },
  {
   "cell_type": "code",
   "execution_count": 268,
   "metadata": {},
   "outputs": [
    {
     "name": "stdout",
     "output_type": "stream",
     "text": [
      "60000 train samples\n",
      "10000 test samples\n",
      "_________________________________________________________________\n",
      "Layer (type)                 Output Shape              Param #   \n",
      "=================================================================\n",
      "lrp_dense_78 (LRPDense)      (None, 512)               401920    \n",
      "_________________________________________________________________\n",
      "lrp_dense_79 (LRPDense)      (None, 512)               262656    \n",
      "_________________________________________________________________\n",
      "lrp_dense_80 (LRPDense)      (None, 10)                5130      \n",
      "=================================================================\n",
      "Total params: 669,706\n",
      "Trainable params: 669,706\n",
      "Non-trainable params: 0\n",
      "_________________________________________________________________\n"
     ]
    }
   ],
   "source": [
    "\n",
    "batch_size = 128\n",
    "num_classes = 10\n",
    "epochs = 5\n",
    "\n",
    "# the data, shuffled and split between train and test sets\n",
    "(x_train, y_train), (x_test, y_test) = mnist.load_data()\n",
    "\n",
    "x_train = x_train.reshape(60000, 784)\n",
    "x_test = x_test.reshape(10000, 784)\n",
    "x_train = x_train.astype('float32')\n",
    "x_test = x_test.astype('float32')\n",
    "x_train /= 255\n",
    "x_test /= 255\n",
    "print(x_train.shape[0], 'train samples')\n",
    "print(x_test.shape[0], 'test samples')\n",
    "\n",
    "# convert class vectors to binary class matrices\n",
    "y_train = keras.utils.to_categorical(y_train, num_classes)\n",
    "y_test = keras.utils.to_categorical(y_test, num_classes)\n",
    "\n",
    "model = Sequential()\n",
    "model.add(LRPDense(512, lrp_rule='beta', activation='relu', input_shape=(784,)))\n",
    "# model.add(Dropout(0.2))\n",
    "model.add(LRPDense(512, lrp_rule='zplus', activation='relu'))\n",
    "# model.add(Dropout(0.2))\n",
    "model.add(LRPDense(num_classes, lrp_rule='zplus', activation='softmax'))\n",
    "\n",
    "model.summary()\n",
    "\n",
    "model.compile(loss='categorical_crossentropy',\n",
    "              optimizer=RMSprop(),\n",
    "              metrics=['accuracy'])\n"
   ]
  },
  {
   "cell_type": "code",
   "execution_count": 178,
   "metadata": {},
   "outputs": [
    {
     "data": {
      "text/plain": [
       "<tf.Tensor 'dense_23/BiasAdd:0' shape=(?, 64) dtype=float32>"
      ]
     },
     "execution_count": 178,
     "metadata": {},
     "output_type": "execute_result"
    }
   ],
   "source": [
    "a = KL.Input(shape=(32,))\n",
    "b = Dense(64)(a)\n",
    "model = Model(inputs=a, outputs=b)"
   ]
  },
  {
   "cell_type": "code",
   "execution_count": null,
   "metadata": {},
   "outputs": [],
   "source": [
    "\n",
    "\n",
    "def antirectifier(x):\n",
    "    x -= K.mean(x, axis=1, keepdims=True)\n",
    "    x = K.l2_normalize(x, axis=1)\n",
    "    pos = K.relu(x)\n",
    "    neg = K.relu(-x)\n",
    "    return K.concatenate([pos, neg], axis=1)\n",
    "\n",
    "def antirectifier_output_shape(input_shape):\n",
    "    shape = list(input_shape)\n",
    "    assert len(shape) == 2  # only valid for 2D tensors\n",
    "    shape[-1] *= 2\n",
    "    return tuple(shape)\n",
    "\n",
    "model.add(Lambda(antirectifier,\n",
    "                 output_shape=antirectifier_output_shape))"
   ]
  },
  {
   "cell_type": "code",
   "execution_count": 165,
   "metadata": {},
   "outputs": [
    {
     "data": {
      "text/plain": [
       "<tf.Tensor 'lrp_dense_53/Softmax:0' shape=(?, 10) dtype=float32>"
      ]
     },
     "execution_count": 165,
     "metadata": {},
     "output_type": "execute_result"
    }
   ],
   "source": [
    "model.output"
   ]
  },
  {
   "cell_type": "code",
   "execution_count": 257,
   "metadata": {},
   "outputs": [],
   "source": [
    "layers = model.layers\n",
    "r32 = model.layers[-1].rel_prop_zplus(layers[-2].output, layers[-1].output)\n",
    "r12 = model.layers[-2].rel_prop_zplus(layers[-3].output, r32)\n",
    "r01 = model.layers[-3].rel_prop_zplus(model.input, r12)\n",
    "viz_model = Model(inputs=model.input, outputs=r01)"
   ]
  },
  {
   "cell_type": "code",
   "execution_count": 258,
   "metadata": {},
   "outputs": [
    {
     "data": {
      "text/plain": [
       "<tf.Tensor 'lambda_81/MatMul_1:0' shape=(?, 784) dtype=float32>"
      ]
     },
     "execution_count": 258,
     "metadata": {},
     "output_type": "execute_result"
    }
   ],
   "source": [
    "r01"
   ]
  },
  {
   "cell_type": "code",
   "execution_count": 271,
   "metadata": {},
   "outputs": [
    {
     "name": "stdout",
     "output_type": "stream",
     "text": [
      "[LRPDense-beta, LRPDense-zplus, LRPDense-zplus]\n",
      "[<tf.Tensor 'lrp_dense_78_input:0' shape=(?, 784) dtype=float32>, <tf.Tensor 'lrp_dense_78/Relu:0' shape=(?, 512) dtype=float32>, <tf.Tensor 'lrp_dense_79/Relu:0' shape=(?, 512) dtype=float32>, <tf.Tensor 'lrp_dense_80/Softmax:0' shape=(?, 10) dtype=float32>]\n",
      "[None, None, None, <tf.Tensor 'lrp_dense_80/Softmax:0' shape=(?, 10) dtype=float32>]\n",
      "[LRPDense-beta, LRPDense-zplus, LRPDense-zplus]\n",
      "-1\n",
      "[None, None, <tf.Tensor 'lambda_88/MatMul_1:0' shape=(?, 512) dtype=float32>, <tf.Tensor 'lrp_dense_80/Softmax:0' shape=(?, 10) dtype=float32>]\n",
      "-2\n",
      "[None, <tf.Tensor 'lambda_89/MatMul_1:0' shape=(?, 512) dtype=float32>, <tf.Tensor 'lambda_88/MatMul_1:0' shape=(?, 512) dtype=float32>, <tf.Tensor 'lrp_dense_80/Softmax:0' shape=(?, 10) dtype=float32>]\n",
      "-3\n",
      "sss\n",
      "[<tf.Tensor 'lambda_90/sub_1:0' shape=(?, 784) dtype=float32>, <tf.Tensor 'lambda_89/MatMul_1:0' shape=(?, 512) dtype=float32>, <tf.Tensor 'lambda_88/MatMul_1:0' shape=(?, 512) dtype=float32>, <tf.Tensor 'lrp_dense_80/Softmax:0' shape=(?, 10) dtype=float32>]\n",
      "----\n"
     ]
    }
   ],
   "source": [
    "def lrp_explain(model):\n",
    "    layers = model.layers\n",
    "    print(layers)\n",
    "    outputs = [model.input] + [ l.output for l in layers ]\n",
    "    relevances = [None]*(len(outputs))\n",
    "    relevances[-1] = layers[-1].output\n",
    "    print(outputs)\n",
    "    print(relevances)\n",
    "    print(model.layers)\n",
    "    for i in range(-1, -len(layers)-1, -1):\n",
    "        print(i)\n",
    "        \n",
    "        relevances[i-1] = layers[i].rel_prop(outputs[i-1], relevances[i])\n",
    "        print(relevances)\n",
    "#         print()\n",
    "    print('----')\n",
    "    return relevances\n",
    "\n",
    "heatmap = lrp_explain(model)"
   ]
  },
  {
   "cell_type": "code",
   "execution_count": 285,
   "metadata": {},
   "outputs": [],
   "source": [
    "# vis = Model(inputs=model.input, outputs=heatmap.ouptu)\n",
    "viz = Model(inputs=model.input, outputs=heatmap[0])"
   ]
  },
  {
   "cell_type": "code",
   "execution_count": 286,
   "metadata": {},
   "outputs": [],
   "source": [
    "h = viz.predict(x_train[:5,:])"
   ]
  },
  {
   "cell_type": "code",
   "execution_count": 287,
   "metadata": {},
   "outputs": [
    {
     "data": {
      "text/plain": [
       "(5, 784)"
      ]
     },
     "execution_count": 287,
     "metadata": {},
     "output_type": "execute_result"
    }
   ],
   "source": [
    "h.shape"
   ]
  },
  {
   "cell_type": "code",
   "execution_count": 288,
   "metadata": {},
   "outputs": [
    {
     "data": {
      "image/png": "[encoded data removed]",
      "text/plain": [
       "<matplotlib.figure.Figure at 0x1299585f8>"
      ]
     },
     "metadata": {},
     "output_type": "display_data"
    }
   ],
   "source": [
    "plot_digits(h)"
   ]
  },
  {
   "cell_type": "code",
   "execution_count": 281,
   "metadata": {},
   "outputs": [
    {
     "name": "stdout",
     "output_type": "stream",
     "text": [
      "Train on 60000 samples, validate on 10000 samples\n",
      "Epoch 1/5\n",
      "60000/60000 [==============================] - 5s 83us/step - loss: 0.0230 - acc: 0.9930 - val_loss: 0.1066 - val_acc: 0.9763\n",
      "Epoch 2/5\n",
      "60000/60000 [==============================] - 5s 80us/step - loss: 0.0184 - acc: 0.9945 - val_loss: 0.0878 - val_acc: 0.9821\n",
      "Epoch 3/5\n",
      "60000/60000 [==============================] - 5s 82us/step - loss: 0.0160 - acc: 0.9951 - val_loss: 0.1105 - val_acc: 0.9799\n",
      "Epoch 4/5\n",
      "60000/60000 [==============================] - 5s 88us/step - loss: 0.0127 - acc: 0.9960 - val_loss: 0.1098 - val_acc: 0.9804\n",
      "Epoch 5/5\n",
      "60000/60000 [==============================] - 5s 86us/step - loss: 0.0115 - acc: 0.9965 - val_loss: 0.1106 - val_acc: 0.9814\n",
      "Test loss: 0.110590703013\n",
      "Test accuracy: 0.9814\n"
     ]
    }
   ],
   "source": [
    "\n",
    "history = model.fit(x_train, y_train,\n",
    "                    batch_size=batch_size,\n",
    "                    epochs=epochs,\n",
    "                    verbose=1,\n",
    "                    validation_data=(x_test, y_test))\n",
    "score = model.evaluate(x_test, y_test, verbose=0)\n",
    "print('Test loss:', score[0])\n",
    "print('Test accuracy:', score[1])"
   ]
  },
  {
   "cell_type": "code",
   "execution_count": 99,
   "metadata": {},
   "outputs": [
    {
     "ename": "TypeError",
     "evalue": "Output tensors to a Model must be Keras tensors. Found: Tensor(\"sub_1:0\", shape=(?, 784), dtype=float32)",
     "output_type": "error",
     "traceback": [
      "\u001b[0;31m---------------------------------------------------------------------------\u001b[0m",
      "\u001b[0;31mTypeError\u001b[0m                                 Traceback (most recent call last)",
      "\u001b[0;32m<ipython-input-99-a5a05c0f6326>\u001b[0m in \u001b[0;36m<module>\u001b[0;34m()\u001b[0m\n\u001b[0;32m----> 1\u001b[0;31m \u001b[0mviz_model\u001b[0m \u001b[0;34m=\u001b[0m \u001b[0mModel\u001b[0m\u001b[0;34m(\u001b[0m\u001b[0minputs\u001b[0m\u001b[0;34m=\u001b[0m\u001b[0mmodel\u001b[0m\u001b[0;34m.\u001b[0m\u001b[0minput\u001b[0m\u001b[0;34m,\u001b[0m \u001b[0moutputs\u001b[0m\u001b[0;34m=\u001b[0m\u001b[0mheatmap\u001b[0m\u001b[0;34m)\u001b[0m\u001b[0;34m\u001b[0m\u001b[0m\n\u001b[0m",
      "\u001b[0;32m~/projects/heatmapping-tutorial/venv/lib/python3.5/site-packages/keras/legacy/interfaces.py\u001b[0m in \u001b[0;36mwrapper\u001b[0;34m(*args, **kwargs)\u001b[0m\n\u001b[1;32m     85\u001b[0m                 warnings.warn('Update your `' + object_name +\n\u001b[1;32m     86\u001b[0m                               '` call to the Keras 2 API: ' + signature, stacklevel=2)\n\u001b[0;32m---> 87\u001b[0;31m             \u001b[0;32mreturn\u001b[0m \u001b[0mfunc\u001b[0m\u001b[0;34m(\u001b[0m\u001b[0;34m*\u001b[0m\u001b[0margs\u001b[0m\u001b[0;34m,\u001b[0m \u001b[0;34m**\u001b[0m\u001b[0mkwargs\u001b[0m\u001b[0;34m)\u001b[0m\u001b[0;34m\u001b[0m\u001b[0m\n\u001b[0m\u001b[1;32m     88\u001b[0m         \u001b[0mwrapper\u001b[0m\u001b[0;34m.\u001b[0m\u001b[0m_original_function\u001b[0m \u001b[0;34m=\u001b[0m \u001b[0mfunc\u001b[0m\u001b[0;34m\u001b[0m\u001b[0m\n\u001b[1;32m     89\u001b[0m         \u001b[0;32mreturn\u001b[0m \u001b[0mwrapper\u001b[0m\u001b[0;34m\u001b[0m\u001b[0m\n",
      "\u001b[0;32m~/projects/heatmapping-tutorial/venv/lib/python3.5/site-packages/keras/engine/topology.py\u001b[0m in \u001b[0;36m__init__\u001b[0;34m(self, inputs, outputs, name)\u001b[0m\n\u001b[1;32m   1577\u001b[0m                 \u001b[0mcls_name\u001b[0m \u001b[0;34m=\u001b[0m \u001b[0mself\u001b[0m\u001b[0;34m.\u001b[0m\u001b[0m__class__\u001b[0m\u001b[0;34m.\u001b[0m\u001b[0m__name__\u001b[0m\u001b[0;34m\u001b[0m\u001b[0m\n\u001b[1;32m   1578\u001b[0m                 raise TypeError('Output tensors to a ' + cls_name + ' must be '\n\u001b[0;32m-> 1579\u001b[0;31m                                 'Keras tensors. Found: ' + str(x))\n\u001b[0m\u001b[1;32m   1580\u001b[0m         \u001b[0;31m# Build self.output_layers:\u001b[0m\u001b[0;34m\u001b[0m\u001b[0;34m\u001b[0m\u001b[0m\n\u001b[1;32m   1581\u001b[0m         \u001b[0;32mfor\u001b[0m \u001b[0mx\u001b[0m \u001b[0;32min\u001b[0m \u001b[0mself\u001b[0m\u001b[0;34m.\u001b[0m\u001b[0moutputs\u001b[0m\u001b[0;34m:\u001b[0m\u001b[0;34m\u001b[0m\u001b[0m\n",
      "\u001b[0;31mTypeError\u001b[0m: Output tensors to a Model must be Keras tensors. Found: Tensor(\"sub_1:0\", shape=(?, 784), dtype=float32)"
     ]
    }
   ],
   "source": [
    "viz_model = Model(inputs=model.input, outputs=heatmap)"
   ]
  },
  {
   "cell_type": "code",
   "execution_count": 98,
   "metadata": {},
   "outputs": [
    {
     "data": {
      "text/plain": [
       "array([[ 0.11384565,  0.09688398,  0.08379211,  0.11497436,  0.09848945,\n",
       "         0.08834918,  0.14573166,  0.05893434,  0.10097259,  0.09802666],\n",
       "       [ 0.10312912,  0.09936639,  0.08958689,  0.10862304,  0.09725285,\n",
       "         0.10144849,  0.0846601 ,  0.05637852,  0.12093848,  0.1386161 ],\n",
       "       [ 0.09255937,  0.10434079,  0.06701206,  0.14013456,  0.09003647,\n",
       "         0.08171756,  0.11649356,  0.05378961,  0.11928923,  0.13462685],\n",
       "       [ 0.12125329,  0.12312869,  0.07909529,  0.11854502,  0.07500505,\n",
       "         0.09595336,  0.10659783,  0.07797137,  0.0812717 ,  0.12117846],\n",
       "       [ 0.11129158,  0.0960509 ,  0.0758284 ,  0.11121193,  0.08253022,\n",
       "         0.08595848,  0.1358384 ,  0.07327467,  0.11887516,  0.10914025]], dtype=float32)"
      ]
     },
     "execution_count": 98,
     "metadata": {},
     "output_type": "execute_result"
    }
   ],
   "source": [
    "viz_model.predict(x_train[:5,:])"
   ]
  },
  {
   "cell_type": "code",
   "execution_count": 94,
   "metadata": {},
   "outputs": [
    {
     "data": {
      "text/plain": [
       "<tf.Tensor 'lrp_dense_26/Softmax:0' shape=(?, 10) dtype=float32>"
      ]
     },
     "execution_count": 94,
     "metadata": {},
     "output_type": "execute_result"
    }
   ],
   "source": [
    "model.output"
   ]
  },
  {
   "cell_type": "code",
   "execution_count": 96,
   "metadata": {},
   "outputs": [
    {
     "data": {
      "text/plain": [
       "<tf.Tensor 'sub_1:0' shape=(?, 784) dtype=float32>"
      ]
     },
     "execution_count": 96,
     "metadata": {},
     "output_type": "execute_result"
    }
   ],
   "source": [
    "heatmap"
   ]
  },
  {
   "cell_type": "code",
   "execution_count": 101,
   "metadata": {},
   "outputs": [
    {
     "data": {
      "text/plain": [
       "(LRPDense-zplus, 0, 0)"
      ]
     },
     "execution_count": 101,
     "metadata": {},
     "output_type": "execute_result"
    }
   ],
   "source": [
    "model.output._keras_history"
   ]
  },
  {
   "cell_type": "code",
   "execution_count": 102,
   "metadata": {},
   "outputs": [
    {
     "ename": "AttributeError",
     "evalue": "'Tensor' object has no attribute '_keras_history'",
     "output_type": "error",
     "traceback": [
      "\u001b[0;31m---------------------------------------------------------------------------\u001b[0m",
      "\u001b[0;31mAttributeError\u001b[0m                            Traceback (most recent call last)",
      "\u001b[0;32m<ipython-input-102-a2af2eec8640>\u001b[0m in \u001b[0;36m<module>\u001b[0;34m()\u001b[0m\n\u001b[0;32m----> 1\u001b[0;31m \u001b[0mheatmap\u001b[0m\u001b[0;34m.\u001b[0m\u001b[0m_keras_history\u001b[0m\u001b[0;34m\u001b[0m\u001b[0m\n\u001b[0m",
      "\u001b[0;31mAttributeError\u001b[0m: 'Tensor' object has no attribute '_keras_history'"
     ]
    }
   ],
   "source": [
    "heatmap._keras_history"
   ]
  },
  {
   "cell_type": "code",
   "execution_count": 104,
   "metadata": {},
   "outputs": [
    {
     "ename": "TypeError",
     "evalue": "eval() got an unexpected keyword argument 'feed_dict'",
     "output_type": "error",
     "traceback": [
      "\u001b[0;31m---------------------------------------------------------------------------\u001b[0m",
      "\u001b[0;31mTypeError\u001b[0m                                 Traceback (most recent call last)",
      "\u001b[0;32m<ipython-input-104-f13af6d1be10>\u001b[0m in \u001b[0;36m<module>\u001b[0;34m()\u001b[0m\n\u001b[0;32m----> 1\u001b[0;31m \u001b[0mK\u001b[0m\u001b[0;34m.\u001b[0m\u001b[0meval\u001b[0m\u001b[0;34m(\u001b[0m\u001b[0mheatmap\u001b[0m\u001b[0;34m,\u001b[0m \u001b[0mfeed_dict\u001b[0m\u001b[0;34m=\u001b[0m\u001b[0;34m{\u001b[0m \u001b[0mmodel\u001b[0m\u001b[0;34m.\u001b[0m\u001b[0minput\u001b[0m \u001b[0;34m:\u001b[0m \u001b[0mx_train\u001b[0m\u001b[0;34m[\u001b[0m\u001b[0;34m:\u001b[0m\u001b[0;36m5\u001b[0m\u001b[0;34m,\u001b[0m \u001b[0;34m:\u001b[0m\u001b[0;34m]\u001b[0m\u001b[0;34m}\u001b[0m\u001b[0;34m)\u001b[0m\u001b[0;34m\u001b[0m\u001b[0m\n\u001b[0m",
      "\u001b[0;31mTypeError\u001b[0m: eval() got an unexpected keyword argument 'feed_dict'"
     ]
    }
   ],
   "source": [
    "K.eval(heatmap, feed_dict={ model.input : x_train[:5, :]})"
   ]
  },
  {
   "cell_type": "code",
   "execution_count": null,
   "metadata": {},
   "outputs": [],
   "source": []
  }
 ],
 "metadata": {
  "kernelspec": {
   "display_name": "Python3 Thesis Kernel",
   "language": "python",
   "name": "py3-thesis-kernel"
  },
  "language_info": {
   "codemirror_mode": {
    "name": "ipython",
    "version": 3
   },
   "file_extension": ".py",
   "mimetype": "text/x-python",
   "name": "python",
   "nbconvert_exporter": "python",
   "pygments_lexer": "ipython3",
   "version": "3.5.1"
  },
  "toc": {
   "nav_menu": {},
   "number_sections": true,
   "sideBar": true,
   "skip_h1_title": false,
   "toc_cell": false,
   "toc_position": {},
   "toc_section_display": "block",
   "toc_window_display": true
  }
 },
 "nbformat": 4,
 "nbformat_minor": 2
}
