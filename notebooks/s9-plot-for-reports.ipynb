{
 "cells": [
  {
   "cell_type": "code",
   "execution_count": 1,
   "metadata": {},
   "outputs": [],
   "source": [
    "from skimage.measure import block_reduce\n",
    "import numpy as np\n",
    "\n",
    "import logging\n",
    "\n",
    "from utils import logging as lg\n",
    "lg.set_logging(logging.ERROR)\n",
    "from model import provider, heatmap_evaluation\n",
    "import matplotlib.pyplot as plt\n",
    "\n"
   ]
  },
  {
   "cell_type": "code",
   "execution_count": 2,
   "metadata": {},
   "outputs": [],
   "source": [
    "from utils import data_provider"
   ]
  },
  {
   "cell_type": "code",
   "execution_count": 3,
   "metadata": {},
   "outputs": [],
   "source": [
    "dataset = {\n",
    "    'mnist': data_provider.MNISTData(dir_path='../data/mnist'),\n",
    "    'fashion-mnist': data_provider.FashionMNISTData(dir_path='../data/fashion-mnist'),\n",
    "    'ufi-cropped': data_provider.UFICroppedData(dir_path='../data/ufi-cropped')\n",
    "}"
   ]
  },
  {
   "cell_type": "code",
   "execution_count": 4,
   "metadata": {},
   "outputs": [],
   "source": [
    "def model_path(network, dataset, seq):\n",
    "    return '../final-models/%s_network-%s-seq-%d' % (network, dataset, seq)"
   ]
  },
  {
   "cell_type": "code",
   "execution_count": 61,
   "metadata": {},
   "outputs": [],
   "source": [
    "def plot_apoc(networks, dataset_name, seq):\n",
    "    data = dataset[dataset_name]\n",
    "    fig = plt.figure()\n",
    "\n",
    "    ax = fig.add_subplot(111)\n",
    "    ax.spines['top'].set_visible(False)\n",
    "    ax.spines['right'].set_visible(False)\n",
    "\n",
    "    labels = []\n",
    "    last_values = []\n",
    "    for m in networks:\n",
    "        path = model_path(m, dataset_name, seq)\n",
    "        model_obj = provider.load(model_path(m, dataset_name, seq))\n",
    "        apoc = heatmap_evaluation.aopc(model_obj, data.test2d.x[:10])   \n",
    "        name = provider.network_nickname(model_obj._.architecture_name)\n",
    "        ax.plot(apoc, label=name)\n",
    "\n",
    "        labels.append(name)\n",
    "        last_values.append(apoc[-1])\n",
    "    sorted_indices = np.argsort(-np.array(last_values))\n",
    "    labels = np.array(labels)[sorted_indices]\n",
    "    last_values = np.array(last_values)[sorted_indices]\n",
    "    position = np.copy(last_values)\n",
    "    ratio = 0.2\n",
    "    for i in range(1, len(sorted_indices)):\n",
    "        if position[i-1] - position[i] < ratio:\n",
    "            position[i] = position[i] - ratio\n",
    "                      \n",
    "    for label, value, pos in zip(labels, last_values, position):\n",
    "        ax.annotate(label,\n",
    "                    xy=(len(apoc)-1,value),\n",
    "                    xytext=(len(apoc)+1,pos),\n",
    "                    textcoords='data',\n",
    "                    arrowprops=dict(arrowstyle=\"->\",connectionstyle=\"arc3\")\n",
    "                   )\n",
    "    plt.legend()\n",
    "    plt.tight_layout()\n",
    "    plt.title('AOPC of %s with seq-length=%d' % (dataset_name, seq))\n",
    "    plt.show()"
   ]
  },
  {
   "cell_type": "code",
   "execution_count": 62,
   "metadata": {},
   "outputs": [
    {
     "name": "stdout",
     "output_type": "stream",
     "text": [
      "INFO:tensorflow:Restoring parameters from ../final-models/s2_network-mnist-seq-4/model.ckpt\n"
     ]
    },
    {
     "name": "stderr",
     "output_type": "stream",
     "text": [
      "2017-12-30 21:23:18,854 | INFO : tf_logging.py(info 82) - Restoring parameters from ../final-models/s2_network-mnist-seq-4/model.ckpt\n"
     ]
    },
    {
     "name": "stdout",
     "output_type": "stream",
     "text": [
      "INFO:tensorflow:Restoring parameters from ../final-models/s2_network-mnist-seq-4/model.ckpt\n"
     ]
    },
    {
     "name": "stderr",
     "output_type": "stream",
     "text": [
      "2017-12-30 21:23:19,797 | INFO : tf_logging.py(info 82) - Restoring parameters from ../final-models/s2_network-mnist-seq-4/model.ckpt\n"
     ]
    },
    {
     "name": "stdout",
     "output_type": "stream",
     "text": [
      "INFO:tensorflow:Restoring parameters from ../final-models/s3_network-mnist-seq-4/model.ckpt\n"
     ]
    },
    {
     "name": "stderr",
     "output_type": "stream",
     "text": [
      "2017-12-30 21:23:21,897 | INFO : tf_logging.py(info 82) - Restoring parameters from ../final-models/s3_network-mnist-seq-4/model.ckpt\n"
     ]
    },
    {
     "name": "stdout",
     "output_type": "stream",
     "text": [
      "INFO:tensorflow:Restoring parameters from ../final-models/s3_network-mnist-seq-4/model.ckpt\n"
     ]
    },
    {
     "name": "stderr",
     "output_type": "stream",
     "text": [
      "2017-12-30 21:23:23,372 | INFO : tf_logging.py(info 82) - Restoring parameters from ../final-models/s3_network-mnist-seq-4/model.ckpt\n"
     ]
    },
    {
     "name": "stdout",
     "output_type": "stream",
     "text": [
      "INFO:tensorflow:Restoring parameters from ../final-models/deep_4l_network-mnist-seq-4/model.ckpt\n"
     ]
    },
    {
     "name": "stderr",
     "output_type": "stream",
     "text": [
      "2017-12-30 21:23:25,981 | INFO : tf_logging.py(info 82) - Restoring parameters from ../final-models/deep_4l_network-mnist-seq-4/model.ckpt\n"
     ]
    },
    {
     "name": "stdout",
     "output_type": "stream",
     "text": [
      "INFO:tensorflow:Restoring parameters from ../final-models/deep_4l_network-mnist-seq-4/model.ckpt\n"
     ]
    },
    {
     "name": "stderr",
     "output_type": "stream",
     "text": [
      "2017-12-30 21:23:27,799 | INFO : tf_logging.py(info 82) - Restoring parameters from ../final-models/deep_4l_network-mnist-seq-4/model.ckpt\n"
     ]
    },
    {
     "data": {
      "image/png": "[encoded data removed]",
      "text/plain": [
       "<matplotlib.figure.Figure at 0x11b5dee10>"
      ]
     },
     "metadata": {},
     "output_type": "display_data"
    }
   ],
   "source": [
    "import imp\n",
    "imp.reload(heatmap_evaluation)\n",
    "\n",
    "plot_apoc(['s2', 's3', 'deep_4l'], 'mnist', 4)"
   ]
  },
  {
   "cell_type": "code",
   "execution_count": 21,
   "metadata": {},
   "outputs": [
    {
     "name": "stdout",
     "output_type": "stream",
     "text": [
      "INFO:tensorflow:Restoring parameters from ../final-models/s2_network-fashion-mnist-seq-4/model.ckpt\n"
     ]
    },
    {
     "name": "stderr",
     "output_type": "stream",
     "text": [
      "2017-12-30 20:51:00,412 | INFO : tf_logging.py(info 82) - Restoring parameters from ../final-models/s2_network-fashion-mnist-seq-4/model.ckpt\n"
     ]
    },
    {
     "name": "stdout",
     "output_type": "stream",
     "text": [
      "INFO:tensorflow:Restoring parameters from ../final-models/s2_network-fashion-mnist-seq-4/model.ckpt\n"
     ]
    },
    {
     "name": "stderr",
     "output_type": "stream",
     "text": [
      "2017-12-30 20:51:03,663 | INFO : tf_logging.py(info 82) - Restoring parameters from ../final-models/s2_network-fashion-mnist-seq-4/model.ckpt\n"
     ]
    },
    {
     "name": "stdout",
     "output_type": "stream",
     "text": [
      "INFO:tensorflow:Restoring parameters from ../final-models/s3_network-fashion-mnist-seq-4/model.ckpt\n"
     ]
    },
    {
     "name": "stderr",
     "output_type": "stream",
     "text": [
      "2017-12-30 20:51:19,930 | INFO : tf_logging.py(info 82) - Restoring parameters from ../final-models/s3_network-fashion-mnist-seq-4/model.ckpt\n"
     ]
    },
    {
     "name": "stdout",
     "output_type": "stream",
     "text": [
      "INFO:tensorflow:Restoring parameters from ../final-models/s3_network-fashion-mnist-seq-4/model.ckpt\n"
     ]
    },
    {
     "name": "stderr",
     "output_type": "stream",
     "text": [
      "2017-12-30 20:51:23,331 | INFO : tf_logging.py(info 82) - Restoring parameters from ../final-models/s3_network-fashion-mnist-seq-4/model.ckpt\n"
     ]
    },
    {
     "data": {
      "image/png": "[encoded data removed]",
      "text/plain": [
       "<matplotlib.figure.Figure at 0x11bf50358>"
      ]
     },
     "metadata": {},
     "output_type": "display_data"
    }
   ],
   "source": [
    "plot_apoc(['s2', 's3'], 'fashion-mnist', 4)"
   ]
  },
  {
   "cell_type": "code",
   "execution_count": 22,
   "metadata": {},
   "outputs": [
    {
     "name": "stdout",
     "output_type": "stream",
     "text": [
      "INFO:tensorflow:Restoring parameters from ../final-models/s2_network-mnist-seq-14/model.ckpt\n"
     ]
    },
    {
     "name": "stderr",
     "output_type": "stream",
     "text": [
      "2017-12-30 20:52:27,395 | INFO : tf_logging.py(info 82) - Restoring parameters from ../final-models/s2_network-mnist-seq-14/model.ckpt\n"
     ]
    },
    {
     "name": "stdout",
     "output_type": "stream",
     "text": [
      "INFO:tensorflow:Restoring parameters from ../final-models/s2_network-mnist-seq-14/model.ckpt\n"
     ]
    },
    {
     "name": "stderr",
     "output_type": "stream",
     "text": [
      "2017-12-30 20:52:35,862 | INFO : tf_logging.py(info 82) - Restoring parameters from ../final-models/s2_network-mnist-seq-14/model.ckpt\n"
     ]
    },
    {
     "name": "stdout",
     "output_type": "stream",
     "text": [
      "INFO:tensorflow:Restoring parameters from ../final-models/s3_network-mnist-seq-14/model.ckpt\n"
     ]
    },
    {
     "name": "stderr",
     "output_type": "stream",
     "text": [
      "2017-12-30 20:53:23,201 | INFO : tf_logging.py(info 82) - Restoring parameters from ../final-models/s3_network-mnist-seq-14/model.ckpt\n"
     ]
    },
    {
     "name": "stdout",
     "output_type": "stream",
     "text": [
      "INFO:tensorflow:Restoring parameters from ../final-models/s3_network-mnist-seq-14/model.ckpt\n"
     ]
    },
    {
     "name": "stderr",
     "output_type": "stream",
     "text": [
      "2017-12-30 20:53:32,479 | INFO : tf_logging.py(info 82) - Restoring parameters from ../final-models/s3_network-mnist-seq-14/model.ckpt\n"
     ]
    },
    {
     "data": {
      "image/png": "[encoded data removed]",
      "text/plain": [
       "<matplotlib.figure.Figure at 0x11a6df390>"
      ]
     },
     "metadata": {},
     "output_type": "display_data"
    }
   ],
   "source": [
    "plot_apoc(['s2', 's3'], 'mnist', 14)"
   ]
  },
  {
   "cell_type": "code",
   "execution_count": null,
   "metadata": {},
   "outputs": [],
   "source": []
  },
  {
   "cell_type": "code",
   "execution_count": 83,
   "metadata": {},
   "outputs": [
    {
     "name": "stderr",
     "output_type": "stream",
     "text": [
      "2017-12-30 04:47:54,220 | DEBUG : provider.py(load 9) - Load network from ../experiment-results/sprint-9-final-model-update2/s2_network-mnist-seq-1---2017-12-30--03-16-17\n",
      "2017-12-30 04:47:54,224 | DEBUG : experiment_artifact.py(get_result 68) - Getting result \n",
      "{'max_seq_length': 28, 'val_accuracy': 0.9683333039283752, 'epoch': 10, 'seq_length': 1, 'accuracy': 0.9703999757766724, 'dataset': 'mnist', 'optimizer': 'AdamOptimizer', 'architecture_name': 's2_network', 'experiment_name': 's2_network-mnist-seq-1---2017-12-30--03-16-17', 'architecture': 'hidden:512||out:10--recur:256', 'regularizer': 0, 'lr': 0.0005, 'dims': 28, 'batch': 50, 'keep_prob': 0.5, 'column_at_a_time': 28}\n",
      "2017-12-30 04:47:54,226 | DEBUG : experiment_artifact.py(get_result 69) - {'max_seq_length': 28, 'val_accuracy': 0.9683333039283752, 'epoch': 10, 'seq_length': 1, 'accuracy': 0.9703999757766724, 'dataset': 'mnist', 'optimizer': 'AdamOptimizer', 'architecture_name': 's2_network', 'experiment_name': 's2_network-mnist-seq-1---2017-12-30--03-16-17', 'architecture': 'hidden:512||out:10--recur:256', 'regularizer': 0, 'lr': 0.0005, 'dims': 28, 'batch': 50, 'keep_prob': 0.5, 'column_at_a_time': 28}\n",
      "2017-12-30 04:47:54,226 | INFO : provider.py(load 12) - ExperimentArtifact(accuracy=0.9703999757766724, architecture='hidden:512||out:10--recur:256', batch=50, column_at_a_time=28, dims=28, epoch=10, experiment_name='s2_network-mnist-seq-1---2017-12-30--03-16-17', lr=0.0005, max_seq_length=28, seq_length=1, path='../experiment-results/sprint-9-final-model-update2/s2_network-mnist-seq-1---2017-12-30--03-16-17', architecture_name='s2_network', val_accuracy=0.9683333039283752, keep_prob=0.5, optimizer='AdamOptimizer', dataset='mnist', regularizer=0)\n"
     ]
    },
    {
     "name": "stdout",
     "output_type": "stream",
     "text": [
      "INFO:tensorflow:Restoring parameters from ../experiment-results/sprint-9-final-model-update2/s2_network-mnist-seq-1---2017-12-30--03-16-17/model.ckpt\n"
     ]
    },
    {
     "name": "stderr",
     "output_type": "stream",
     "text": [
      "2017-12-30 04:47:54,886 | INFO : tf_logging.py(info 82) - Restoring parameters from ../experiment-results/sprint-9-final-model-update2/s2_network-mnist-seq-1---2017-12-30--03-16-17/model.ckpt\n",
      "2017-12-30 04:47:56,491 | INFO : heatmap_evaluation.py(aopc 23) - Using MoRF strategy\n"
     ]
    },
    {
     "name": "stdout",
     "output_type": "stream",
     "text": [
      "INFO:tensorflow:Restoring parameters from ../experiment-results/sprint-9-final-model-update2/s2_network-mnist-seq-1---2017-12-30--03-16-17/model.ckpt\n"
     ]
    },
    {
     "name": "stderr",
     "output_type": "stream",
     "text": [
      "2017-12-30 04:47:56,594 | INFO : tf_logging.py(info 82) - Restoring parameters from ../experiment-results/sprint-9-final-model-update2/s2_network-mnist-seq-1---2017-12-30--03-16-17/model.ckpt\n"
     ]
    },
    {
     "name": "stdout",
     "output_type": "stream",
     "text": [
      "[ -0.          -0.           0.           0.          -0.          -0.          -0.\n",
      "  14.30588722  -0.           0.        ] [-0.        -0.        -0.         0.        -0.        -0.        -0.\n",
      "  5.4533596  0.         0.       ]\n",
      "7.6499546875\n",
      "---\n",
      "[ -0.          -0.           0.           0.          -0.          -0.          -0.\n",
      "  14.30588722  -0.           0.        ] [-0.        -0.        -0.         0.        -0.        -0.        -0.\n",
      "  2.4294703  0.         0.       ]\n",
      "11.8429859375\n",
      "---\n",
      "[ -0.          -0.           0.           0.          -0.          -0.          -0.\n",
      "  14.30588722  -0.           0.        ] [-0.         -0.         -0.         -0.         -0.         -0.         -0.\n",
      "  0.30458584  0.         -0.        ]\n",
      "14.2591953125\n",
      "---\n",
      "[ -0.          -0.           0.           0.          -0.          -0.          -0.\n",
      "  14.30588722  -0.           0.        ] [-0.         -0.         -0.         -0.         -0.         -0.         -0.\n",
      " -0.84899205  0.         -0.        ]\n",
      "15.7955671875\n",
      "---\n",
      "[ -0.          -0.           0.           0.          -0.          -0.          -0.\n",
      "  14.30588722  -0.           0.        ] [-0.         -0.         -0.         -0.         -0.         -0.          0.\n",
      "  2.83751154  0.         -0.        ]\n",
      "16.9802953125\n",
      "---\n",
      "[ -0.          -0.           0.           0.          -0.          -0.          -0.\n",
      "  14.30588722  -0.           0.        ] [-0.        -0.        -0.        -0.        -0.        -0.         0.\n",
      " -4.9894228  0.        -0.       ]\n",
      "18.0405390625\n",
      "---\n",
      "[ -0.          -0.           0.           0.          -0.          -0.          -0.\n",
      "  14.30588722  -0.           0.        ] [-0.         -0.          0.          0.         -0.         -0.         -0.\n",
      " -7.55245876  0.         -0.        ]\n",
      "18.999703125\n",
      "---\n",
      "[ -0.          -0.           0.           0.          -0.          -0.          -0.\n",
      "  14.30588722  -0.           0.        ] [-0.          0.          0.         -0.         -0.         -0.         -0.\n",
      " -8.75857544  0.         -0.        ]\n",
      "19.8885796875\n",
      "---\n",
      "[ -0.          -0.           0.           0.          -0.          -0.          -0.\n",
      "  14.30588722  -0.           0.        ] [-0.          0.          0.         -0.         -0.         -0.         -0.\n",
      " -9.36099434  0.         -0.        ]\n",
      "20.7138984375\n",
      "---\n",
      "[ -0.          -0.           0.           0.          -0.          -0.          -0.\n",
      "  14.30588722  -0.           0.        ] [ -0.          -0.          -0.          -0.          -0.          -0.           0.\n",
      " -12.36860085   0.          -0.        ]\n",
      "21.440553125\n",
      "---\n",
      "[ -0.          -0.           0.           0.          -0.          -0.          -0.\n",
      "  14.30588722  -0.           0.        ] [ -0.          -0.          -0.          -0.          -0.          -0.           0.\n",
      " -12.20193672   0.          -0.        ]\n",
      "21.9464328125\n",
      "---\n",
      "[ -0.          -0.           0.           0.          -0.          -0.          -0.\n",
      "  14.30588722  -0.           0.        ] [ -0.          -0.          -0.          -0.          -0.          -0.           0.\n",
      " -12.75643253   0.          -0.        ]\n",
      "22.29525\n",
      "---\n",
      "[ -0.          -0.           0.           0.          -0.          -0.          -0.\n",
      "  14.30588722  -0.           0.        ] [ -0.          -0.           0.          -0.          -0.          -0.           0.\n",
      " -15.50489521   0.          -0.        ]\n",
      "22.693071875\n",
      "---\n",
      "[ -0.          -0.           0.           0.          -0.          -0.          -0.\n",
      "  14.30588722  -0.           0.        ] [ -0.          -0.           0.          -0.          -0.          -0.           0.\n",
      " -17.36484718   0.          -0.        ]\n",
      "22.992584375\n",
      "---\n",
      "[ -0.          -0.           0.           0.          -0.          -0.          -0.\n",
      "  14.30588722  -0.           0.        ] [ -0.          -0.           0.          -0.          -0.          -0.           0.\n",
      " -17.64113808   0.          -0.        ]\n",
      "23.4931484375\n",
      "---\n",
      "[ -0.          -0.           0.           0.          -0.          -0.          -0.\n",
      "  14.30588722  -0.           0.        ] [ -0.          -0.           0.          -0.          -0.          -0.           0.\n",
      " -17.93065834   0.          -0.        ]\n",
      "24.091690625\n",
      "---\n",
      "[ -0.          -0.           0.           0.          -0.          -0.          -0.\n",
      "  14.30588722  -0.           0.        ] [ -0.          -0.           0.          -0.          -0.          -0.           0.\n",
      " -20.63022804   0.          -0.        ]\n",
      "24.739165625\n",
      "---\n",
      "[ -0.          -0.           0.           0.          -0.          -0.          -0.\n",
      "  14.30588722  -0.           0.        ] [ -0.          -0.           0.           0.          -0.           0.           0.\n",
      " -20.06103134   0.          -0.        ]\n",
      "25.317896875\n",
      "---\n",
      "[ -0.          -0.           0.           0.          -0.          -0.          -0.\n",
      "  14.30588722  -0.           0.        ] [ -0.          -0.           0.           0.          -0.          -0.           0.\n",
      " -15.36059475   0.          -0.        ]\n",
      "25.9663390625\n",
      "---\n",
      "[ -0.          -0.           0.           0.          -0.          -0.          -0.\n",
      "  14.30588722  -0.           0.        ] [ -0.          -0.          -0.           0.          -0.          -0.           0.\n",
      " -13.74211311  -0.          -0.        ]\n",
      "26.509415625\n",
      "---\n",
      "[ -0.          -0.           0.           0.          -0.          -0.          -0.\n",
      "  14.30588722  -0.           0.        ] [ -0.          -0.          -0.          -0.          -0.          -0.           0.\n",
      " -12.78258514   0.          -0.        ]\n",
      "26.918734375\n",
      "---\n",
      "[ -0.          -0.           0.           0.          -0.          -0.          -0.\n",
      "  14.30588722  -0.           0.        ] [ -0.          -0.           0.          -0.          -0.          -0.           0.\n",
      " -14.19908714   0.          -0.        ]\n",
      "27.297871875\n",
      "---\n",
      "[ -0.          -0.           0.           0.          -0.          -0.          -0.\n",
      "  14.30588722  -0.           0.        ] [ -0.          -0.           0.          -0.          -0.          -0.           0.\n",
      " -14.60555267   0.          -0.        ]\n",
      "27.678778125\n",
      "---\n",
      "[ -0.          -0.           0.           0.          -0.          -0.          -0.\n",
      "  14.30588722  -0.           0.        ] [ -0.          -0.           0.          -0.          -0.          -0.           0.\n",
      " -15.62225342   0.          -0.        ]\n",
      "28.043325\n",
      "---\n",
      "[ -0.          -0.           0.           0.          -0.          -0.          -0.\n",
      "  14.30588722  -0.           0.        ] [ -0.         -0.          0.         -0.         -0.         -0.          0.\n",
      " -14.8480978   0.         -0.       ]\n",
      "28.40755\n",
      "---\n",
      "[ -0.          -0.           0.           0.          -0.          -0.          -0.\n",
      "  14.30588722  -0.           0.        ] [ -0.          -0.          -0.          -0.          -0.          -0.           0.\n",
      " -15.65641308   0.          -0.        ]\n",
      "28.75165625\n",
      "---\n",
      "[ -0.          -0.           0.           0.          -0.          -0.          -0.\n",
      "  14.30588722  -0.           0.        ] [ -0.          -0.          -0.          -0.          -0.           0.           0.\n",
      " -14.88105583   0.          -0.        ]\n",
      "29.13035625\n",
      "---\n",
      "[ -0.          -0.           0.           0.          -0.          -0.          -0.\n",
      "  14.30588722  -0.           0.        ] [  0.          -0.          -0.          -0.          -0.           0.           0.\n",
      " -15.28678036   0.          -0.        ]\n",
      "29.5471875\n",
      "---\n",
      "[ -0.          -0.           0.           0.          -0.          -0.          -0.\n",
      "  14.30588722  -0.           0.        ] [ -0.          -0.          -0.          -0.          -0.           0.           0.\n",
      " -16.35025024  -0.          -0.        ]\n",
      "29.9551\n",
      "---\n",
      "[ -0.          -0.           0.           0.          -0.          -0.          -0.\n",
      "  14.30588722  -0.           0.        ] [ -0.         -0.         -0.         -0.         -0.         -0.          0.\n",
      " -16.8703804  -0.         -0.       ]\n",
      "30.3607125\n",
      "---\n"
     ]
    }
   ],
   "source": [
    "import imp\n",
    "imp.reload(heatmap_evaluation)\n",
    "model_obj = provider.load(\"../experiment-results/sprint-9-final-model-update2/s2_network-mnist-seq-1---2017-12-30--03-16-17\")\n",
    "res_lrp_s2 = heatmap_evaluation.aopc(model_obj, dataset['mnist'].test2d.x)"
   ]
  },
  {
   "cell_type": "code",
   "execution_count": 81,
   "metadata": {},
   "outputs": [
    {
     "name": "stderr",
     "output_type": "stream",
     "text": [
      "2017-12-30 04:45:05,391 | DEBUG : provider.py(load 9) - Load network from ../experiment-results/sprint-9-deep4l-aws/deep_4l_network-mnist-seq-1---2017-12-30--02-12-20\n",
      "2017-12-30 04:45:05,396 | DEBUG : experiment_artifact.py(get_result 68) - Getting result \n",
      "{'max_seq_length': 28, 'val_accuracy': 0.9769166707992554, 'epoch': 100, 'seq_length': 1, 'accuracy': 0.9787999987602234, 'dataset': 'mnist', 'optimizer': 'AdamOptimizer', 'architecture_name': 'deep_4l_network', 'experiment_name': 'deep_4l_network-mnist-seq-1---2017-12-30--02-12-20', 'architecture': 'in1:512|in2:256|hidden:128|out1:64|out2:10--recur:128', 'regularizer': 0.0, 'lr': 0.0001, 'dims': 28, 'batch': 50, 'keep_prob': 0.5, 'column_at_a_time': 28}\n",
      "2017-12-30 04:45:05,397 | DEBUG : experiment_artifact.py(get_result 69) - {'max_seq_length': 28, 'val_accuracy': 0.9769166707992554, 'epoch': 100, 'seq_length': 1, 'accuracy': 0.9787999987602234, 'dataset': 'mnist', 'optimizer': 'AdamOptimizer', 'architecture_name': 'deep_4l_network', 'experiment_name': 'deep_4l_network-mnist-seq-1---2017-12-30--02-12-20', 'architecture': 'in1:512|in2:256|hidden:128|out1:64|out2:10--recur:128', 'regularizer': 0.0, 'lr': 0.0001, 'dims': 28, 'batch': 50, 'keep_prob': 0.5, 'column_at_a_time': 28}\n",
      "2017-12-30 04:45:05,398 | INFO : provider.py(load 12) - ExperimentArtifact(accuracy=0.9787999987602234, architecture='in1:512|in2:256|hidden:128|out1:64|out2:10--recur:128', batch=50, column_at_a_time=28, dims=28, epoch=100, experiment_name='deep_4l_network-mnist-seq-1---2017-12-30--02-12-20', lr=0.0001, max_seq_length=28, seq_length=1, path='../experiment-results/sprint-9-deep4l-aws/deep_4l_network-mnist-seq-1---2017-12-30--02-12-20', architecture_name='deep_4l_network', val_accuracy=0.9769166707992554, keep_prob=0.5, optimizer='AdamOptimizer', dataset='mnist', regularizer=0.0)\n"
     ]
    },
    {
     "name": "stdout",
     "output_type": "stream",
     "text": [
      "INFO:tensorflow:Restoring parameters from ../experiment-results/sprint-9-deep4l-aws/deep_4l_network-mnist-seq-1---2017-12-30--02-12-20/model.ckpt\n"
     ]
    },
    {
     "name": "stderr",
     "output_type": "stream",
     "text": [
      "2017-12-30 04:45:06,443 | INFO : tf_logging.py(info 82) - Restoring parameters from ../experiment-results/sprint-9-deep4l-aws/deep_4l_network-mnist-seq-1---2017-12-30--02-12-20/model.ckpt\n",
      "2017-12-30 04:45:08,651 | INFO : heatmap_evaluation.py(aopc 23) - Using MoRF strategy\n"
     ]
    },
    {
     "name": "stdout",
     "output_type": "stream",
     "text": [
      "INFO:tensorflow:Restoring parameters from ../experiment-results/sprint-9-deep4l-aws/deep_4l_network-mnist-seq-1---2017-12-30--02-12-20/model.ckpt\n"
     ]
    },
    {
     "name": "stderr",
     "output_type": "stream",
     "text": [
      "2017-12-30 04:45:08,823 | INFO : tf_logging.py(info 82) - Restoring parameters from ../experiment-results/sprint-9-deep4l-aws/deep_4l_network-mnist-seq-1---2017-12-30--02-12-20/model.ckpt\n"
     ]
    },
    {
     "name": "stdout",
     "output_type": "stream",
     "text": [
      "1.65847\n",
      "2.17708\n",
      "2.39353\n",
      "2.49122\n",
      "2.54228\n",
      "2.57411\n",
      "2.59627\n",
      "2.61397\n",
      "2.63006\n",
      "2.64661\n",
      "2.66848\n",
      "2.70354\n",
      "2.73857\n",
      "2.76293\n",
      "2.77494\n",
      "2.78708\n",
      "2.79517\n",
      "2.80806\n",
      "2.81793\n",
      "2.82451\n",
      "2.8256\n",
      "2.82988\n",
      "2.83292\n",
      "2.83769\n",
      "2.85103\n",
      "2.86944\n",
      "2.89394\n",
      "2.92714\n",
      "2.96611\n",
      "3.01243\n"
     ]
    }
   ],
   "source": [
    "model2 = provider.load(\"../experiment-results/sprint-9-deep4l-aws/deep_4l_network-mnist-seq-1---2017-12-30--02-12-20\")\n",
    "res_deep_4l = heatmap_evaluation.aopc(model2, dataset['mnist'].test2d.x)"
   ]
  },
  {
   "cell_type": "code",
   "execution_count": 78,
   "metadata": {},
   "outputs": [
    {
     "data": {
      "image/png": "[encoded data removed]",
      "text/plain": [
       "<matplotlib.figure.Figure at 0x11ada74e0>"
      ]
     },
     "metadata": {},
     "output_type": "display_data"
    }
   ],
   "source": [
    "plt.plot(res_lrp_s2, label='lrp_s2')\n",
    "plt.plot(res_deep_4l, label='deep_4l')\n",
    "plt.legend()\n",
    "plt.show()"
   ]
  },
  {
   "cell_type": "code",
   "execution_count": 13,
   "metadata": {},
   "outputs": [
    {
     "data": {
      "text/plain": [
       "array([-0.05120756, -0.11789049, -0.19025176, -0.26169612, -0.33127968,\n",
       "       -0.40599685, -0.47847533, -0.54790649, -0.61384739, -0.67582718,\n",
       "       -0.73377315, -0.78744397, -0.83769253, -0.88503731, -0.92962244,\n",
       "       -0.97166363, -1.01142991, -1.04920502, -1.08521939, -1.1195871 ,\n",
       "       -1.1524187 , -1.18382468, -1.21392225, -1.24281699, -1.27058973,\n",
       "       -1.29730938, -1.3230366 , -1.34787341, -1.37186755, -1.39501197])"
      ]
     },
     "execution_count": 13,
     "metadata": {},
     "output_type": "execute_result"
    }
   ],
   "source": [
    "res_deep_4l"
   ]
  },
  {
   "cell_type": "code",
   "execution_count": null,
   "metadata": {},
   "outputs": [],
   "source": []
  },
  {
   "cell_type": "code",
   "execution_count": 17,
   "metadata": {},
   "outputs": [],
   "source": [
    "rel_patches = block_reduce(dataset['mnist'].test2d.x, block_size=(1, 4, 4), func=np.sum)"
   ]
  },
  {
   "cell_type": "code",
   "execution_count": 21,
   "metadata": {},
   "outputs": [],
   "source": [
    "rel_patches_flatted = rel_patches.reshape(10000, -1)"
   ]
  },
  {
   "cell_type": "code",
   "execution_count": 22,
   "metadata": {},
   "outputs": [],
   "source": [
    "k = 40"
   ]
  },
  {
   "cell_type": "code",
   "execution_count": 24,
   "metadata": {},
   "outputs": [],
   "source": [
    "ranks = np.argsort(-rel_patches_flatted, axis=1)"
   ]
  },
  {
   "cell_type": "code",
   "execution_count": 27,
   "metadata": {},
   "outputs": [
    {
     "data": {
      "text/plain": [
       "array([  3.59215686,   3.2627451 ,   2.30588235,  -0.36862745,\n",
       "        -3.48235294,  -4.94117647,  -5.81960784,  -6.56470588,\n",
       "        -7.74117647,  -8.50980392, -10.84705882, -12.81568627,\n",
       "       -13.89019608, -14.71372549, -15.00392157, -15.7254902 ,\n",
       "       -16.        , -16.        , -16.        , -16.        ,\n",
       "       -16.        , -16.        , -16.        , -16.        ,\n",
       "       -16.        , -16.        , -16.        , -16.        ,\n",
       "       -16.        , -16.        , -16.        , -16.        ,\n",
       "       -16.        , -16.        , -16.        , -16.        ,\n",
       "       -16.        , -16.        , -16.        , -16.        ])"
      ]
     },
     "execution_count": 27,
     "metadata": {},
     "output_type": "execute_result"
    }
   ],
   "source": [
    "rel_patches_flatted[0, ranks[0, :k]]"
   ]
  },
  {
   "cell_type": "code",
   "execution_count": 28,
   "metadata": {},
   "outputs": [
    {
     "data": {
      "text/plain": [
       "array([18, 38, 25, 17, 16, 32, 45, 19, 44, 31, 15,  9,  8, 37, 26, 39, 34,\n",
       "       33, 30,  0, 36, 40, 41, 42, 43, 46, 35, 29, 24, 27,  1,  2,  3,  4,\n",
       "        5,  6,  7, 10, 11, 12])"
      ]
     },
     "execution_count": 28,
     "metadata": {},
     "output_type": "execute_result"
    }
   ],
   "source": [
    "ranks[0, :k]"
   ]
  },
  {
   "cell_type": "code",
   "execution_count": 43,
   "metadata": {},
   "outputs": [],
   "source": [
    "kernel = (7,7)\n",
    "arr = np.array([18, 38, 25, 17])"
   ]
  },
  {
   "cell_type": "code",
   "execution_count": 45,
   "metadata": {},
   "outputs": [
    {
     "data": {
      "text/plain": [
       "array([ 2.,  5.,  3.,  2.])"
      ]
     },
     "execution_count": 45,
     "metadata": {},
     "output_type": "execute_result"
    }
   ],
   "source": [
    "ii = np.floor( arr / kernel[0] )\n",
    "ii"
   ]
  },
  {
   "cell_type": "code",
   "execution_count": 46,
   "metadata": {},
   "outputs": [
    {
     "data": {
      "text/plain": [
       "array([4, 3, 4, 3])"
      ]
     },
     "execution_count": 46,
     "metadata": {},
     "output_type": "execute_result"
    }
   ],
   "source": [
    "jj = arr % kernel[1]\n",
    "jj"
   ]
  },
  {
   "cell_type": "code",
   "execution_count": 49,
   "metadata": {},
   "outputs": [
    {
     "data": {
      "text/plain": [
       "3.2627450980392152"
      ]
     },
     "execution_count": 49,
     "metadata": {},
     "output_type": "execute_result"
    }
   ],
   "source": [
    "rel_patches[0, 5, 3]"
   ]
  },
  {
   "cell_type": "code",
   "execution_count": 54,
   "metadata": {},
   "outputs": [
    {
     "data": {
      "text/plain": [
       "(8, 16)"
      ]
     },
     "execution_count": 54,
     "metadata": {},
     "output_type": "execute_result"
    }
   ],
   "source": [
    "iii = int(ii[0]*4)\n",
    "jjj = int(jj[0]*4)\n",
    "\n",
    "iii,jjj"
   ]
  },
  {
   "cell_type": "code",
   "execution_count": 56,
   "metadata": {},
   "outputs": [
    {
     "data": {
      "text/plain": [
       "3.5921568627450986"
      ]
     },
     "execution_count": 56,
     "metadata": {},
     "output_type": "execute_result"
    }
   ],
   "source": [
    "np.sum(dataset['mnist'].test2d.x[0, iii:iii+4, jjj:jjj+4])"
   ]
  },
  {
   "cell_type": "code",
   "execution_count": 51,
   "metadata": {},
   "outputs": [],
   "source": [
    "a = np.array([1,2,3,6,5,2,7,6,8]).reshape(3,3)"
   ]
  },
  {
   "cell_type": "code",
   "execution_count": 52,
   "metadata": {},
   "outputs": [
    {
     "data": {
      "text/plain": [
       "array([[1, 2, 3],\n",
       "       [6, 5, 2],\n",
       "       [7, 6, 8]])"
      ]
     },
     "execution_count": 52,
     "metadata": {},
     "output_type": "execute_result"
    }
   ],
   "source": [
    "a"
   ]
  },
  {
   "cell_type": "code",
   "execution_count": 57,
   "metadata": {},
   "outputs": [
    {
     "data": {
      "text/plain": [
       "array([[2],\n",
       "       [0],\n",
       "       [2]])"
      ]
     },
     "execution_count": 57,
     "metadata": {},
     "output_type": "execute_result"
    }
   ],
   "source": [
    "np.argmax(a, axis=1).reshape(-1,1)"
   ]
  },
  {
   "cell_type": "code",
   "execution_count": 58,
   "metadata": {},
   "outputs": [],
   "source": [
    "m  = np.zeros((3,3))"
   ]
  },
  {
   "cell_type": "code",
   "execution_count": 65,
   "metadata": {},
   "outputs": [],
   "source": [
    "mark = a == np.max(a, axis=1).reshape(-1,1)"
   ]
  },
  {
   "cell_type": "code",
   "execution_count": 64,
   "metadata": {},
   "outputs": [
    {
     "data": {
      "text/plain": [
       "array([[3],\n",
       "       [6],\n",
       "       [8]])"
      ]
     },
     "execution_count": 64,
     "metadata": {},
     "output_type": "execute_result"
    }
   ],
   "source": [
    "np.max(a, axis=1).reshape(-1, 1)"
   ]
  },
  {
   "cell_type": "code",
   "execution_count": 66,
   "metadata": {},
   "outputs": [
    {
     "data": {
      "text/plain": [
       "array([[False, False,  True],\n",
       "       [ True, False, False],\n",
       "       [False, False,  True]], dtype=bool)"
      ]
     },
     "execution_count": 66,
     "metadata": {},
     "output_type": "execute_result"
    }
   ],
   "source": [
    "mark"
   ]
  },
  {
   "cell_type": "code",
   "execution_count": 67,
   "metadata": {},
   "outputs": [
    {
     "data": {
      "text/plain": [
       "array([[0, 0, 3],\n",
       "       [6, 0, 0],\n",
       "       [0, 0, 8]])"
      ]
     },
     "execution_count": 67,
     "metadata": {},
     "output_type": "execute_result"
    }
   ],
   "source": [
    "mark * a"
   ]
  },
  {
   "cell_type": "code",
   "execution_count": null,
   "metadata": {},
   "outputs": [],
   "source": []
  }
 ],
 "metadata": {
  "kernelspec": {
   "display_name": "Python3 Thesis Kernel",
   "language": "python",
   "name": "py3-thesis-kernel"
  },
  "language_info": {
   "codemirror_mode": {
    "name": "ipython",
    "version": 3
   },
   "file_extension": ".py",
   "mimetype": "text/x-python",
   "name": "python",
   "nbconvert_exporter": "python",
   "pygments_lexer": "ipython3",
   "version": "3.5.1"
  },
  "toc": {
   "nav_menu": {},
   "number_sections": true,
   "sideBar": true,
   "skip_h1_title": false,
   "toc_cell": false,
   "toc_position": {},
   "toc_section_display": "block",
   "toc_window_display": false
  }
 },
 "nbformat": 4,
 "nbformat_minor": 2
}
