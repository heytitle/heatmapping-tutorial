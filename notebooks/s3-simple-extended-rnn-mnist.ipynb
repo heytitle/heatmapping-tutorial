{
 "cells": [
  {
   "cell_type": "code",
   "execution_count": 1,
   "metadata": {},
   "outputs": [],
   "source": [
    "import logging\n",
    "from utils import logging as lg\n",
    "\n",
    "lg.set_logging()"
   ]
  },
  {
   "cell_type": "code",
   "execution_count": 2,
   "metadata": {},
   "outputs": [
    {
     "name": "stderr",
     "output_type": "stream",
     "text": [
      "2017-10-08 00:58:32,172 | INFO : plot.py(setup 13) - Setup plot parameters\n"
     ]
    }
   ],
   "source": [
    "import tensorflow as tf\n",
    "import numpy as np\n",
    "import matplotlib.pyplot as plt\n",
    "\n",
    "import math\n",
    "\n",
    "from utils import data_provider\n",
    "from notebook_utils import plot\n",
    "plot.setup()"
   ]
  },
  {
   "cell_type": "markdown",
   "metadata": {},
   "source": [
    "# Data Preparation"
   ]
  },
  {
   "cell_type": "code",
   "execution_count": 3,
   "metadata": {},
   "outputs": [
    {
     "name": "stderr",
     "output_type": "stream",
     "text": [
      "2017-10-08 00:58:32,806 | INFO : data_provider.py(get_mnist 17) - Load MNIST : train\n",
      "2017-10-08 00:58:33,141 | INFO : data_provider.py(get_mnist 17) - Load MNIST : test\n"
     ]
    }
   ],
   "source": [
    "X_train, Y_train = data_provider.get_mnist('train', dir_path='../data/mnist')\n",
    "X_test, Y_test = data_provider.get_mnist('test', dir_path='../data/mnist')"
   ]
  },
  {
   "cell_type": "code",
   "execution_count": 4,
   "metadata": {},
   "outputs": [],
   "source": [
    "X_train_2d = np.copy(X_train.reshape((-1,28,28)))\n",
    "X_test_2d = np.copy(X_test.reshape((-1,28,28)))"
   ]
  },
  {
   "cell_type": "code",
   "execution_count": 11,
   "metadata": {},
   "outputs": [
    {
     "name": "stderr",
     "output_type": "stream",
     "text": [
      "2017-10-07 21:09:03,787 | INFO : plot.py(show_and_save 20) - save fig to ../figures/nb_figures/mnist-label5-with-cols.png\n"
     ]
    },
    {
     "data": {
      "image/png": "[encoded data removed]",
      "text/plain": [
       "<matplotlib.figure.Figure at 0x116d792b0>"
      ]
     },
     "metadata": {},
     "output_type": "display_data"
    }
   ],
   "source": [
    "def plot_mnist_with_columns(data_idx, col_indices):\n",
    "    plt.figure(figsize=(16,3))\n",
    "\n",
    "    plt.subplot(1,5,1)\n",
    "\n",
    "    plt.imshow(X_train[data_idx,:].reshape((28,28)))\n",
    "    plt.title('Data Label %d' % int(np.sum(np.arange(10) * Y_train[data_idx,:])))\n",
    "\n",
    "    count = 2\n",
    "    for col_idx in col_indices:\n",
    "        plt.subplot(1,5,count)\n",
    "        img_zero = np.zeros((28,28))\n",
    "        img_zero[:, col_idx] = X_train_2d[data_idx, :, col_idx]\n",
    "        plt.title('Col %d-th' % col_idx)\n",
    "        plt.imshow(img_zero, vmin=0, vmax=255)\n",
    "        count = count + 1\n",
    "plot_mnist_with_columns(data_idx = 0, col_indices = [5, 10,15,20])\n",
    "plt.show_and_save(title='mnist-label5-with-cols.png');"
   ]
  },
  {
   "cell_type": "code",
   "execution_count": 81,
   "metadata": {},
   "outputs": [],
   "source": [
    "def batch_data(x, y, n=1):\n",
    "    l = len(x)\n",
    "    for ndx in range(0, l, n):\n",
    "        yield (x[ndx:min(ndx + n, l)],  y[ndx:min(ndx + n, l)])\n",
    "        \n",
    "def build_layer(dims,name):\n",
    "    weights = tf.Variable(\n",
    "        tf.truncated_normal(dims, stddev=0.1),\n",
    "        name=\"%s_weights\"%name\n",
    "    )\n",
    "\n",
    "    bias = tf.Variable(\n",
    "        tf.zeros(dims[1]),\n",
    "        name=\"%s_bias\"%name\n",
    "    )\n",
    "    return weights, bias"
   ]
  },
  {
   "cell_type": "markdown",
   "metadata": {},
   "source": [
    "# Training"
   ]
  },
  {
   "cell_type": "markdown",
   "metadata": {},
   "source": [
    "## Network Architecture\n",
    "![image.png](https://i.imgur.com/icDCONr.png)"
   ]
  },
  {
   "cell_type": "markdown",
   "metadata": {},
   "source": [
    "\n",
    "### Notations\n",
    "- $\\boldsymbol{x}^{(\\alpha)}_{(\\cdot,t)}$  : sample $\\alpha$ with all rows of column $t \\in \\{1,\\dots, 28\\}$\n",
    "- $\\boldsymbol{r}^{(\\alpha)}_{t}$ : recurrent inputs of column $t$ of sample $\\alpha$\n",
    "- $\\widetilde{\\boldsymbol{x}}^{(\\alpha)}_{(\\cdot,t)}$ : concatenation of $\\boldsymbol{x}^{(\\alpha)}_{(\\cdot,t)}$  and $\\boldsymbol{r}_{t}$\n",
    "- $\\boldsymbol{W}_{h}$, $\\boldsymbol{b}_{h}$ : weights and bias for hidden unit activations $\\boldsymbol{H}^{(\\alpha)}_t$\n",
    "$$\n",
    "\\boldsymbol{H}^{(\\alpha)}_t = \\text{RELU} \\bigg( \\widetilde{\\boldsymbol{x}}^{(\\alpha)}_{(\\cdot,t)} \\boldsymbol{W}_{h} + \\boldsymbol{b}_{h}  \\bigg)\n",
    "$$\n",
    "- $\\boldsymbol{W}_{o}$, $\\boldsymbol{b}_{o}$ : weights and bias for output unit activations $\\boldsymbol{O}^{(\\alpha)}_t$\n",
    "$$\n",
    "\\boldsymbol{O}^{(\\alpha)}_t = \\text{RELU} \\bigg( \\boldsymbol{H}^{(\\alpha)}_t \\boldsymbol{W}_{o} + \\boldsymbol{b}_{o}  \\bigg)\n",
    "$$\n",
    "- $\\boldsymbol{W}_{r}$, $\\boldsymbol{b}_{r}$ : weights and bias for recurrent unit activations $\\boldsymbol{r}^{(\\alpha)}_{t+1}$\n",
    "$$\n",
    "\\boldsymbol{r}^{(\\alpha)}_{t+1} = \\text{RELU} \\bigg( \\boldsymbol{H}^{(\\alpha)}_t \\boldsymbol{W}_{r} + \\boldsymbol{b}_{r}  \\bigg)\n",
    "$$\n",
    "- $\\hat{\\boldsymbol{y}}^{(\\alpha)}$ : class predictions of $\\boldsymbol{x}^{(\\alpha)}$\n",
    "$$\n",
    "\\hat{\\boldsymbol{y}}^{(\\alpha)} = \\text{SOFTMAX} \\bigg( \\boldsymbol{O}^{(\\alpha)}_{28}  \\bigg) \n",
    "$$"
   ]
  },
  {
   "cell_type": "markdown",
   "metadata": {},
   "source": [
    "## Training Parameters"
   ]
  },
  {
   "cell_type": "code",
   "execution_count": 162,
   "metadata": {},
   "outputs": [],
   "source": [
    "# These parameters are choosed arbitrarily.\n",
    "NETWORK_PARAMS = {\n",
    "    'batch_size': 50,\n",
    "    'pior_cell_layer_units': 100,\n",
    "#     'pior_output_units': 300,\n",
    "    'hidden_units': 60,\n",
    "    'output_units': 10,\n",
    "    'recurrent_units': 7,\n",
    "    'input_max_seq_length': 28,\n",
    "    'input_dims': 28,\n",
    "    'learning_rate': 0.01,\n",
    "}"
   ]
  },
  {
   "cell_type": "markdown",
   "metadata": {},
   "source": [
    "## Implementation"
   ]
  },
  {
   "cell_type": "code",
   "execution_count": null,
   "metadata": {},
   "outputs": [
    {
     "name": "stderr",
     "output_type": "stream",
     "text": [
      "2017-10-08 22:35:06,213 | INFO : <ipython-input-172-fff692566896>(train_and_evaluate 3) - Training 4 columns at a time\n"
     ]
    },
    {
     "name": "stdout",
     "output_type": "stream",
     "text": [
      "(?, 112)\n",
      "(?, 112)\n",
      "(?, 112)\n",
      "(?, 112)\n",
      "(?, 112)\n",
      "(?, 112)\n",
      "(?, 112)\n"
     ]
    },
    {
     "name": "stderr",
     "output_type": "stream",
     "text": [
      "2017-10-08 22:35:30,046 | INFO : <ipython-input-172-fff692566896>(train_and_evaluate 48) - epoch 1\n"
     ]
    }
   ],
   "source": [
    "def train_and_evaluate(seq_length=1, epoch=2, _lr=NETWORK_PARAMS['learning_rate'], debug=False):\n",
    "    no_input_cols = NETWORK_PARAMS['input_max_seq_length'] // seq_length\n",
    "    logging.info('Training %d columns at a time' % no_input_cols)\n",
    "\n",
    "    recurrent_inputs = tf.placeholder(tf.float32, shape=(None, NETWORK_PARAMS['recurrent_units']))\n",
    "\n",
    "\n",
    "    input_weights, input_bias = build_layer((NETWORK_PARAMS['input_dims']*no_input_cols, NETWORK_PARAMS['pior_cell_layer_units']), 'input')\n",
    "    input_tc_weights, input_tc_bias = build_layer((NETWORK_PARAMS['pior_cell_layer_units'] +NETWORK_PARAMS['recurrent_units'] , NETWORK_PARAMS['hidden_units']), 'input_tc')\n",
    "    \n",
    "    output_weights, output_bias = build_layer((NETWORK_PARAMS['hidden_units'], NETWORK_PARAMS['output_units']), 'output')\n",
    "    \n",
    "    recurrent_output_weights, recurrent_output_bias = build_layer((NETWORK_PARAMS['hidden_units'], NETWORK_PARAMS['recurrent_units']), 'recurrent')\n",
    "\n",
    "\n",
    "    x_input = tf.placeholder(tf.float32, shape=(None, NETWORK_PARAMS['input_dims'], NETWORK_PARAMS['input_dims']))\n",
    "    y_ = tf.placeholder(tf.float32, [None, 10])\n",
    "\n",
    "    rr = recurrent_inputs\n",
    "    \n",
    "\n",
    "    for i in range(0, x_input.shape[1], no_input_cols):\n",
    "        ii = tf.reshape(x_input[:,i:i+no_input_cols], [-1, no_input_cols * NETWORK_PARAMS['input_dims'] ])\n",
    "        print(ii.shape)\n",
    "        itc = tf.nn.relu(tf.matmul(ii, input_weights) + input_bias)\n",
    "        \n",
    "        xr = tf.concat([itc, rr], axis=1)\n",
    "        ha = tf.nn.relu(tf.matmul(xr, input_tc_weights) + input_tc_bias)\n",
    "        ot = tf.matmul(ha, output_weights) + output_bias\n",
    "        rr = tf.nn.relu(tf.matmul(ha, recurrent_output_weights) + recurrent_output_bias)\n",
    "\n",
    "    y = ot\n",
    "\n",
    "    loss_op = tf.reduce_mean(tf.nn.softmax_cross_entropy_with_logits(logits=y, labels=y_))\n",
    "\n",
    "    train_op = tf.train.AdamOptimizer(learning_rate=_lr).minimize(loss_op)\n",
    "\n",
    "    init_op = tf.global_variables_initializer()\n",
    "\n",
    "    correct_prediction = tf.equal(tf.argmax(y,1), tf.argmax(y_,1))\n",
    "    accuracy = tf.reduce_mean(tf.cast(correct_prediction, tf.float32))\n",
    "    \n",
    "    with tf.Session() as sess:\n",
    "        sess.run(init_op)\n",
    "\n",
    "        step = 1\n",
    "        for i in range(epoch):\n",
    "            logging.info('epoch %d' % (i+1))\n",
    "            for xf, yf in batch_data(X_train_2d, Y_train, n=NETWORK_PARAMS['batch_size']):\n",
    "        \n",
    "                rr = np.zeros((NETWORK_PARAMS['batch_size'], NETWORK_PARAMS['recurrent_units']))\n",
    "                sess.run(train_op, feed_dict={x_input: xf, y_: yf, recurrent_inputs: rr})\n",
    "                \n",
    "                if (step % 500 == 0 or step < 10) and debug:\n",
    "                    rr = np.zeros((len(yf), NETWORK_PARAMS['recurrent_units']))\n",
    "                    acc, loss = sess.run([accuracy, loss_op], feed_dict={x_input: xf, y_: yf, recurrent_inputs:rr})\n",
    "                    logging.info('step %d : train acc %f, loss %f' % (step, acc, loss))\n",
    "                    \n",
    "                step = step + 1\n",
    "                \n",
    "        rr = np.zeros((len(mnist.test.labels), NETWORK_PARAMS['recurrent_units']))\n",
    "        acc = sess.run(accuracy, feed_dict={x_input: X_test_2d, y_: Y_test, recurrent_inputs: rr})\n",
    "        print('Seq Length %d (%d epoch trained): Test acc %f' % (seq_length, epoch, acc))\n",
    "        return acc\n",
    "    \n",
    "train_and_evaluate(seq_length=7, epoch=5)"
   ]
  },
  {
   "cell_type": "code",
   "execution_count": 170,
   "metadata": {},
   "outputs": [
    {
     "name": "stderr",
     "output_type": "stream",
     "text": [
      "2017-10-08 13:23:35,668 | INFO : <ipython-input-168-b606a74ff083>(train_and_evaluate 3) - Training 4 columns at a time\n",
      "2017-10-08 13:23:53,470 | INFO : <ipython-input-168-b606a74ff083>(train_and_evaluate 47) - epoch 1\n",
      "2017-10-08 13:23:54,028 | INFO : <ipython-input-168-b606a74ff083>(train_and_evaluate 56) - step 1 : train acc 0.360000, loss 2.263072\n",
      "2017-10-08 13:23:54,035 | INFO : <ipython-input-168-b606a74ff083>(train_and_evaluate 56) - step 2 : train acc 0.300000, loss 2.230270\n",
      "2017-10-08 13:23:54,042 | INFO : <ipython-input-168-b606a74ff083>(train_and_evaluate 56) - step 3 : train acc 0.300000, loss 2.240301\n",
      "2017-10-08 13:23:54,048 | INFO : <ipython-input-168-b606a74ff083>(train_and_evaluate 56) - step 4 : train acc 0.200000, loss 2.182860\n",
      "2017-10-08 13:23:54,055 | INFO : <ipython-input-168-b606a74ff083>(train_and_evaluate 56) - step 5 : train acc 0.320000, loss 2.166144\n",
      "2017-10-08 13:23:54,062 | INFO : <ipython-input-168-b606a74ff083>(train_and_evaluate 56) - step 6 : train acc 0.240000, loss 2.166861\n",
      "2017-10-08 13:23:54,070 | INFO : <ipython-input-168-b606a74ff083>(train_and_evaluate 56) - step 7 : train acc 0.240000, loss 2.024304\n",
      "2017-10-08 13:23:54,077 | INFO : <ipython-input-168-b606a74ff083>(train_and_evaluate 56) - step 8 : train acc 0.200000, loss 1.951886\n",
      "2017-10-08 13:23:54,083 | INFO : <ipython-input-168-b606a74ff083>(train_and_evaluate 56) - step 9 : train acc 0.220000, loss 1.967808\n",
      "2017-10-08 13:23:55,426 | INFO : <ipython-input-168-b606a74ff083>(train_and_evaluate 56) - step 500 : train acc 0.840000, loss 0.496318\n",
      "2017-10-08 13:23:56,791 | INFO : <ipython-input-168-b606a74ff083>(train_and_evaluate 56) - step 1000 : train acc 0.760000, loss 0.623531\n",
      "2017-10-08 13:23:57,335 | INFO : <ipython-input-168-b606a74ff083>(train_and_evaluate 47) - epoch 2\n",
      "2017-10-08 13:23:58,144 | INFO : <ipython-input-168-b606a74ff083>(train_and_evaluate 56) - step 1500 : train acc 0.840000, loss 0.563578\n",
      "2017-10-08 13:23:59,489 | INFO : <ipython-input-168-b606a74ff083>(train_and_evaluate 56) - step 2000 : train acc 0.840000, loss 0.476096\n",
      "2017-10-08 13:24:00,569 | INFO : <ipython-input-168-b606a74ff083>(train_and_evaluate 47) - epoch 3\n",
      "2017-10-08 13:24:00,846 | INFO : <ipython-input-168-b606a74ff083>(train_and_evaluate 56) - step 2500 : train acc 0.820000, loss 0.603220\n",
      "2017-10-08 13:24:02,205 | INFO : <ipython-input-168-b606a74ff083>(train_and_evaluate 56) - step 3000 : train acc 0.880000, loss 0.450753\n",
      "2017-10-08 13:24:03,550 | INFO : <ipython-input-168-b606a74ff083>(train_and_evaluate 56) - step 3500 : train acc 0.860000, loss 0.560662\n",
      "2017-10-08 13:24:03,826 | INFO : <ipython-input-168-b606a74ff083>(train_and_evaluate 47) - epoch 4\n",
      "2017-10-08 13:24:04,902 | INFO : <ipython-input-168-b606a74ff083>(train_and_evaluate 56) - step 4000 : train acc 0.880000, loss 0.332961\n",
      "2017-10-08 13:24:06,240 | INFO : <ipython-input-168-b606a74ff083>(train_and_evaluate 56) - step 4500 : train acc 0.900000, loss 0.283506\n",
      "2017-10-08 13:24:07,050 | INFO : <ipython-input-168-b606a74ff083>(train_and_evaluate 47) - epoch 5\n",
      "2017-10-08 13:24:07,594 | INFO : <ipython-input-168-b606a74ff083>(train_and_evaluate 56) - step 5000 : train acc 0.960000, loss 0.139114\n",
      "2017-10-08 13:24:08,939 | INFO : <ipython-input-168-b606a74ff083>(train_and_evaluate 56) - step 5500 : train acc 0.980000, loss 0.128861\n",
      "2017-10-08 13:24:10,282 | INFO : <ipython-input-168-b606a74ff083>(train_and_evaluate 56) - step 6000 : train acc 0.900000, loss 0.253860\n",
      "2017-10-08 13:24:10,283 | INFO : <ipython-input-168-b606a74ff083>(train_and_evaluate 47) - epoch 6\n",
      "2017-10-08 13:24:11,633 | INFO : <ipython-input-168-b606a74ff083>(train_and_evaluate 56) - step 6500 : train acc 0.960000, loss 0.283116\n",
      "2017-10-08 13:24:12,988 | INFO : <ipython-input-168-b606a74ff083>(train_and_evaluate 56) - step 7000 : train acc 0.860000, loss 0.448533\n",
      "2017-10-08 13:24:13,537 | INFO : <ipython-input-168-b606a74ff083>(train_and_evaluate 47) - epoch 7\n",
      "2017-10-08 13:24:14,344 | INFO : <ipython-input-168-b606a74ff083>(train_and_evaluate 56) - step 7500 : train acc 0.920000, loss 0.323928\n",
      "2017-10-08 13:24:15,692 | INFO : <ipython-input-168-b606a74ff083>(train_and_evaluate 56) - step 8000 : train acc 0.960000, loss 0.124202\n",
      "2017-10-08 13:24:16,772 | INFO : <ipython-input-168-b606a74ff083>(train_and_evaluate 47) - epoch 8\n",
      "2017-10-08 13:24:17,049 | INFO : <ipython-input-168-b606a74ff083>(train_and_evaluate 56) - step 8500 : train acc 0.920000, loss 0.392346\n",
      "2017-10-08 13:24:18,390 | INFO : <ipython-input-168-b606a74ff083>(train_and_evaluate 56) - step 9000 : train acc 0.920000, loss 0.283184\n",
      "2017-10-08 13:24:19,733 | INFO : <ipython-input-168-b606a74ff083>(train_and_evaluate 56) - step 9500 : train acc 0.900000, loss 0.258895\n",
      "2017-10-08 13:24:20,011 | INFO : <ipython-input-168-b606a74ff083>(train_and_evaluate 47) - epoch 9\n",
      "2017-10-08 13:24:21,100 | INFO : <ipython-input-168-b606a74ff083>(train_and_evaluate 56) - step 10000 : train acc 0.900000, loss 0.396208\n",
      "2017-10-08 13:24:22,468 | INFO : <ipython-input-168-b606a74ff083>(train_and_evaluate 56) - step 10500 : train acc 0.940000, loss 0.206135\n",
      "2017-10-08 13:24:23,278 | INFO : <ipython-input-168-b606a74ff083>(train_and_evaluate 47) - epoch 10\n",
      "2017-10-08 13:24:23,819 | INFO : <ipython-input-168-b606a74ff083>(train_and_evaluate 56) - step 11000 : train acc 0.980000, loss 0.111895\n",
      "2017-10-08 13:24:25,162 | INFO : <ipython-input-168-b606a74ff083>(train_and_evaluate 56) - step 11500 : train acc 0.900000, loss 0.188370\n",
      "2017-10-08 13:24:26,511 | INFO : <ipython-input-168-b606a74ff083>(train_and_evaluate 56) - step 12000 : train acc 0.980000, loss 0.095522\n"
     ]
    },
    {
     "name": "stdout",
     "output_type": "stream",
     "text": [
      "Seq Length 7 (10 epoch trained): Test acc 0.901500\n"
     ]
    },
    {
     "data": {
      "text/plain": [
       "0.90149999"
      ]
     },
     "execution_count": 170,
     "metadata": {},
     "output_type": "execute_result"
    }
   ],
   "source": [
    "train_and_evaluate(seq_length=7, epoch=10, debug=True)"
   ]
  },
  {
   "cell_type": "code",
   "execution_count": null,
   "metadata": {},
   "outputs": [],
   "source": [
    "# no_runs = 10\n",
    "# accs = []\n",
    "# for i in range(no_runs):\n",
    "#     logging.info('Run %d' % (i+1))\n",
    "#     acc = train_and_evaluate()\n",
    "#     accs.append(acc)"
   ]
  },
  {
   "cell_type": "code",
   "execution_count": 69,
   "metadata": {},
   "outputs": [
    {
     "name": "stdout",
     "output_type": "stream",
     "text": [
      "Average accuracy over 10 runs : 0.10±0.01\n",
      "max acc: 0.11\n",
      "min acc: 0.09\n"
     ]
    }
   ],
   "source": [
    "# print('Average accuracy over %d runs : %.2f±%.2f' % (no_runs, np.mean(accs), np.std(accs)))\n",
    "# print('max acc: %.2f' % np.max(accs))\n",
    "# print('min acc: %.2f' % np.min(accs))"
   ]
  },
  {
   "cell_type": "markdown",
   "metadata": {},
   "source": [
    "# Feed k columns at a time"
   ]
  },
  {
   "cell_type": "code",
   "execution_count": 21,
   "metadata": {},
   "outputs": [
    {
     "data": {
      "text/plain": [
       "1.0"
      ]
     },
     "execution_count": 21,
     "metadata": {},
     "output_type": "execute_result"
    }
   ],
   "source": [
    "# def train_and_evaluate_network2(_lr=0.01, seq_lenghinput_dims=28, recurrent_units=7, output_units=10, hidden_units=100):\n",
    "#     recurrent_inputs = tf.placeholder(tf.float32, shape=(None, NETWORK_PARAMS['recurrent_units']))\n",
    "\n",
    "#     input_weights = tf.Variable(\n",
    "#         tf.truncated_normal(\n",
    "#             (\n",
    "#              NETWORK_PARAMS['input_dims'] + NETWORK_PARAMS['recurrent_units'],\n",
    "#              NETWORK_PARAMS['hidden_units']\n",
    "#             ),\n",
    "#             stddev=0.1\n",
    "#         ),\n",
    "#         name=\"input_weights\"\n",
    "#     )\n",
    "\n",
    "#     input_bias = tf.Variable(\n",
    "#         tf.zeros(\n",
    "#             (\n",
    "#              NETWORK_PARAMS['hidden_units']\n",
    "#             ),\n",
    "#         ),\n",
    "#         name=\"input_bias\"\n",
    "#     )\n",
    "\n",
    "#     output_weights = tf.Variable(\n",
    "#         tf.truncated_normal(\n",
    "#             (NETWORK_PARAMS['hidden_units'], NETWORK_PARAMS['output_units']),\n",
    "#             stddev=0.1\n",
    "#         ),\n",
    "#         name=\"output_weights\"\n",
    "#     )\n",
    "\n",
    "#     output_bias = tf.Variable(\n",
    "#         tf.zeros(\n",
    "#             (\n",
    "#              NETWORK_PARAMS['output_units']\n",
    "#             ),\n",
    "#         ),\n",
    "#         name=\"output_bias\"\n",
    "#     )\n",
    "\n",
    "#     recurrent_output_weights = tf.Variable(\n",
    "#         tf.truncated_normal(\n",
    "#             (NETWORK_PARAMS['hidden_units'], NETWORK_PARAMS['recurrent_units']),\n",
    "#             stddev=0.1\n",
    "#         ),\n",
    "#         name=\"recurrent_output_weights\"\n",
    "#     )\n",
    "\n",
    "#     recurrent_output_bias = tf.Variable(\n",
    "#         tf.zeros(\n",
    "#             (\n",
    "#              NETWORK_PARAMS['recurrent_units']\n",
    "#             ),\n",
    "#         ),\n",
    "#         name=\"recurrent_output_bias\"\n",
    "#     )\n",
    "\n",
    "#     x_input = tf.placeholder(tf.float32, shape=(None, NETWORK_PARAMS['input_dims'], NETWORK_PARAMS['input_dims']))\n",
    "#     y_ = tf.placeholder(tf.float32, [None, 10])\n",
    "\n",
    "#     rr = recurrent_inputs\n",
    "#     for i in range(NETWORK_PARAMS['input_seq_length']):\n",
    "#         xr = tf.concat([ x_input[:,i], rr], axis=1)\n",
    "#         ha = tf.nn.relu(tf.matmul(xr, input_weights) + input_bias)\n",
    "#         ot = tf.nn.relu(tf.matmul(ha, output_weights) + output_bias)\n",
    "#         rr = tf.nn.relu(tf.matmul(ha, recurrent_output_weights) + recurrent_output_bias)\n",
    "\n",
    "#     y = tf.nn.softmax(ot)\n",
    "\n",
    "#     cross_entropy = tf.reduce_mean(tf.nn.softmax_cross_entropy_with_logits(labels=y_, logits=y))\n",
    "#     train_step = tf.train.AdamOptimizer(learning_rate=_lr).minimize(cross_entropy)\n",
    "\n",
    "#     init_op = tf.global_variables_initializer()\n",
    "\n",
    "#     with tf.Session() as sess:\n",
    "#         sess.run(init_op)\n",
    "\n",
    "#         for i in range(NETWORK_PARAMS['train_epochs']):\n",
    "#             logging.info('epoch %d' % i)\n",
    "#             for xf, yf in batch_data(X_train_2d, Y_train, n=NETWORK_PARAMS['batch_size']):\n",
    "#                 rr = np.zeros((NETWORK_PARAMS['batch_size'], NETWORK_PARAMS['recurrent_units']))\n",
    "#                 train_step.run(feed_dict={x_input: xf, y_: yf, recurrent_inputs: rr})\n",
    "\n",
    "#         correct_prediction = tf.equal(tf.argmax(y,1), tf.argmax(y_,1))\n",
    "#         accuracy = tf.reduce_mean(tf.cast(correct_prediction, tf.float32))\n",
    "\n",
    "#         rr = np.zeros((len(Y_test), NETWORK_PARAMS['recurrent_units']))\n",
    "\n",
    "#         acc = accuracy.eval(feed_dict={x_input: X_test_2d, y_: Y_test, recurrent_inputs: rr})\n",
    "#         logging.info('Accuracy %.2f%%' % (acc*100))\n",
    "#     return acc"
   ]
  },
  {
   "cell_type": "code",
   "execution_count": 44,
   "metadata": {},
   "outputs": [
    {
     "name": "stdout",
     "output_type": "stream",
     "text": [
      "0 4\n",
      "4 8\n",
      "8 12\n",
      "12 16\n",
      "16 20\n",
      "20 24\n",
      "24 28\n"
     ]
    }
   ],
   "source": [
    "total = 28\n",
    "seq_length = 7\n",
    "no_col = total // seq_length\n",
    "\n",
    "for i in range(0, total, no_col):\n",
    "    print(i, i + no_col)\n",
    "# print(no_col)"
   ]
  },
  {
   "cell_type": "code",
   "execution_count": 90,
   "metadata": {},
   "outputs": [
    {
     "data": {
      "text/plain": [
       "array([ 0.,  0.,  0.,  0.,  0.,  1.,  0.,  0.,  0.,  0.])"
      ]
     },
     "execution_count": 90,
     "metadata": {},
     "output_type": "execute_result"
    }
   ],
   "source": [
    "Y_train[0,:]"
   ]
  },
  {
   "cell_type": "code",
   "execution_count": 35,
   "metadata": {},
   "outputs": [
    {
     "name": "stdout",
     "output_type": "stream",
     "text": [
      "Extracting ../data/mnist/train-images-idx3-ubyte.gz\n",
      "Extracting ../data/mnist/train-labels-idx1-ubyte.gz\n",
      "Extracting ../data/mnist/t10k-images-idx3-ubyte.gz\n",
      "Extracting ../data/mnist/t10k-labels-idx1-ubyte.gz\n"
     ]
    }
   ],
   "source": [
    "from tensorflow.examples.tutorials.mnist import input_data\n",
    "mnist = input_data.read_data_sets(\"../data/mnist\", one_hot=True)"
   ]
  },
  {
   "cell_type": "code",
   "execution_count": 31,
   "metadata": {},
   "outputs": [],
   "source": [
    "def build_layer(dims,name):\n",
    "    weights = tf.Variable(\n",
    "        tf.truncated_normal(dims, stddev=0.1),\n",
    "        name=\"%s_weights\"%name\n",
    "    )\n",
    "\n",
    "    bias = tf.Variable(\n",
    "        tf.zeros(dims[1]),\n",
    "        name=\"%s_bias\"%name\n",
    "    )\n",
    "    return weights, bias"
   ]
  },
  {
   "cell_type": "code",
   "execution_count": 56,
   "metadata": {},
   "outputs": [
    {
     "name": "stdout",
     "output_type": "stream",
     "text": [
      "Loss 208.603729, training acc 0.109375)\n",
      "Loss 91.194565, training acc 0.343750)\n",
      "Loss 1.995476, training acc 0.226562)\n",
      "Loss 1.843038, training acc 0.312500)\n",
      "Loss 1.825322, training acc 0.257812)\n",
      "Loss 1.618306, training acc 0.375000)\n",
      "Test acc 0.340300\n"
     ]
    }
   ],
   "source": [
    "def simple_relu_net():\n",
    "    learning_rate=0.1\n",
    "    x_input = tf.placeholder(tf.float32, shape=(None, NETWORK_PARAMS['input_dims']*NETWORK_PARAMS['input_dims']))\n",
    "    y_ = tf.placeholder(tf.float32, [None, 10])\n",
    "\n",
    "    l1_w, l1_b = build_layer((784,256), 'l1')\n",
    "    lx_w, lx_b = build_layer((256,256), 'lx')\n",
    "    l2_w, l2_b = build_layer((256,10), 'l2')\n",
    "    \n",
    "    mt = tf.nn.relu(tf.matmul(x_input, l1_w) + l1_b )\n",
    "    gg = tf.nn.relu(tf.matmul(mt, lx_w) + lx_b )\n",
    "    ot = tf.matmul(gg, l2_w) + l2_b\n",
    "     \n",
    "    y = ot\n",
    "\n",
    "    loss_op = tf.reduce_mean(tf.nn.softmax_cross_entropy_with_logits(logits=y, labels=y_))\n",
    "    optimizer = tf.train.AdamOptimizer(learning_rate=learning_rate)\n",
    "    train_op = optimizer.minimize(loss_op)\n",
    "\n",
    "    with tf.Session() as sess:\n",
    "        sess.run(tf.global_variables_initializer())\n",
    "        \n",
    "        correct_prediction = tf.equal(tf.argmax(y,1), tf.argmax(y_,1))\n",
    "        accuracy = tf.reduce_mean(tf.cast(correct_prediction, tf.float32))\n",
    "\n",
    "        for i in range(500):\n",
    "            batch = mnist.train.next_batch(128)\n",
    "            \n",
    "            sess.run(train_op, feed_dict={x_input: batch[0], y_: batch[1]})\n",
    "            \n",
    "            if i % 100 == 0 or i == 1:\n",
    "                \n",
    "                acc, loss = sess.run([accuracy, loss_op], feed_dict={x_input: batch[0], y_: batch[1]})\n",
    "                print('Loss %f, training acc %f)' %(loss, acc))\n",
    "#                 print(\"Train Accuracy : %.4f\" % sess.run(accuracy, feed_dict={x_input: X_train_2d.reshape(-1,28*28), y_: Y_train}))\n",
    "#                 print(\"Train Accuracy : %.4f\" % sess.run(accuracy, feed_dict={x_input: mnist.train.images, y_: mnist.train.labels}))\n",
    "        print('Test acc %f' % sess.run(accuracy, feed_dict={x_input: mnist.test.images, y_: mnist.test.labels}))\n",
    "simple_relu_net()"
   ]
  },
  {
   "cell_type": "code",
   "execution_count": null,
   "metadata": {},
   "outputs": [],
   "source": [
    "# bug!\n",
    "def batch_data(x, y, n=1):\n",
    "    l = len(x)\n",
    "    for ndx in range(0, l, n):\n",
    "        yield (x[ndx:min(ndx + n, l)],  y[ndx:min(ndx + n, l)])"
   ]
  },
  {
   "cell_type": "code",
   "execution_count": 25,
   "metadata": {},
   "outputs": [
    {
     "name": "stdout",
     "output_type": "stream",
     "text": [
      "[[  0   0   0   0   0   0   0   0   0   0   0   0   0   0   0   0   0   0\n",
      "    0   0   0   0   0   0   0   0   0   0]\n",
      " [  0   0   0   0   0   0   0   0   0   0   0   0   0   0   0   0   0   0\n",
      "    0   0   0   0   0   0   0   0   0   0]\n",
      " [  0   0   0   0   0   0   0   0   0   0   0   0   0   0   0   0   0   0\n",
      "    0   0   0   0   0   0   0   0   0   0]\n",
      " [  0   0   0   0   0   0   0   0   0   0   0   0   0   0   0   0   0   0\n",
      "    0   0   0   0   0   0   0   0   0   0]\n",
      " [  0   0   0   0   0   0   0   0   0   0   0   0   0   0   0   0   0   0\n",
      "    0   0   0   0   0   0   0   0   0   0]\n",
      " [  0   0   0   0   0   0   0   0   0   0   0   0   3  18  18  18 126 136\n",
      "  175  26 166 255 247 127   0   0   0   0]\n",
      " [  0   0   0   0   0   0   0   0  30  36  94 154 170 253 253 253 253 253\n",
      "  225 172 253 242 195  64   0   0   0   0]\n",
      " [  0   0   0   0   0   0   0  49 238 253 253 253 253 253 253 253 253 251\n",
      "   93  82  82  56  39   0   0   0   0   0]\n",
      " [  0   0   0   0   0   0   0  18 219 253 253 253 253 253 198 182 247 241\n",
      "    0   0   0   0   0   0   0   0   0   0]\n",
      " [  0   0   0   0   0   0   0   0  80 156 107 253 253 205  11   0  43 154\n",
      "    0   0   0   0   0   0   0   0   0   0]\n",
      " [  0   0   0   0   0   0   0   0   0  14   1 154 253  90   0   0   0   0\n",
      "    0   0   0   0   0   0   0   0   0   0]\n",
      " [  0   0   0   0   0   0   0   0   0   0   0 139 253 190   2   0   0   0\n",
      "    0   0   0   0   0   0   0   0   0   0]\n",
      " [  0   0   0   0   0   0   0   0   0   0   0  11 190 253  70   0   0   0\n",
      "    0   0   0   0   0   0   0   0   0   0]\n",
      " [  0   0   0   0   0   0   0   0   0   0   0   0  35 241 225 160 108   1\n",
      "    0   0   0   0   0   0   0   0   0   0]\n",
      " [  0   0   0   0   0   0   0   0   0   0   0   0   0  81 240 253 253 119\n",
      "   25   0   0   0   0   0   0   0   0   0]\n",
      " [  0   0   0   0   0   0   0   0   0   0   0   0   0   0  45 186 253 253\n",
      "  150  27   0   0   0   0   0   0   0   0]\n",
      " [  0   0   0   0   0   0   0   0   0   0   0   0   0   0   0  16  93 252\n",
      "  253 187   0   0   0   0   0   0   0   0]\n",
      " [  0   0   0   0   0   0   0   0   0   0   0   0   0   0   0   0   0 249\n",
      "  253 249  64   0   0   0   0   0   0   0]\n",
      " [  0   0   0   0   0   0   0   0   0   0   0   0   0   0  46 130 183 253\n",
      "  253 207   2   0   0   0   0   0   0   0]\n",
      " [  0   0   0   0   0   0   0   0   0   0   0   0  39 148 229 253 253 253\n",
      "  250 182   0   0   0   0   0   0   0   0]\n",
      " [  0   0   0   0   0   0   0   0   0   0  24 114 221 253 253 253 253 201\n",
      "   78   0   0   0   0   0   0   0   0   0]\n",
      " [  0   0   0   0   0   0   0   0  23  66 213 253 253 253 253 198  81   2\n",
      "    0   0   0   0   0   0   0   0   0   0]\n",
      " [  0   0   0   0   0   0  18 171 219 253 253 253 253 195  80   9   0   0\n",
      "    0   0   0   0   0   0   0   0   0   0]\n",
      " [  0   0   0   0  55 172 226 253 253 253 253 244 133  11   0   0   0   0\n",
      "    0   0   0   0   0   0   0   0   0   0]\n",
      " [  0   0   0   0 136 253 253 253 212 135 132  16   0   0   0   0   0   0\n",
      "    0   0   0   0   0   0   0   0   0   0]\n",
      " [  0   0   0   0   0   0   0   0   0   0   0   0   0   0   0   0   0   0\n",
      "    0   0   0   0   0   0   0   0   0   0]\n",
      " [  0   0   0   0   0   0   0   0   0   0   0   0   0   0   0   0   0   0\n",
      "    0   0   0   0   0   0   0   0   0   0]\n",
      " [  0   0   0   0   0   0   0   0   0   0   0   0   0   0   0   0   0   0\n",
      "    0   0   0   0   0   0   0   0   0   0]]\n"
     ]
    }
   ],
   "source": [
    "a = [1,2,3,4,5,6]\n",
    "b = [-1,-2,-3,-4,-5,-6]\n",
    "\n",
    "for i,j in batch_data(X_train_2d, Y_train, n=100):\n",
    "    print(i[0,:])\n",
    "    break"
   ]
  },
  {
   "cell_type": "code",
   "execution_count": 30,
   "metadata": {},
   "outputs": [
    {
     "data": {
      "text/plain": [
       "array([[ 0.        ,  0.        ,  0.        ,  0.        ,  0.        ,\n",
       "         0.        ,  0.        ,  0.        ,  0.        ,  0.        ,\n",
       "         0.        ,  0.        ,  0.        ,  0.        ,  0.        ,\n",
       "         0.        ,  0.        ,  0.        ,  0.        ,  0.        ,\n",
       "         0.        ,  0.        ,  0.        ,  0.        ,  0.        ,\n",
       "         0.        ,  0.        ,  0.        ],\n",
       "       [ 0.        ,  0.        ,  0.        ,  0.        ,  0.        ,\n",
       "         0.        ,  0.        ,  0.        ,  0.        ,  0.        ,\n",
       "         0.        ,  0.        ,  0.        ,  0.        ,  0.        ,\n",
       "         0.        ,  0.        ,  0.        ,  0.        ,  0.        ,\n",
       "         0.        ,  0.        ,  0.        ,  0.        ,  0.        ,\n",
       "         0.        ,  0.        ,  0.        ],\n",
       "       [ 0.        ,  0.        ,  0.        ,  0.        ,  0.        ,\n",
       "         0.        ,  0.        ,  0.        ,  0.        ,  0.        ,\n",
       "         0.        ,  0.        ,  0.        ,  0.        ,  0.        ,\n",
       "         0.        ,  0.        ,  0.        ,  0.        ,  0.        ,\n",
       "         0.        ,  0.        ,  0.        ,  0.        ,  0.        ,\n",
       "         0.        ,  0.        ,  0.        ],\n",
       "       [ 0.        ,  0.        ,  0.        ,  0.        ,  0.        ,\n",
       "         0.        ,  0.        ,  0.        ,  0.        ,  0.        ,\n",
       "         0.        ,  0.        ,  0.        ,  0.        ,  0.        ,\n",
       "         0.41176474,  0.89019614,  0.99215692,  0.99215692,  0.23529413,\n",
       "         0.        ,  0.        ,  0.        ,  0.        ,  0.        ,\n",
       "         0.        ,  0.        ,  0.        ],\n",
       "       [ 0.        ,  0.        ,  0.        ,  0.        ,  0.        ,\n",
       "         0.        ,  0.        ,  0.        ,  0.        ,  0.        ,\n",
       "         0.        ,  0.        ,  0.        ,  0.        ,  0.45490199,\n",
       "         0.99215692,  0.98823535,  0.98823535,  0.98823535,  0.57647061,\n",
       "         0.        ,  0.        ,  0.        ,  0.        ,  0.        ,\n",
       "         0.        ,  0.        ,  0.        ],\n",
       "       [ 0.        ,  0.        ,  0.        ,  0.        ,  0.        ,\n",
       "         0.        ,  0.        ,  0.        ,  0.        ,  0.        ,\n",
       "         0.        ,  0.        ,  0.00784314,  0.63529414,  0.97647065,\n",
       "         0.99215692,  0.98823535,  0.98823535,  0.98823535,  0.36862746,\n",
       "         0.        ,  0.        ,  0.        ,  0.        ,  0.        ,\n",
       "         0.        ,  0.        ,  0.        ],\n",
       "       [ 0.        ,  0.        ,  0.        ,  0.        ,  0.        ,\n",
       "         0.        ,  0.        ,  0.        ,  0.        ,  0.        ,\n",
       "         0.        ,  0.        ,  0.63529414,  0.98823535,  0.98823535,\n",
       "         0.99215692,  0.98823535,  0.98823535,  0.54509807,  0.05490196,\n",
       "         0.        ,  0.        ,  0.        ,  0.        ,  0.        ,\n",
       "         0.        ,  0.        ,  0.        ],\n",
       "       [ 0.        ,  0.        ,  0.        ,  0.        ,  0.        ,\n",
       "         0.        ,  0.        ,  0.        ,  0.        ,  0.        ,\n",
       "         0.        ,  0.45490199,  0.97647065,  0.98823535,  0.98823535,\n",
       "         0.92549026,  0.57647061,  0.5411765 ,  0.05490196,  0.        ,\n",
       "         0.        ,  0.        ,  0.        ,  0.        ,  0.        ,\n",
       "         0.        ,  0.        ,  0.        ],\n",
       "       [ 0.        ,  0.        ,  0.        ,  0.        ,  0.        ,\n",
       "         0.        ,  0.        ,  0.        ,  0.        ,  0.        ,\n",
       "         0.2392157 ,  0.99215692,  0.99215692,  0.99215692,  0.92549026,\n",
       "         0.17647059,  0.        ,  0.        ,  0.        ,  0.        ,\n",
       "         0.        ,  0.        ,  0.        ,  0.        ,  0.        ,\n",
       "         0.        ,  0.        ,  0.        ],\n",
       "       [ 0.        ,  0.        ,  0.        ,  0.        ,  0.        ,\n",
       "         0.        ,  0.        ,  0.        ,  0.        ,  0.3137255 ,\n",
       "         0.89019614,  0.98823535,  0.98823535,  0.90588242,  0.38431376,\n",
       "         0.        ,  0.        ,  0.        ,  0.        ,  0.        ,\n",
       "         0.        ,  0.        ,  0.        ,  0.        ,  0.        ,\n",
       "         0.        ,  0.        ,  0.        ],\n",
       "       [ 0.        ,  0.        ,  0.        ,  0.        ,  0.        ,\n",
       "         0.        ,  0.        ,  0.        ,  0.16078432,  0.87450987,\n",
       "         0.99215692,  0.98823535,  0.98431379,  0.50588238,  0.        ,\n",
       "         0.        ,  0.        ,  0.        ,  0.        ,  0.        ,\n",
       "         0.        ,  0.        ,  0.        ,  0.        ,  0.        ,\n",
       "         0.        ,  0.        ,  0.        ],\n",
       "       [ 0.        ,  0.        ,  0.        ,  0.        ,  0.        ,\n",
       "         0.        ,  0.        ,  0.        ,  0.66274512,  0.98823535,\n",
       "         0.99215692,  0.98823535,  0.52549022,  0.        ,  0.        ,\n",
       "         0.        ,  0.        ,  0.02352941,  0.25098041,  0.25098041,\n",
       "         0.21176472,  0.        ,  0.        ,  0.        ,  0.        ,\n",
       "         0.        ,  0.        ,  0.        ],\n",
       "       [ 0.        ,  0.        ,  0.        ,  0.        ,  0.        ,\n",
       "         0.        ,  0.        ,  0.03529412,  0.80000007,  0.98823535,\n",
       "         0.99215692,  0.71372551,  0.01568628,  0.        ,  0.        ,\n",
       "         0.41960788,  0.72549021,  0.84313732,  0.98823535,  0.98823535,\n",
       "         0.96862751,  0.51372552,  0.03529412,  0.        ,  0.        ,\n",
       "         0.        ,  0.        ,  0.        ],\n",
       "       [ 0.        ,  0.        ,  0.        ,  0.        ,  0.        ,\n",
       "         0.        ,  0.        ,  0.74117649,  0.99215692,  0.99215692,\n",
       "         0.90196085,  0.27843139,  0.15294118,  0.44705886,  0.92549026,\n",
       "         1.        ,  0.99215692,  0.99215692,  0.99215692,  0.99215692,\n",
       "         1.        ,  0.99215692,  0.96078438,  0.19215688,  0.        ,\n",
       "         0.        ,  0.        ,  0.        ],\n",
       "       [ 0.        ,  0.        ,  0.        ,  0.        ,  0.        ,\n",
       "         0.        ,  0.        ,  0.90980399,  0.98823535,  0.98823535,\n",
       "         0.6901961 ,  0.1137255 ,  0.93725497,  0.98823535,  0.98823535,\n",
       "         0.99215692,  0.98823535,  0.68235296,  0.65882355,  0.7960785 ,\n",
       "         0.99215692,  0.98823535,  0.98823535,  0.63921571,  0.        ,\n",
       "         0.        ,  0.        ,  0.        ],\n",
       "       [ 0.        ,  0.        ,  0.        ,  0.        ,  0.        ,\n",
       "         0.        ,  0.03137255,  0.91764712,  0.98823535,  0.95686281,\n",
       "         0.29019609,  0.83529419,  0.98823535,  0.98823535,  0.95686281,\n",
       "         0.66666669,  0.18431373,  0.00784314,  0.        ,  0.03529412,\n",
       "         0.23529413,  0.98823535,  0.98823535,  0.74117649,  0.        ,\n",
       "         0.        ,  0.        ,  0.        ],\n",
       "       [ 0.        ,  0.        ,  0.        ,  0.        ,  0.        ,\n",
       "         0.        ,  0.33333334,  0.98823535,  0.98823535,  0.57647061,\n",
       "         0.27058825,  0.98823535,  0.98823535,  0.82352948,  0.25882354,\n",
       "         0.        ,  0.        ,  0.        ,  0.        ,  0.        ,\n",
       "         0.27058825,  0.98823535,  0.98823535,  0.74117649,  0.        ,\n",
       "         0.        ,  0.        ,  0.        ],\n",
       "       [ 0.        ,  0.        ,  0.        ,  0.        ,  0.        ,\n",
       "         0.        ,  0.50196081,  0.98823535,  0.98823535,  0.57647061,\n",
       "         0.40784317,  0.98823535,  0.98823535,  0.60392159,  0.24313727,\n",
       "         0.41960788,  0.41568631,  0.03529412,  0.        ,  0.34901962,\n",
       "         0.92549026,  0.98823535,  0.98823535,  0.39607847,  0.        ,\n",
       "         0.        ,  0.        ,  0.        ],\n",
       "       [ 0.        ,  0.        ,  0.        ,  0.        ,  0.        ,\n",
       "         0.        ,  0.74901962,  0.99215692,  0.99215692,  0.57647061,\n",
       "         0.14117648,  0.88235301,  0.99215692,  0.99215692,  0.99215692,\n",
       "         0.83137262,  0.47058827,  0.23529413,  0.85490203,  0.99215692,\n",
       "         1.        ,  0.99215692,  0.80784321,  0.13725491,  0.        ,\n",
       "         0.        ,  0.        ,  0.        ],\n",
       "       [ 0.        ,  0.        ,  0.        ,  0.        ,  0.        ,\n",
       "         0.        ,  0.60784316,  0.98823535,  0.98823535,  0.71372551,\n",
       "         0.14117648,  0.08235294,  0.28235295,  0.38431376,  0.38431376,\n",
       "         0.50196081,  0.82745105,  0.98823535,  0.98823535,  0.98823535,\n",
       "         0.99215692,  0.74117649,  0.05490196,  0.        ,  0.        ,\n",
       "         0.        ,  0.        ,  0.        ],\n",
       "       [ 0.        ,  0.        ,  0.        ,  0.        ,  0.        ,\n",
       "         0.        ,  0.16862746,  0.94901967,  0.98823535,  0.98823535,\n",
       "         0.94901967,  0.90980399,  0.90980399,  0.90980399,  0.9450981 ,\n",
       "         0.99215692,  0.98823535,  0.98823535,  0.98823535,  0.95686281,\n",
       "         0.42745101,  0.01960784,  0.        ,  0.        ,  0.        ,\n",
       "         0.        ,  0.        ,  0.        ],\n",
       "       [ 0.        ,  0.        ,  0.        ,  0.        ,  0.        ,\n",
       "         0.        ,  0.        ,  0.52941179,  0.98823535,  0.98823535,\n",
       "         0.99215692,  0.98823535,  0.98823535,  0.98823535,  0.98823535,\n",
       "         0.99215692,  0.98823535,  0.98823535,  0.92549026,  0.25882354,\n",
       "         0.        ,  0.        ,  0.        ,  0.        ,  0.        ,\n",
       "         0.        ,  0.        ,  0.        ],\n",
       "       [ 0.        ,  0.        ,  0.        ,  0.        ,  0.        ,\n",
       "         0.        ,  0.        ,  0.01568628,  0.26666668,  0.57647061,\n",
       "         0.99215692,  0.98823535,  0.98823535,  0.98823535,  0.81568635,\n",
       "         0.57647061,  0.26666668,  0.16470589,  0.12156864,  0.        ,\n",
       "         0.        ,  0.        ,  0.        ,  0.        ,  0.        ,\n",
       "         0.        ,  0.        ,  0.        ],\n",
       "       [ 0.        ,  0.        ,  0.        ,  0.        ,  0.        ,\n",
       "         0.        ,  0.        ,  0.        ,  0.        ,  0.        ,\n",
       "         0.        ,  0.        ,  0.        ,  0.        ,  0.        ,\n",
       "         0.        ,  0.        ,  0.        ,  0.        ,  0.        ,\n",
       "         0.        ,  0.        ,  0.        ,  0.        ,  0.        ,\n",
       "         0.        ,  0.        ,  0.        ],\n",
       "       [ 0.        ,  0.        ,  0.        ,  0.        ,  0.        ,\n",
       "         0.        ,  0.        ,  0.        ,  0.        ,  0.        ,\n",
       "         0.        ,  0.        ,  0.        ,  0.        ,  0.        ,\n",
       "         0.        ,  0.        ,  0.        ,  0.        ,  0.        ,\n",
       "         0.        ,  0.        ,  0.        ,  0.        ,  0.        ,\n",
       "         0.        ,  0.        ,  0.        ],\n",
       "       [ 0.        ,  0.        ,  0.        ,  0.        ,  0.        ,\n",
       "         0.        ,  0.        ,  0.        ,  0.        ,  0.        ,\n",
       "         0.        ,  0.        ,  0.        ,  0.        ,  0.        ,\n",
       "         0.        ,  0.        ,  0.        ,  0.        ,  0.        ,\n",
       "         0.        ,  0.        ,  0.        ,  0.        ,  0.        ,\n",
       "         0.        ,  0.        ,  0.        ],\n",
       "       [ 0.        ,  0.        ,  0.        ,  0.        ,  0.        ,\n",
       "         0.        ,  0.        ,  0.        ,  0.        ,  0.        ,\n",
       "         0.        ,  0.        ,  0.        ,  0.        ,  0.        ,\n",
       "         0.        ,  0.        ,  0.        ,  0.        ,  0.        ,\n",
       "         0.        ,  0.        ,  0.        ,  0.        ,  0.        ,\n",
       "         0.        ,  0.        ,  0.        ],\n",
       "       [ 0.        ,  0.        ,  0.        ,  0.        ,  0.        ,\n",
       "         0.        ,  0.        ,  0.        ,  0.        ,  0.        ,\n",
       "         0.        ,  0.        ,  0.        ,  0.        ,  0.        ,\n",
       "         0.        ,  0.        ,  0.        ,  0.        ,  0.        ,\n",
       "         0.        ,  0.        ,  0.        ,  0.        ,  0.        ,\n",
       "         0.        ,  0.        ,  0.        ]], dtype=float32)"
      ]
     },
     "execution_count": 30,
     "metadata": {},
     "output_type": "execute_result"
    }
   ],
   "source": [
    "mnist.train.next_batch(100)[0][0,:].reshape(28,28)"
   ]
  },
  {
   "cell_type": "code",
   "execution_count": null,
   "metadata": {},
   "outputs": [],
   "source": []
  }
 ],
 "metadata": {
  "kernelspec": {
   "display_name": "Python3 Thesis Kernel",
   "language": "python",
   "name": "py3-thesis-kernel"
  },
  "language_info": {
   "codemirror_mode": {
    "name": "ipython",
    "version": 3
   },
   "file_extension": ".py",
   "mimetype": "text/x-python",
   "name": "python",
   "nbconvert_exporter": "python",
   "pygments_lexer": "ipython3",
   "version": "3.5.1"
  },
  "toc": {
   "nav_menu": {},
   "number_sections": true,
   "sideBar": true,
   "skip_h1_title": false,
   "toc_cell": false,
   "toc_position": {
    "height": "670px",
    "left": "0px",
    "right": "20px",
    "top": "110px",
    "width": "212px"
   },
   "toc_section_display": "block",
   "toc_window_display": true
  }
 },
 "nbformat": 4,
 "nbformat_minor": 2
}
