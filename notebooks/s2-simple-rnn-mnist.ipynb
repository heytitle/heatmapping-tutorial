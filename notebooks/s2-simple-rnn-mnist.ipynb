{
 "cells": [
  {
   "cell_type": "code",
   "execution_count": 1,
   "metadata": {},
   "outputs": [],
   "source": [
    "import logging\n",
    "from utils import logging as lg\n",
    "\n",
    "lg.set_logging()"
   ]
  },
  {
   "cell_type": "code",
   "execution_count": 2,
   "metadata": {},
   "outputs": [
    {
     "name": "stderr",
     "output_type": "stream",
     "text": [
      "2017-10-08 01:00:16,009 | INFO : plot.py(setup 13) - Setup plot parameters\n"
     ]
    }
   ],
   "source": [
    "import tensorflow as tf\n",
    "import numpy as np\n",
    "import matplotlib.pyplot as plt\n",
    "\n",
    "import math\n",
    "\n",
    "from utils import data_provider\n",
    "from notebook_utils import plot\n",
    "plot.setup()"
   ]
  },
  {
   "cell_type": "markdown",
   "metadata": {},
   "source": [
    "# Data Preparation"
   ]
  },
  {
   "cell_type": "code",
   "execution_count": 3,
   "metadata": {},
   "outputs": [
    {
     "name": "stderr",
     "output_type": "stream",
     "text": [
      "2017-10-08 01:00:16,014 | INFO : data_provider.py(get_mnist 17) - Load MNIST : train\n",
      "2017-10-08 01:00:16,346 | INFO : data_provider.py(get_mnist 17) - Load MNIST : test\n"
     ]
    }
   ],
   "source": [
    "X_train, Y_train = data_provider.get_mnist('train', dir_path='../data/mnist')\n",
    "X_test, Y_test = data_provider.get_mnist('test', dir_path='../data/mnist')"
   ]
  },
  {
   "cell_type": "code",
   "execution_count": 4,
   "metadata": {},
   "outputs": [],
   "source": [
    "X_train_2d = np.copy(X_train.reshape((-1,28,28)))\n",
    "X_test_2d = np.copy(X_test.reshape((-1,28,28)))"
   ]
  },
  {
   "cell_type": "code",
   "execution_count": 5,
   "metadata": {},
   "outputs": [
    {
     "name": "stderr",
     "output_type": "stream",
     "text": [
      "2017-10-08 01:00:16,952 | INFO : plot.py(show_and_save 20) - save fig to ../figures/nb_figures/mnist-label5-with-cols.png\n"
     ]
    },
    {
     "data": {
      "image/png": "[encoded data removed]",
      "text/plain": [
       "<matplotlib.figure.Figure at 0x11a7ed3c8>"
      ]
     },
     "metadata": {},
     "output_type": "display_data"
    }
   ],
   "source": [
    "def plot_mnist_with_columns(data_idx, col_indices):\n",
    "    plt.figure(figsize=(16,3))\n",
    "\n",
    "    plt.subplot(1,5,1)\n",
    "\n",
    "    plt.imshow(X_train[data_idx,:].reshape((28,28)))\n",
    "    plt.title('Data Label %d' % int(np.sum(np.arange(10) * Y_train[data_idx,:])))\n",
    "\n",
    "    count = 2\n",
    "    for col_idx in col_indices:\n",
    "        plt.subplot(1,5,count)\n",
    "        img_zero = np.zeros((28,28))\n",
    "        img_zero[:, col_idx] = X_train_2d[data_idx, :, col_idx]\n",
    "        plt.title('Col %d-th' % col_idx)\n",
    "        plt.imshow(img_zero, vmin=0, vmax=255)\n",
    "        count = count + 1\n",
    "plot_mnist_with_columns(data_idx = 0, col_indices = [5, 10,15,20])\n",
    "plt.show_and_save(title='mnist-label5-with-cols.png');"
   ]
  },
  {
   "cell_type": "code",
   "execution_count": 9,
   "metadata": {},
   "outputs": [],
   "source": [
    "def batch_data(x, y, n=1):\n",
    "    l = len(x)\n",
    "    for ndx in range(0, l, n):\n",
    "        yield (x[ndx:min(ndx + n, l)],  y[ndx:min(ndx + n, l)])"
   ]
  },
  {
   "cell_type": "markdown",
   "metadata": {},
   "source": [
    "# Training"
   ]
  },
  {
   "cell_type": "markdown",
   "metadata": {},
   "source": [
    "## Network Architecture\n",
    "![image.png](https://i.imgur.com/68p1mMo.png)"
   ]
  },
  {
   "cell_type": "markdown",
   "metadata": {},
   "source": [
    "\n",
    "### Notations\n",
    "- $\\boldsymbol{x}^{(\\alpha)}_{(\\cdot,t)}$  : sample $\\alpha$ with all rows of column $t \\in \\{1,\\dots, 28\\}$\n",
    "- $\\boldsymbol{r}^{(\\alpha)}_{t}$ : recurrent inputs of column $t$ of sample $\\alpha$\n",
    "- $\\widetilde{\\boldsymbol{x}}^{(\\alpha)}_{(\\cdot,t)}$ : concatenation of $\\boldsymbol{x}^{(\\alpha)}_{(\\cdot,t)}$  and $\\boldsymbol{r}_{t}$\n",
    "- $\\boldsymbol{W}_{h}$, $\\boldsymbol{b}_{h}$ : weights and bias for hidden unit activations $\\boldsymbol{H}^{(\\alpha)}_t$\n",
    "$$\n",
    "\\boldsymbol{H}^{(\\alpha)}_t = \\text{RELU} \\bigg( \\widetilde{\\boldsymbol{x}}^{(\\alpha)}_{(\\cdot,t)} \\boldsymbol{W}_{h} + \\boldsymbol{b}_{h}  \\bigg)\n",
    "$$\n",
    "- $\\boldsymbol{W}_{o}$, $\\boldsymbol{b}_{o}$ : weights and bias for output unit activations $\\boldsymbol{O}^{(\\alpha)}_t$\n",
    "$$\n",
    "\\boldsymbol{O}^{(\\alpha)}_t = \\text{RELU} \\bigg( \\boldsymbol{H}^{(\\alpha)}_t \\boldsymbol{W}_{o} + \\boldsymbol{b}_{o}  \\bigg)\n",
    "$$\n",
    "- $\\boldsymbol{W}_{r}$, $\\boldsymbol{b}_{r}$ : weights and bias for recurrent unit activations $\\boldsymbol{r}^{(\\alpha)}_{t+1}$\n",
    "$$\n",
    "\\boldsymbol{r}^{(\\alpha)}_{t+1} = \\text{RELU} \\bigg( \\boldsymbol{O}^{(\\alpha)}_t \\boldsymbol{W}_{r} + \\boldsymbol{b}_{r}  \\bigg)\n",
    "$$\n",
    "- $\\hat{\\boldsymbol{y}}^{(\\alpha)}$ : class predictions of $\\boldsymbol{x}^{(\\alpha)}$\n",
    "$$\n",
    "\\hat{\\boldsymbol{y}}^{(\\alpha)} = \\text{SOFTMAX} \\bigg( \\boldsymbol{O}^{(\\alpha)}_{28}  \\bigg) \n",
    "$$"
   ]
  },
  {
   "cell_type": "markdown",
   "metadata": {},
   "source": [
    "## Training Parameters"
   ]
  },
  {
   "cell_type": "code",
   "execution_count": 10,
   "metadata": {},
   "outputs": [],
   "source": [
    "# These parameters are choosed arbitrarily.\n",
    "NETWORK_PARAMS = {\n",
    "    'batch_size': 100,\n",
    "    'hidden_units': 100,\n",
    "    'output_units': 10,\n",
    "    'recurrent_units': 7,\n",
    "    'input_dims' : 28,\n",
    "    'learning_rate': 0.2,\n",
    "    'train_epochs': 10\n",
    "}"
   ]
  },
  {
   "cell_type": "markdown",
   "metadata": {},
   "source": [
    "## Implementation"
   ]
  },
  {
   "cell_type": "code",
   "execution_count": 19,
   "metadata": {},
   "outputs": [],
   "source": [
    "def train_and_evaluate():\n",
    "    recurrent_inputs = tf.placeholder(tf.float32, shape=(None, NETWORK_PARAMS['recurrent_units']))\n",
    "\n",
    "    input_weights = tf.Variable(\n",
    "        tf.truncated_normal(\n",
    "            (\n",
    "             NETWORK_PARAMS['input_dims'] + NETWORK_PARAMS['recurrent_units'],\n",
    "             NETWORK_PARAMS['hidden_units']\n",
    "            ),\n",
    "            stddev=0.1\n",
    "        ),\n",
    "        name=\"input_weights\"\n",
    "    )\n",
    "\n",
    "    input_bias = tf.Variable(\n",
    "        tf.zeros(\n",
    "            (\n",
    "             NETWORK_PARAMS['hidden_units']\n",
    "            ),\n",
    "        ),\n",
    "        name=\"input_bias\"\n",
    "    )\n",
    "\n",
    "    output_weights = tf.Variable(\n",
    "        tf.truncated_normal(\n",
    "            (NETWORK_PARAMS['hidden_units'], NETWORK_PARAMS['output_units']),\n",
    "            stddev=0.1\n",
    "        ),\n",
    "        name=\"output_weights\"\n",
    "    )\n",
    "\n",
    "    output_bias = tf.Variable(\n",
    "        tf.zeros(\n",
    "            (\n",
    "             NETWORK_PARAMS['output_units']\n",
    "            ),\n",
    "        ),\n",
    "        name=\"output_bias\"\n",
    "    )\n",
    "\n",
    "    recurrent_output_weights = tf.Variable(\n",
    "        tf.truncated_normal(\n",
    "            (NETWORK_PARAMS['output_units'], NETWORK_PARAMS['recurrent_units']),\n",
    "            stddev=0.1\n",
    "        ),\n",
    "        name=\"recurrent_output_weights\"\n",
    "    )\n",
    "\n",
    "    recurrent_output_bias = tf.Variable(\n",
    "        tf.zeros(\n",
    "            (\n",
    "             NETWORK_PARAMS['recurrent_units']\n",
    "            ),\n",
    "        ),\n",
    "        name=\"recurrent_output_bias\"\n",
    "    )\n",
    "\n",
    "    x_input = tf.placeholder(tf.float32, shape=(None, NETWORK_PARAMS['input_dims'], NETWORK_PARAMS['input_dims']))\n",
    "    y_ = tf.placeholder(tf.float32, [None, 10])\n",
    "\n",
    "    rr = recurrent_inputs\n",
    "    for i in range(NETWORK_PARAMS['input_dims']):\n",
    "        xr = tf.concat([ x_input[:,i], rr], axis=1)\n",
    "        ha = tf.nn.relu(tf.matmul(xr, input_weights) + input_bias)\n",
    "        ot = tf.nn.relu(tf.matmul(ha, output_weights) + output_bias)\n",
    "        rr = tf.nn.relu(tf.matmul(ot, recurrent_output_weights) + recurrent_output_bias)\n",
    "\n",
    "    y = tf.nn.softmax(ot)\n",
    "\n",
    "    cross_entropy = tf.reduce_mean(tf.nn.softmax_cross_entropy_with_logits(labels=y_, logits=y))\n",
    "    train_step = tf.train.AdamOptimizer(0.1).minimize(cross_entropy)\n",
    "\n",
    "    init_op = tf.global_variables_initializer()\n",
    "\n",
    "    with tf.Session() as sess:\n",
    "        sess.run(init_op)\n",
    "\n",
    "        for i in range(NETWORK_PARAMS['train_epochs']):\n",
    "            logging.info('epoch %d' % i)\n",
    "            for xf, yf in batch_data(X_train_2d, Y_train, n=NETWORK_PARAMS['batch_size']):\n",
    "                rr = np.zeros((NETWORK_PARAMS['batch_size'], NETWORK_PARAMS['recurrent_units']))\n",
    "                train_step.run(feed_dict={x_input: xf, y_: yf, recurrent_inputs: rr})\n",
    "\n",
    "            if i % 10 == 0 or i < 10:\n",
    "                correct_prediction = tf.equal(tf.argmax(y,1), tf.argmax(y_,1))\n",
    "                accuracy = tf.reduce_mean(tf.cast(correct_prediction, tf.float32))\n",
    "\n",
    "                rr = np.zeros((len(Y_train), NETWORK_PARAMS['recurrent_units']))\n",
    "\n",
    "                acc = sess.run(accuracy, feed_dict={x_input: X_train_2d, y_: Y_train, recurrent_inputs: rr})\n",
    "                logging.info('Training Accuracy %.2f%%' % (acc*100))\n",
    "                \n",
    "        correct_prediction = tf.equal(tf.argmax(y,1), tf.argmax(y_,1))\n",
    "        accuracy = tf.reduce_mean(tf.cast(correct_prediction, tf.float32))\n",
    "\n",
    "        rr = np.zeros((len(Y_test), NETWORK_PARAMS['recurrent_units']))\n",
    "\n",
    "        acc = accuracy.eval(feed_dict={x_input: X_test_2d, y_: Y_test, recurrent_inputs: rr})\n",
    "        logging.info('Accuracy %.2f%%' % (acc*100))\n",
    "    return acc"
   ]
  },
  {
   "cell_type": "code",
   "execution_count": 20,
   "metadata": {},
   "outputs": [
    {
     "name": "stderr",
     "output_type": "stream",
     "text": [
      "2017-10-08 01:04:57,594 | INFO : <ipython-input-19-df19bc4da4f5>(train_and_evaluate 79) - epoch 0\n",
      "2017-10-08 01:05:03,398 | INFO : <ipython-input-19-df19bc4da4f5>(train_and_evaluate 91) - Training Accuracy 9.87%\n",
      "2017-10-08 01:05:03,399 | INFO : <ipython-input-19-df19bc4da4f5>(train_and_evaluate 79) - epoch 1\n",
      "2017-10-08 01:05:09,166 | INFO : <ipython-input-19-df19bc4da4f5>(train_and_evaluate 91) - Training Accuracy 9.87%\n",
      "2017-10-08 01:05:09,167 | INFO : <ipython-input-19-df19bc4da4f5>(train_and_evaluate 79) - epoch 2\n",
      "2017-10-08 01:05:14,992 | INFO : <ipython-input-19-df19bc4da4f5>(train_and_evaluate 91) - Training Accuracy 9.87%\n",
      "2017-10-08 01:05:14,993 | INFO : <ipython-input-19-df19bc4da4f5>(train_and_evaluate 79) - epoch 3\n",
      "2017-10-08 01:05:20,870 | INFO : <ipython-input-19-df19bc4da4f5>(train_and_evaluate 91) - Training Accuracy 9.87%\n",
      "2017-10-08 01:05:20,871 | INFO : <ipython-input-19-df19bc4da4f5>(train_and_evaluate 79) - epoch 4\n",
      "2017-10-08 01:05:26,698 | INFO : <ipython-input-19-df19bc4da4f5>(train_and_evaluate 91) - Training Accuracy 9.87%\n",
      "2017-10-08 01:05:26,699 | INFO : <ipython-input-19-df19bc4da4f5>(train_and_evaluate 79) - epoch 5\n",
      "2017-10-08 01:05:32,961 | INFO : <ipython-input-19-df19bc4da4f5>(train_and_evaluate 91) - Training Accuracy 9.87%\n",
      "2017-10-08 01:05:32,962 | INFO : <ipython-input-19-df19bc4da4f5>(train_and_evaluate 79) - epoch 6\n",
      "2017-10-08 01:05:39,335 | INFO : <ipython-input-19-df19bc4da4f5>(train_and_evaluate 91) - Training Accuracy 9.87%\n",
      "2017-10-08 01:05:39,336 | INFO : <ipython-input-19-df19bc4da4f5>(train_and_evaluate 79) - epoch 7\n",
      "2017-10-08 01:05:45,780 | INFO : <ipython-input-19-df19bc4da4f5>(train_and_evaluate 91) - Training Accuracy 9.87%\n",
      "2017-10-08 01:05:45,781 | INFO : <ipython-input-19-df19bc4da4f5>(train_and_evaluate 79) - epoch 8\n",
      "2017-10-08 01:05:52,088 | INFO : <ipython-input-19-df19bc4da4f5>(train_and_evaluate 91) - Training Accuracy 9.87%\n",
      "2017-10-08 01:05:52,089 | INFO : <ipython-input-19-df19bc4da4f5>(train_and_evaluate 79) - epoch 9\n",
      "2017-10-08 01:05:57,892 | INFO : <ipython-input-19-df19bc4da4f5>(train_and_evaluate 91) - Training Accuracy 9.87%\n",
      "2017-10-08 01:05:58,175 | INFO : <ipython-input-19-df19bc4da4f5>(train_and_evaluate 99) - Accuracy 9.80%\n"
     ]
    },
    {
     "data": {
      "text/plain": [
       "0.097999997"
      ]
     },
     "execution_count": 20,
     "metadata": {},
     "output_type": "execute_result"
    }
   ],
   "source": [
    "train_and_evaluate()"
   ]
  },
  {
   "cell_type": "code",
   "execution_count": 12,
   "metadata": {},
   "outputs": [
    {
     "name": "stderr",
     "output_type": "stream",
     "text": [
      "2017-09-24 10:49:32,386 | INFO : <ipython-input-12-38c80192bdd7>(<module> 4) - Run 1\n",
      "2017-09-24 10:49:36,370 | INFO : <ipython-input-10-eb2e435aab9b>(train_and_evaluate 79) - epoch 0\n",
      "2017-09-24 10:49:43,073 | INFO : <ipython-input-10-eb2e435aab9b>(train_and_evaluate 79) - epoch 1\n",
      "2017-09-24 10:49:49,490 | INFO : <ipython-input-10-eb2e435aab9b>(train_and_evaluate 79) - epoch 2\n",
      "2017-09-24 10:49:55,782 | INFO : <ipython-input-10-eb2e435aab9b>(train_and_evaluate 79) - epoch 3\n",
      "2017-09-24 10:50:02,206 | INFO : <ipython-input-10-eb2e435aab9b>(train_and_evaluate 79) - epoch 4\n",
      "2017-09-24 10:50:08,229 | INFO : <ipython-input-10-eb2e435aab9b>(train_and_evaluate 79) - epoch 5\n",
      "2017-09-24 10:50:14,248 | INFO : <ipython-input-10-eb2e435aab9b>(train_and_evaluate 79) - epoch 6\n",
      "2017-09-24 10:50:20,423 | INFO : <ipython-input-10-eb2e435aab9b>(train_and_evaluate 79) - epoch 7\n",
      "2017-09-24 10:50:26,500 | INFO : <ipython-input-10-eb2e435aab9b>(train_and_evaluate 79) - epoch 8\n",
      "2017-09-24 10:50:32,469 | INFO : <ipython-input-10-eb2e435aab9b>(train_and_evaluate 79) - epoch 9\n",
      "2017-09-24 10:50:38,763 | INFO : <ipython-input-10-eb2e435aab9b>(train_and_evaluate 90) - Accuracy 36.97%\n",
      "2017-09-24 10:50:38,801 | INFO : <ipython-input-12-38c80192bdd7>(<module> 4) - Run 2\n",
      "2017-09-24 10:50:43,559 | INFO : <ipython-input-10-eb2e435aab9b>(train_and_evaluate 79) - epoch 0\n",
      "2017-09-24 10:50:49,525 | INFO : <ipython-input-10-eb2e435aab9b>(train_and_evaluate 79) - epoch 1\n",
      "2017-09-24 10:50:55,607 | INFO : <ipython-input-10-eb2e435aab9b>(train_and_evaluate 79) - epoch 2\n",
      "2017-09-24 10:51:01,493 | INFO : <ipython-input-10-eb2e435aab9b>(train_and_evaluate 79) - epoch 3\n",
      "2017-09-24 10:51:07,668 | INFO : <ipython-input-10-eb2e435aab9b>(train_and_evaluate 79) - epoch 4\n",
      "2017-09-24 10:51:13,745 | INFO : <ipython-input-10-eb2e435aab9b>(train_and_evaluate 79) - epoch 5\n",
      "2017-09-24 10:51:19,879 | INFO : <ipython-input-10-eb2e435aab9b>(train_and_evaluate 79) - epoch 6\n",
      "2017-09-24 10:51:26,192 | INFO : <ipython-input-10-eb2e435aab9b>(train_and_evaluate 79) - epoch 7\n",
      "2017-09-24 10:51:33,018 | INFO : <ipython-input-10-eb2e435aab9b>(train_and_evaluate 79) - epoch 8\n",
      "2017-09-24 10:51:39,186 | INFO : <ipython-input-10-eb2e435aab9b>(train_and_evaluate 79) - epoch 9\n",
      "2017-09-24 10:51:45,672 | INFO : <ipython-input-10-eb2e435aab9b>(train_and_evaluate 90) - Accuracy 9.58%\n",
      "2017-09-24 10:51:45,722 | INFO : <ipython-input-12-38c80192bdd7>(<module> 4) - Run 3\n",
      "2017-09-24 10:51:50,870 | INFO : <ipython-input-10-eb2e435aab9b>(train_and_evaluate 79) - epoch 0\n",
      "2017-09-24 10:51:56,920 | INFO : <ipython-input-10-eb2e435aab9b>(train_and_evaluate 79) - epoch 1\n",
      "2017-09-24 10:52:03,149 | INFO : <ipython-input-10-eb2e435aab9b>(train_and_evaluate 79) - epoch 2\n",
      "2017-09-24 10:52:09,386 | INFO : <ipython-input-10-eb2e435aab9b>(train_and_evaluate 79) - epoch 3\n",
      "2017-09-24 10:52:15,609 | INFO : <ipython-input-10-eb2e435aab9b>(train_and_evaluate 79) - epoch 4\n",
      "2017-09-24 10:52:21,795 | INFO : <ipython-input-10-eb2e435aab9b>(train_and_evaluate 79) - epoch 5\n",
      "2017-09-24 10:52:28,351 | INFO : <ipython-input-10-eb2e435aab9b>(train_and_evaluate 79) - epoch 6\n",
      "2017-09-24 10:52:35,200 | INFO : <ipython-input-10-eb2e435aab9b>(train_and_evaluate 79) - epoch 7\n",
      "2017-09-24 10:52:41,782 | INFO : <ipython-input-10-eb2e435aab9b>(train_and_evaluate 79) - epoch 8\n",
      "2017-09-24 10:52:48,199 | INFO : <ipython-input-10-eb2e435aab9b>(train_and_evaluate 79) - epoch 9\n",
      "2017-09-24 10:52:54,916 | INFO : <ipython-input-10-eb2e435aab9b>(train_and_evaluate 90) - Accuracy 10.32%\n",
      "2017-09-24 10:52:54,976 | INFO : <ipython-input-12-38c80192bdd7>(<module> 4) - Run 4\n",
      "2017-09-24 10:53:00,678 | INFO : <ipython-input-10-eb2e435aab9b>(train_and_evaluate 79) - epoch 0\n",
      "2017-09-24 10:53:06,774 | INFO : <ipython-input-10-eb2e435aab9b>(train_and_evaluate 79) - epoch 1\n",
      "2017-09-24 10:53:12,808 | INFO : <ipython-input-10-eb2e435aab9b>(train_and_evaluate 79) - epoch 2\n",
      "2017-09-24 10:53:18,967 | INFO : <ipython-input-10-eb2e435aab9b>(train_and_evaluate 79) - epoch 3\n",
      "2017-09-24 10:53:25,429 | INFO : <ipython-input-10-eb2e435aab9b>(train_and_evaluate 79) - epoch 4\n",
      "2017-09-24 10:53:31,571 | INFO : <ipython-input-10-eb2e435aab9b>(train_and_evaluate 79) - epoch 5\n",
      "2017-09-24 10:53:38,012 | INFO : <ipython-input-10-eb2e435aab9b>(train_and_evaluate 79) - epoch 6\n",
      "2017-09-24 10:53:44,066 | INFO : <ipython-input-10-eb2e435aab9b>(train_and_evaluate 79) - epoch 7\n",
      "2017-09-24 10:53:50,427 | INFO : <ipython-input-10-eb2e435aab9b>(train_and_evaluate 79) - epoch 8\n",
      "2017-09-24 10:53:56,571 | INFO : <ipython-input-10-eb2e435aab9b>(train_and_evaluate 79) - epoch 9\n",
      "2017-09-24 10:54:03,284 | INFO : <ipython-input-10-eb2e435aab9b>(train_and_evaluate 90) - Accuracy 11.35%\n",
      "2017-09-24 10:54:03,354 | INFO : <ipython-input-12-38c80192bdd7>(<module> 4) - Run 5\n",
      "2017-09-24 10:54:09,708 | INFO : <ipython-input-10-eb2e435aab9b>(train_and_evaluate 79) - epoch 0\n",
      "2017-09-24 10:54:15,984 | INFO : <ipython-input-10-eb2e435aab9b>(train_and_evaluate 79) - epoch 1\n",
      "2017-09-24 10:54:21,833 | INFO : <ipython-input-10-eb2e435aab9b>(train_and_evaluate 79) - epoch 2\n",
      "2017-09-24 10:54:27,880 | INFO : <ipython-input-10-eb2e435aab9b>(train_and_evaluate 79) - epoch 3\n",
      "2017-09-24 10:54:33,880 | INFO : <ipython-input-10-eb2e435aab9b>(train_and_evaluate 79) - epoch 4\n",
      "2017-09-24 10:54:40,033 | INFO : <ipython-input-10-eb2e435aab9b>(train_and_evaluate 79) - epoch 5\n",
      "2017-09-24 10:54:45,971 | INFO : <ipython-input-10-eb2e435aab9b>(train_and_evaluate 79) - epoch 6\n",
      "2017-09-24 10:54:52,045 | INFO : <ipython-input-10-eb2e435aab9b>(train_and_evaluate 79) - epoch 7\n",
      "2017-09-24 10:54:58,042 | INFO : <ipython-input-10-eb2e435aab9b>(train_and_evaluate 79) - epoch 8\n",
      "2017-09-24 10:55:04,160 | INFO : <ipython-input-10-eb2e435aab9b>(train_and_evaluate 79) - epoch 9\n",
      "2017-09-24 10:55:10,804 | INFO : <ipython-input-10-eb2e435aab9b>(train_and_evaluate 90) - Accuracy 27.24%\n",
      "2017-09-24 10:55:10,886 | INFO : <ipython-input-12-38c80192bdd7>(<module> 4) - Run 6\n",
      "2017-09-24 10:55:17,752 | INFO : <ipython-input-10-eb2e435aab9b>(train_and_evaluate 79) - epoch 0\n",
      "2017-09-24 10:55:24,411 | INFO : <ipython-input-10-eb2e435aab9b>(train_and_evaluate 79) - epoch 1\n",
      "2017-09-24 10:55:30,380 | INFO : <ipython-input-10-eb2e435aab9b>(train_and_evaluate 79) - epoch 2\n",
      "2017-09-24 10:55:36,657 | INFO : <ipython-input-10-eb2e435aab9b>(train_and_evaluate 79) - epoch 3\n",
      "2017-09-24 10:55:42,669 | INFO : <ipython-input-10-eb2e435aab9b>(train_and_evaluate 79) - epoch 4\n",
      "2017-09-24 10:55:49,079 | INFO : <ipython-input-10-eb2e435aab9b>(train_and_evaluate 79) - epoch 5\n",
      "2017-09-24 10:55:55,345 | INFO : <ipython-input-10-eb2e435aab9b>(train_and_evaluate 79) - epoch 6\n",
      "2017-09-24 10:56:01,442 | INFO : <ipython-input-10-eb2e435aab9b>(train_and_evaluate 79) - epoch 7\n",
      "2017-09-24 10:56:07,569 | INFO : <ipython-input-10-eb2e435aab9b>(train_and_evaluate 79) - epoch 8\n",
      "2017-09-24 10:56:13,607 | INFO : <ipython-input-10-eb2e435aab9b>(train_and_evaluate 79) - epoch 9\n",
      "2017-09-24 10:56:20,053 | INFO : <ipython-input-10-eb2e435aab9b>(train_and_evaluate 90) - Accuracy 17.92%\n",
      "2017-09-24 10:56:20,147 | INFO : <ipython-input-12-38c80192bdd7>(<module> 4) - Run 7\n",
      "2017-09-24 10:56:27,784 | INFO : <ipython-input-10-eb2e435aab9b>(train_and_evaluate 79) - epoch 0\n",
      "2017-09-24 10:56:33,793 | INFO : <ipython-input-10-eb2e435aab9b>(train_and_evaluate 79) - epoch 1\n",
      "2017-09-24 10:56:39,724 | INFO : <ipython-input-10-eb2e435aab9b>(train_and_evaluate 79) - epoch 2\n",
      "2017-09-24 10:56:45,677 | INFO : <ipython-input-10-eb2e435aab9b>(train_and_evaluate 79) - epoch 3\n",
      "2017-09-24 10:56:51,594 | INFO : <ipython-input-10-eb2e435aab9b>(train_and_evaluate 79) - epoch 4\n",
      "2017-09-24 10:56:57,625 | INFO : <ipython-input-10-eb2e435aab9b>(train_and_evaluate 79) - epoch 5\n",
      "2017-09-24 10:57:04,591 | INFO : <ipython-input-10-eb2e435aab9b>(train_and_evaluate 79) - epoch 6\n",
      "2017-09-24 10:57:10,749 | INFO : <ipython-input-10-eb2e435aab9b>(train_and_evaluate 79) - epoch 7\n",
      "2017-09-24 10:57:16,700 | INFO : <ipython-input-10-eb2e435aab9b>(train_and_evaluate 79) - epoch 8\n",
      "2017-09-24 10:57:22,678 | INFO : <ipython-input-10-eb2e435aab9b>(train_and_evaluate 79) - epoch 9\n",
      "2017-09-24 10:57:29,052 | INFO : <ipython-input-10-eb2e435aab9b>(train_and_evaluate 90) - Accuracy 9.74%\n"
     ]
    },
    {
     "name": "stderr",
     "output_type": "stream",
     "text": [
      "2017-09-24 10:57:29,154 | INFO : <ipython-input-12-38c80192bdd7>(<module> 4) - Run 8\n",
      "2017-09-24 10:57:36,928 | INFO : <ipython-input-10-eb2e435aab9b>(train_and_evaluate 79) - epoch 0\n",
      "2017-09-24 10:57:42,904 | INFO : <ipython-input-10-eb2e435aab9b>(train_and_evaluate 79) - epoch 1\n",
      "2017-09-24 10:57:48,791 | INFO : <ipython-input-10-eb2e435aab9b>(train_and_evaluate 79) - epoch 2\n",
      "2017-09-24 10:57:54,729 | INFO : <ipython-input-10-eb2e435aab9b>(train_and_evaluate 79) - epoch 3\n",
      "2017-09-24 10:58:00,622 | INFO : <ipython-input-10-eb2e435aab9b>(train_and_evaluate 79) - epoch 4\n",
      "2017-09-24 10:58:06,624 | INFO : <ipython-input-10-eb2e435aab9b>(train_and_evaluate 79) - epoch 5\n",
      "2017-09-24 10:58:12,716 | INFO : <ipython-input-10-eb2e435aab9b>(train_and_evaluate 79) - epoch 6\n",
      "2017-09-24 10:58:19,004 | INFO : <ipython-input-10-eb2e435aab9b>(train_and_evaluate 79) - epoch 7\n",
      "2017-09-24 10:58:25,065 | INFO : <ipython-input-10-eb2e435aab9b>(train_and_evaluate 79) - epoch 8\n",
      "2017-09-24 10:58:31,125 | INFO : <ipython-input-10-eb2e435aab9b>(train_and_evaluate 79) - epoch 9\n",
      "2017-09-24 10:58:37,676 | INFO : <ipython-input-10-eb2e435aab9b>(train_and_evaluate 90) - Accuracy 10.28%\n",
      "2017-09-24 10:58:37,798 | INFO : <ipython-input-12-38c80192bdd7>(<module> 4) - Run 9\n",
      "2017-09-24 10:58:46,563 | INFO : <ipython-input-10-eb2e435aab9b>(train_and_evaluate 79) - epoch 0\n",
      "2017-09-24 10:58:52,853 | INFO : <ipython-input-10-eb2e435aab9b>(train_and_evaluate 79) - epoch 1\n",
      "2017-09-24 10:58:59,094 | INFO : <ipython-input-10-eb2e435aab9b>(train_and_evaluate 79) - epoch 2\n",
      "2017-09-24 10:59:05,304 | INFO : <ipython-input-10-eb2e435aab9b>(train_and_evaluate 79) - epoch 3\n",
      "2017-09-24 10:59:11,463 | INFO : <ipython-input-10-eb2e435aab9b>(train_and_evaluate 79) - epoch 4\n",
      "2017-09-24 10:59:17,501 | INFO : <ipython-input-10-eb2e435aab9b>(train_and_evaluate 79) - epoch 5\n",
      "2017-09-24 10:59:23,708 | INFO : <ipython-input-10-eb2e435aab9b>(train_and_evaluate 79) - epoch 6\n",
      "2017-09-24 10:59:29,925 | INFO : <ipython-input-10-eb2e435aab9b>(train_and_evaluate 79) - epoch 7\n",
      "2017-09-24 10:59:36,340 | INFO : <ipython-input-10-eb2e435aab9b>(train_and_evaluate 79) - epoch 8\n",
      "2017-09-24 10:59:42,300 | INFO : <ipython-input-10-eb2e435aab9b>(train_and_evaluate 79) - epoch 9\n",
      "2017-09-24 10:59:48,699 | INFO : <ipython-input-10-eb2e435aab9b>(train_and_evaluate 90) - Accuracy 9.80%\n",
      "2017-09-24 10:59:48,823 | INFO : <ipython-input-12-38c80192bdd7>(<module> 4) - Run 10\n",
      "2017-09-24 10:59:57,589 | INFO : <ipython-input-10-eb2e435aab9b>(train_and_evaluate 79) - epoch 0\n",
      "2017-09-24 11:00:03,647 | INFO : <ipython-input-10-eb2e435aab9b>(train_and_evaluate 79) - epoch 1\n",
      "2017-09-24 11:00:09,755 | INFO : <ipython-input-10-eb2e435aab9b>(train_and_evaluate 79) - epoch 2\n",
      "2017-09-24 11:00:15,954 | INFO : <ipython-input-10-eb2e435aab9b>(train_and_evaluate 79) - epoch 3\n",
      "2017-09-24 11:00:22,138 | INFO : <ipython-input-10-eb2e435aab9b>(train_and_evaluate 79) - epoch 4\n",
      "2017-09-24 11:00:28,369 | INFO : <ipython-input-10-eb2e435aab9b>(train_and_evaluate 79) - epoch 5\n",
      "2017-09-24 11:00:34,555 | INFO : <ipython-input-10-eb2e435aab9b>(train_and_evaluate 79) - epoch 6\n",
      "2017-09-24 11:00:40,733 | INFO : <ipython-input-10-eb2e435aab9b>(train_and_evaluate 79) - epoch 7\n",
      "2017-09-24 11:00:46,733 | INFO : <ipython-input-10-eb2e435aab9b>(train_and_evaluate 79) - epoch 8\n",
      "2017-09-24 11:00:52,731 | INFO : <ipython-input-10-eb2e435aab9b>(train_and_evaluate 79) - epoch 9\n",
      "2017-09-24 11:00:59,293 | INFO : <ipython-input-10-eb2e435aab9b>(train_and_evaluate 90) - Accuracy 22.66%\n"
     ]
    }
   ],
   "source": [
    "no_runs = 10\n",
    "accs = []\n",
    "for i in range(no_runs):\n",
    "    logging.info('Run %d' % (i+1))\n",
    "    acc = train_and_evaluate()\n",
    "    accs.append(acc)"
   ]
  },
  {
   "cell_type": "code",
   "execution_count": 15,
   "metadata": {},
   "outputs": [
    {
     "name": "stdout",
     "output_type": "stream",
     "text": [
      "Average accuracy over 10 runs : 0.17±0.09\n",
      "max acc: 0.37\n",
      "min acc: 0.10\n"
     ]
    }
   ],
   "source": [
    "print('Average accuracy over %d runs : %.2f±%.2f' % (no_runs, np.mean(accs), np.std(accs)))\n",
    "print('max acc: %.2f' % np.max(accs))\n",
    "print('min acc: %.2f' % np.min(accs))"
   ]
  },
  {
   "cell_type": "markdown",
   "metadata": {},
   "source": [
    "# Summary\n",
    "From the experiments, the maximum accuracy value found is around 0.37. However, it seems that this simple RNN network is not quite stable because it has high $\\sigma$ of accuracy value.  I doubt whether it is related to the network architecture or the learning rate and learning algorithm that I choosed. \n",
    "\n",
    "So, I would like to explore this following points in the next step\n",
    "\n",
    "-  do hyperparameter search\n",
    "-  compute $\\boldsymbol{r}_{t+1}$ from hidden unit activations rather than output unit ones.\n",
    "\n",
    "\\begin{align*}\n",
    "    \\boldsymbol{r}^{(\\alpha)}_{t+1} = \\text{RELU} \\bigg( \\boldsymbol{H}^{(\\alpha)}_t \\boldsymbol{W}_{r} + \\boldsymbol{b}_{r}  \\bigg)\n",
    "\\end{align*}"
   ]
  }
 ],
 "metadata": {
  "kernelspec": {
   "display_name": "Python3 Thesis Kernel",
   "language": "python",
   "name": "py3-thesis-kernel"
  },
  "language_info": {
   "codemirror_mode": {
    "name": "ipython",
    "version": 3
   },
   "file_extension": ".py",
   "mimetype": "text/x-python",
   "name": "python",
   "nbconvert_exporter": "python",
   "pygments_lexer": "ipython3",
   "version": "3.5.1"
  },
  "toc": {
   "nav_menu": {},
   "number_sections": true,
   "sideBar": true,
   "skip_h1_title": false,
   "toc_cell": false,
   "toc_position": {
    "height": "626px",
    "left": "0px",
    "right": "20px",
    "top": "110px",
    "width": "212px"
   },
   "toc_section_display": "block",
   "toc_window_display": true
  }
 },
 "nbformat": 4,
 "nbformat_minor": 2
}
