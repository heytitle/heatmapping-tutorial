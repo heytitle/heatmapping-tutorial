{
 "cells": [
  {
   "cell_type": "code",
   "execution_count": 1,
   "metadata": {},
   "outputs": [],
   "source": [
    "%matplotlib inline\n",
    "import logging\n",
    "from utils import logging as lg\n",
    "lg.set_logging(logging.ERROR)\n",
    "\n",
    "from scipy import stats\n",
    "from skimage.measure import block_reduce\n",
    "import numpy as np\n",
    "\n",
    "import logging\n",
    "\n",
    "import pandas as pd\n",
    "import pickle\n",
    "from notebook_utils import plot \n",
    "import seaborn as sns\n",
    "import glob\n",
    "sns.set(color_codes=True, font_scale=2, style=\"white\", palette=\"bright\")\n",
    "\n",
    "from model import base, provider, heatmap_evaluation\n",
    "import config\n",
    "import matplotlib.pyplot as plt\n",
    "import tensorflow as tf\n",
    "import yaml\n",
    "tf.logging.set_verbosity(tf.logging.ERROR)\n",
    "\n",
    "from utils import data_provider\n",
    "\n",
    "dataset_loader = data_provider.DatasetLoader(data_dir='../data')"
   ]
  },
  {
   "cell_type": "code",
   "execution_count": null,
   "metadata": {},
   "outputs": [],
   "source": []
  },
  {
   "cell_type": "code",
   "execution_count": 4,
   "metadata": {},
   "outputs": [],
   "source": [
    "df = plot.get_stats_from_models([\n",
    "    '../final-models/convdeep_transcribe-mnist-3-digits-maj-seq-12',\n",
    "    '../final-models/convrlstm_persisted_dropout-mnist-3-digits-maj-seq-12',\n",
    "])\n"
   ]
  },
  {
   "cell_type": "code",
   "execution_count": 12,
   "metadata": {},
   "outputs": [],
   "source": [
    "ct_values = df[(df.architecture=='convdeep_transcribe') & (df.method == 'lrp_deep_taylor')]['rel_dist_in_data_region_no_avg'].values[0]"
   ]
  },
  {
   "cell_type": "code",
   "execution_count": 13,
   "metadata": {},
   "outputs": [],
   "source": [
    "clstm_values = df[(df.architecture=='convrlstm_persisted_dropout') & (df.method == 'lrp_deep_taylor')]['rel_dist_in_data_region_no_avg'].values[0]"
   ]
  },
  {
   "cell_type": "code",
   "execution_count": 20,
   "metadata": {},
   "outputs": [],
   "source": [
    "idct = ct_values > clstm_values\n",
    "dd = np.argwhere(idct)"
   ]
  },
  {
   "cell_type": "code",
   "execution_count": 21,
   "metadata": {},
   "outputs": [
    {
     "data": {
      "text/plain": [
       "6412"
      ]
     },
     "execution_count": 21,
     "metadata": {},
     "output_type": "execute_result"
    }
   ],
   "source": [
    "np.sum(idct)"
   ]
  },
  {
   "cell_type": "code",
   "execution_count": 22,
   "metadata": {},
   "outputs": [
    {
     "data": {
      "text/plain": [
       "(10000,)"
      ]
     },
     "execution_count": 22,
     "metadata": {},
     "output_type": "execute_result"
    }
   ],
   "source": [
    "ct_values.shape"
   ]
  },
  {
   "cell_type": "code",
   "execution_count": null,
   "metadata": {},
   "outputs": [],
   "source": []
  }
 ],
 "metadata": {
  "kernelspec": {
   "display_name": "Python3 Thesis Kernel",
   "language": "python",
   "name": "py3-thesis-kernel"
  },
  "language_info": {
   "codemirror_mode": {
    "name": "ipython",
    "version": 3
   },
   "file_extension": ".py",
   "mimetype": "text/x-python",
   "name": "python",
   "nbconvert_exporter": "python",
   "pygments_lexer": "ipython3",
   "version": "3.5.1"
  },
  "toc": {
   "nav_menu": {},
   "number_sections": true,
   "sideBar": true,
   "skip_h1_title": false,
   "toc_cell": false,
   "toc_position": {},
   "toc_section_display": "block",
   "toc_window_display": false
  }
 },
 "nbformat": 4,
 "nbformat_minor": 2
}
