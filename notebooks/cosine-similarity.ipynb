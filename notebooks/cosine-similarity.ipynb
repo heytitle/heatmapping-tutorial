{
 "cells": [
  {
   "cell_type": "code",
   "execution_count": 4,
   "metadata": {},
   "outputs": [],
   "source": [
    "import numpy as np\n",
    "from scipy.spatial import distance"
   ]
  },
  {
   "cell_type": "code",
   "execution_count": 22,
   "metadata": {},
   "outputs": [
    {
     "name": "stdout",
     "output_type": "stream",
     "text": [
      "[1, 1, 0] & [0.9, 0.1, 0.0]\n",
      "= cos: 0.780869 | euc: 0.6620 | mat: 0.8835\n",
      "\n",
      "[1, 1, 0] & [0.5, 0.3, 0.2]\n",
      "= cos: 0.917663 | euc: 0.4058 | mat: 0.6489\n",
      "\n",
      "[1, 1, 0] & [0.5, 0.5, 0.0]\n",
      "= cos: 1.000000 | euc: 0.0000 | mat: 0.0000\n",
      "\n",
      "[1, 1, 0] & [0.1, 0.1, 0.8]\n",
      "= cos: 0.174078 | euc: 1.2852 | mat: 2.1528\n",
      "\n",
      "[1, 1, 0] & [0.0, 0.0, 1]\n",
      "= cos: 0.000000 | euc: 1.4142 | mat: 2.4142\n",
      "\n",
      "[1, 1, 0] & [0.0, 0.1, 0.9]\n",
      "= cos: 0.078087 | euc: 1.3579 | mat: 2.2977\n",
      "\n"
     ]
    }
   ],
   "source": [
    "m = [1, 1, 0]\n",
    "\n",
    "rels = [\n",
    "    [0.9, 0.1, 0.0],\n",
    "    [0.5, 0.3, 0.2],\n",
    "    [0.5, 0.5, 0.0],\n",
    "    [0.1, 0.1, 0.8],\n",
    "    [0.0, 0.0, 1],\n",
    "    [0.0, 0.1, 0.9],\n",
    "]\n",
    "\n",
    "for r in rels:\n",
    "    m_norm = m/np.linalg.norm(m)\n",
    "    r_norm = r/np.linalg.norm(r)\n",
    "    euc = distance.euclidean(m_norm, r_norm)\n",
    "    mat = distance.cityblock(m_norm, r_norm)\n",
    "    cos = 1-distance.cosine(m, r)\n",
    "    print(m, '&', r)\n",
    "    print('= cos: %4f | euc: %.4f | mat: %.4f' % (cos, euc, mat))\n",
    "    print()\n"
   ]
  },
  {
   "cell_type": "code",
   "execution_count": null,
   "metadata": {},
   "outputs": [],
   "source": []
  }
 ],
 "metadata": {
  "kernelspec": {
   "display_name": "Python3 Thesis Kernel",
   "language": "python",
   "name": "py3-thesis-kernel"
  },
  "language_info": {
   "codemirror_mode": {
    "name": "ipython",
    "version": 3
   },
   "file_extension": ".py",
   "mimetype": "text/x-python",
   "name": "python",
   "nbconvert_exporter": "python",
   "pygments_lexer": "ipython3",
   "version": "3.5.1"
  },
  "toc": {
   "nav_menu": {},
   "number_sections": true,
   "sideBar": true,
   "skip_h1_title": false,
   "toc_cell": false,
   "toc_position": {},
   "toc_section_display": "block",
   "toc_window_display": false
  }
 },
 "nbformat": 4,
 "nbformat_minor": 2
}
