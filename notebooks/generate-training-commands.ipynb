{
 "cells": [
  {
   "cell_type": "code",
   "execution_count": 9,
   "metadata": {},
   "outputs": [],
   "source": [
    "# keep_prop = 0.8\n",
    "# epochs = 200\n",
    "# batch_size  = 50\n",
    "# lr = 0.0002"
   ]
  },
  {
   "cell_type": "code",
   "execution_count": 11,
   "metadata": {},
   "outputs": [],
   "source": [
    "architectures = [\n",
    "    ('s2_network', 's2_network::hidden:256|out:10--recur:256'),\n",
    "    ('s3_network', 's3_network::in1:256|hidden:128|out1:32|out2:10--recur:256'),\n",
    "    ('deep_4l_network', 'deep_4l_network::in1:128|in2:256|hidden:128|out1:32|out2:10--recur:256'),\n",
    "    ('convdeep_4l_network',\n",
    "     'convdeep_4l_network::conv1:5x5x24=>2x2[2,2]|conv2:3x3x32=>2x2[2,2]|in1:128|hidden:128|out1:32|out2:10--recur:256')\n",
    "]\n",
    "architecture_dict = dict(architectures)"
   ]
  },
  {
   "cell_type": "markdown",
   "metadata": {},
   "source": [
    "# Train experiment 1 models"
   ]
  },
  {
   "cell_type": "code",
   "execution_count": 16,
   "metadata": {},
   "outputs": [
    {
     "name": "stdout",
     "output_type": "stream",
     "text": [
      "\n",
      "submitJob \"./run.py scripts/train.py --dataset mnist --seq-length 1    --epoch 200 --lr 0.0002 --batch 50  --keep_prob 0.8  --verbose    --optimizer AdamOptimizer --output_dir ./experiment-results/models-for-experiment-1 --architecture 's2_network::hidden:256|out:10--recur:256'\"\n",
      "\n",
      "\n",
      "submitJob \"./run.py scripts/train.py --dataset mnist --seq-length 1    --epoch 200 --lr 0.0002 --batch 50  --keep_prob 0.8  --verbose    --optimizer AdamOptimizer --output_dir ./experiment-results/models-for-experiment-1 --architecture 's3_network::in1:256|hidden:128|out1:32|out2:10--recur:256'\"\n",
      "\n",
      "\n",
      "submitJob \"./run.py scripts/train.py --dataset mnist --seq-length 1    --epoch 200 --lr 0.0002 --batch 50  --keep_prob 0.8  --verbose    --optimizer AdamOptimizer --output_dir ./experiment-results/models-for-experiment-1 --architecture 'deep_4l_network::in1:128|in2:256|hidden:128|out1:32|out2:10--recur:256'\"\n",
      "\n",
      "\n",
      "submitJob \"./run.py scripts/train.py --dataset mnist --seq-length 4    --epoch 200 --lr 0.0002 --batch 50  --keep_prob 0.8  --verbose    --optimizer AdamOptimizer --output_dir ./experiment-results/models-for-experiment-1 --architecture 's2_network::hidden:256|out:10--recur:256'\"\n",
      "\n",
      "\n",
      "submitJob \"./run.py scripts/train.py --dataset mnist --seq-length 4    --epoch 200 --lr 0.0002 --batch 50  --keep_prob 0.8  --verbose    --optimizer AdamOptimizer --output_dir ./experiment-results/models-for-experiment-1 --architecture 's3_network::in1:256|hidden:128|out1:32|out2:10--recur:256'\"\n",
      "\n",
      "\n",
      "submitJob \"./run.py scripts/train.py --dataset mnist --seq-length 4    --epoch 200 --lr 0.0002 --batch 50  --keep_prob 0.8  --verbose    --optimizer AdamOptimizer --output_dir ./experiment-results/models-for-experiment-1 --architecture 'deep_4l_network::in1:128|in2:256|hidden:128|out1:32|out2:10--recur:256'\"\n",
      "\n",
      "\n",
      "submitJob \"./run.py scripts/train.py --dataset mnist --seq-length 7    --epoch 200 --lr 0.0002 --batch 50  --keep_prob 0.8  --verbose    --optimizer AdamOptimizer --output_dir ./experiment-results/models-for-experiment-1 --architecture 's2_network::hidden:256|out:10--recur:256'\"\n",
      "\n",
      "\n",
      "submitJob \"./run.py scripts/train.py --dataset mnist --seq-length 7    --epoch 200 --lr 0.0002 --batch 50  --keep_prob 0.8  --verbose    --optimizer AdamOptimizer --output_dir ./experiment-results/models-for-experiment-1 --architecture 's3_network::in1:256|hidden:128|out1:32|out2:10--recur:256'\"\n",
      "\n",
      "\n",
      "submitJob \"./run.py scripts/train.py --dataset mnist --seq-length 7    --epoch 200 --lr 0.0002 --batch 50  --keep_prob 0.8  --verbose    --optimizer AdamOptimizer --output_dir ./experiment-results/models-for-experiment-1 --architecture 'deep_4l_network::in1:128|in2:256|hidden:128|out1:32|out2:10--recur:256'\"\n",
      "\n",
      "\n",
      "submitJob \"./run.py scripts/train.py --dataset fashion-mnist --seq-length 1    --epoch 200 --lr 0.0002 --batch 50  --keep_prob 0.8  --verbose    --optimizer AdamOptimizer --output_dir ./experiment-results/models-for-experiment-1 --architecture 's2_network::hidden:256|out:10--recur:256'\"\n",
      "\n",
      "\n",
      "submitJob \"./run.py scripts/train.py --dataset fashion-mnist --seq-length 1    --epoch 200 --lr 0.0002 --batch 50  --keep_prob 0.8  --verbose    --optimizer AdamOptimizer --output_dir ./experiment-results/models-for-experiment-1 --architecture 's3_network::in1:256|hidden:128|out1:32|out2:10--recur:256'\"\n",
      "\n",
      "\n",
      "submitJob \"./run.py scripts/train.py --dataset fashion-mnist --seq-length 1    --epoch 200 --lr 0.0002 --batch 50  --keep_prob 0.8  --verbose    --optimizer AdamOptimizer --output_dir ./experiment-results/models-for-experiment-1 --architecture 'deep_4l_network::in1:128|in2:256|hidden:128|out1:32|out2:10--recur:256'\"\n",
      "\n",
      "\n",
      "submitJob \"./run.py scripts/train.py --dataset fashion-mnist --seq-length 4    --epoch 200 --lr 0.0002 --batch 50  --keep_prob 0.8  --verbose    --optimizer AdamOptimizer --output_dir ./experiment-results/models-for-experiment-1 --architecture 's2_network::hidden:256|out:10--recur:256'\"\n",
      "\n",
      "\n",
      "submitJob \"./run.py scripts/train.py --dataset fashion-mnist --seq-length 4    --epoch 200 --lr 0.0002 --batch 50  --keep_prob 0.8  --verbose    --optimizer AdamOptimizer --output_dir ./experiment-results/models-for-experiment-1 --architecture 's3_network::in1:256|hidden:128|out1:32|out2:10--recur:256'\"\n",
      "\n",
      "\n",
      "submitJob \"./run.py scripts/train.py --dataset fashion-mnist --seq-length 4    --epoch 200 --lr 0.0002 --batch 50  --keep_prob 0.8  --verbose    --optimizer AdamOptimizer --output_dir ./experiment-results/models-for-experiment-1 --architecture 'deep_4l_network::in1:128|in2:256|hidden:128|out1:32|out2:10--recur:256'\"\n",
      "\n",
      "\n",
      "submitJob \"./run.py scripts/train.py --dataset fashion-mnist --seq-length 7    --epoch 200 --lr 0.0002 --batch 50  --keep_prob 0.8  --verbose    --optimizer AdamOptimizer --output_dir ./experiment-results/models-for-experiment-1 --architecture 's2_network::hidden:256|out:10--recur:256'\"\n",
      "\n",
      "\n",
      "submitJob \"./run.py scripts/train.py --dataset fashion-mnist --seq-length 7    --epoch 200 --lr 0.0002 --batch 50  --keep_prob 0.8  --verbose    --optimizer AdamOptimizer --output_dir ./experiment-results/models-for-experiment-1 --architecture 's3_network::in1:256|hidden:128|out1:32|out2:10--recur:256'\"\n",
      "\n",
      "\n",
      "submitJob \"./run.py scripts/train.py --dataset fashion-mnist --seq-length 7    --epoch 200 --lr 0.0002 --batch 50  --keep_prob 0.8  --verbose    --optimizer AdamOptimizer --output_dir ./experiment-results/models-for-experiment-1 --architecture 'deep_4l_network::in1:128|in2:256|hidden:128|out1:32|out2:10--recur:256'\"\n",
      "\n"
     ]
    }
   ],
   "source": [
    "command_proto = \"\"\"\n",
    "submitJob \"./run.py scripts/train.py --dataset {dataset} --seq-length {seq} \\\n",
    "   --epoch 200 --lr 0.0002 --batch 50  --keep_prob 0.8  --verbose \\\n",
    "   --optimizer AdamOptimizer --output_dir ./experiment-results/models-for-experiment-1 --architecture '{arch}'\"\n",
    "\"\"\"\n",
    "for data in ['mnist', 'fashion-mnist']:\n",
    "    for seq in [1, 4, 7]:\n",
    "        for k in ['s2_network', 's3_network', 'deep_4l_network']:\n",
    "            cmd = command_proto.format(dataset=data, seq=seq, arch=architecture_dict[k])\n",
    "            print(cmd)\n",
    "            "
   ]
  },
  {
   "cell_type": "code",
   "execution_count": null,
   "metadata": {},
   "outputs": [],
   "source": [
    "for data in ['mnist', 'fashion-mnist']:\n",
    "    for seq in [1, 4, 7]:\n",
    "        for k in ['convdeep_4l_network']:\n",
    "            cmd = command_proto.format(dataset=data, seq=seq, arch=architecture_dict[k])\n",
    "            print(cmd)"
   ]
  },
  {
   "cell_type": "markdown",
   "metadata": {},
   "source": [
    " python scripts/train.py --seq-length 12 --epoch 50 --lr 0.0001 --batch 50         --architecture 'convdeep::conv1:5x5x24=>2x2[2,2]|conv2:3x3x32=>2x2[2,2]|in1:128|hidden:128|out1:32|out2:10--recur:256' --keep_prob 0.8             --verbose --optimizer AdamOptimizer --output_dir ./experiment-results/models-for-exp3 --dataset mnist-3-digits-maj\n",
    " \n"
   ]
  },
  {
   "cell_type": "markdown",
   "metadata": {},
   "source": [
    " ## RLSTM\n",
    " python scripts/train.py --seq-length 12 --epoch 100 --lr 0.0001 --batch 50 --architecture 'rlstm::in1:256|recur:64|out:10' --keep_prob 0.8 --verbose --optimizer AdamOptimizer --output_dir ./experiment-results/models-for-exp3 --dataset mnist-3-digits-maj\n",
    " \n",
    "  python scripts/train.py --seq-length 12 --epoch 100 --lr 0.0001 --batch 50 --architecture 'deep::in1:256|hidden:128|out1:32|out2:10--recur:256' --keep_prob 0.8 --verbose --optimizer AdamOptimizer --output_dir ./experiment-results/models-for-exp3 --dataset mnist-3-digits-maj\n",
    "  \n",
    "  TODO:\n",
    "  - explain rlstm"
   ]
  },
  {
   "cell_type": "code",
   "execution_count": null,
   "metadata": {},
   "outputs": [],
   "source": []
  }
 ],
 "metadata": {
  "kernelspec": {
   "display_name": "Python3 Thesis Kernel",
   "language": "python",
   "name": "py3-thesis-kernel"
  },
  "language_info": {
   "codemirror_mode": {
    "name": "ipython",
    "version": 3
   },
   "file_extension": ".py",
   "mimetype": "text/x-python",
   "name": "python",
   "nbconvert_exporter": "python",
   "pygments_lexer": "ipython3",
   "version": "3.5.1"
  },
  "toc": {
   "nav_menu": {},
   "number_sections": true,
   "sideBar": true,
   "skip_h1_title": false,
   "toc_cell": false,
   "toc_position": {},
   "toc_section_display": "block",
   "toc_window_display": false
  }
 },
 "nbformat": 4,
 "nbformat_minor": 2
}
