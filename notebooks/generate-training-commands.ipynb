{
 "cells": [
  {
   "cell_type": "code",
   "execution_count": 15,
   "metadata": {},
   "outputs": [],
   "source": [
    "keep_prop = 0.8\n",
    "epochs = 100\n",
    "batch_size  = 50\n",
    "lr = 0.0002"
   ]
  },
  {
   "cell_type": "code",
   "execution_count": 30,
   "metadata": {},
   "outputs": [],
   "source": [
    "architectures = [\n",
    "    ('shallow', 'shallow::hidden:256|out:10--recur:256'),\n",
    "    ('deep', 'deep::in1:256|hidden:128|out1:32|out2:10--recur:256'),\n",
    "    ('deep_v2', 'deep_v2::in1:128|in2:256|hidden:128|out1:32|out2:10--recur:256'),\n",
    "    ('convdeep',\n",
    "     'convdeep::conv1:5x5x24=>2x2[2,2]|conv2:3x3x32=>2x2[2,2]|in1:128|hidden:128|out1:32|out2:10--recur:256'),\n",
    "    ('convrlstm', 'convrlstm::conv1:5x5x24=>2x2[2,2]|conv2:3x3x32=>2x2[2,2]|in1:128|recur:96|out2:10'),\n",
    "    ('convdeep_transcribe', 'convdeep_transcribe::conv1:5x5x24=>2x2[2,2]|conv2:3x3x32=>2x2[2,2]|in1:128|hidden:128|out1:32|out2:10--recur:256')\n",
    "]\n",
    "architecture_dict = dict(architectures)\n",
    "architecture_dict['deep_persisted_dropout'] = 'deep_persisted_dropout::' + architecture_dict['deep'].split('::')[1]\n",
    "\n",
    "architecture_dict['convrlstm_persisted_dropout'] = 'convrlstm_persisted_dropout::' + architecture_dict['convrlstm'].split('::')[1]\n",
    "architecture_dict['convtran_rlstm_persisted_dropout'] = 'convtran_rlstm_persisted_dropout::' + architecture_dict['convrlstm'].split('::')[1]\n",
    "\n",
    "architecture_dict['rlstm'] = 'rlstm::in1:256|recur:72|out2:10'\n",
    "architecture_dict['rlstm_persisted_dropout'] = 'rlstm_persisted_dropout::' + architecture_dict['rlstm'].split('::')[1]"
   ]
  },
  {
   "cell_type": "code",
   "execution_count": 26,
   "metadata": {},
   "outputs": [],
   "source": [
    "models = ['shallow', 'deep', 'convdeep', 'rlstm', 'rlstm_persisted_dropout',\n",
    "          'convdeep_transcribe', 'deep_persisted_dropout', 'deep_v2',\n",
    "          'convrlstm_persisted_dropout', 'convtran_rlstm_persisted_dropout']"
   ]
  },
  {
   "cell_type": "markdown",
   "metadata": {},
   "source": [
    "# Train experiment 1 models"
   ]
  },
  {
   "cell_type": "code",
   "execution_count": 16,
   "metadata": {},
   "outputs": [
    {
     "name": "stdout",
     "output_type": "stream",
     "text": [
      "\n",
      "submitJob \"./run.py scripts/train.py --dataset mnist --seq-length 1    --epoch 200 --lr 0.0002 --batch 50  --keep_prob 0.8  --verbose    --optimizer AdamOptimizer --output_dir ./experiment-results/models-for-experiment-1 --architecture 's2_network::hidden:256|out:10--recur:256'\"\n",
      "\n",
      "\n",
      "submitJob \"./run.py scripts/train.py --dataset mnist --seq-length 1    --epoch 200 --lr 0.0002 --batch 50  --keep_prob 0.8  --verbose    --optimizer AdamOptimizer --output_dir ./experiment-results/models-for-experiment-1 --architecture 's3_network::in1:256|hidden:128|out1:32|out2:10--recur:256'\"\n",
      "\n",
      "\n",
      "submitJob \"./run.py scripts/train.py --dataset mnist --seq-length 1    --epoch 200 --lr 0.0002 --batch 50  --keep_prob 0.8  --verbose    --optimizer AdamOptimizer --output_dir ./experiment-results/models-for-experiment-1 --architecture 'deep_4l_network::in1:128|in2:256|hidden:128|out1:32|out2:10--recur:256'\"\n",
      "\n",
      "\n",
      "submitJob \"./run.py scripts/train.py --dataset mnist --seq-length 4    --epoch 200 --lr 0.0002 --batch 50  --keep_prob 0.8  --verbose    --optimizer AdamOptimizer --output_dir ./experiment-results/models-for-experiment-1 --architecture 's2_network::hidden:256|out:10--recur:256'\"\n",
      "\n",
      "\n",
      "submitJob \"./run.py scripts/train.py --dataset mnist --seq-length 4    --epoch 200 --lr 0.0002 --batch 50  --keep_prob 0.8  --verbose    --optimizer AdamOptimizer --output_dir ./experiment-results/models-for-experiment-1 --architecture 's3_network::in1:256|hidden:128|out1:32|out2:10--recur:256'\"\n",
      "\n",
      "\n",
      "submitJob \"./run.py scripts/train.py --dataset mnist --seq-length 4    --epoch 200 --lr 0.0002 --batch 50  --keep_prob 0.8  --verbose    --optimizer AdamOptimizer --output_dir ./experiment-results/models-for-experiment-1 --architecture 'deep_4l_network::in1:128|in2:256|hidden:128|out1:32|out2:10--recur:256'\"\n",
      "\n",
      "\n",
      "submitJob \"./run.py scripts/train.py --dataset mnist --seq-length 7    --epoch 200 --lr 0.0002 --batch 50  --keep_prob 0.8  --verbose    --optimizer AdamOptimizer --output_dir ./experiment-results/models-for-experiment-1 --architecture 's2_network::hidden:256|out:10--recur:256'\"\n",
      "\n",
      "\n",
      "submitJob \"./run.py scripts/train.py --dataset mnist --seq-length 7    --epoch 200 --lr 0.0002 --batch 50  --keep_prob 0.8  --verbose    --optimizer AdamOptimizer --output_dir ./experiment-results/models-for-experiment-1 --architecture 's3_network::in1:256|hidden:128|out1:32|out2:10--recur:256'\"\n",
      "\n",
      "\n",
      "submitJob \"./run.py scripts/train.py --dataset mnist --seq-length 7    --epoch 200 --lr 0.0002 --batch 50  --keep_prob 0.8  --verbose    --optimizer AdamOptimizer --output_dir ./experiment-results/models-for-experiment-1 --architecture 'deep_4l_network::in1:128|in2:256|hidden:128|out1:32|out2:10--recur:256'\"\n",
      "\n",
      "\n",
      "submitJob \"./run.py scripts/train.py --dataset fashion-mnist --seq-length 1    --epoch 200 --lr 0.0002 --batch 50  --keep_prob 0.8  --verbose    --optimizer AdamOptimizer --output_dir ./experiment-results/models-for-experiment-1 --architecture 's2_network::hidden:256|out:10--recur:256'\"\n",
      "\n",
      "\n",
      "submitJob \"./run.py scripts/train.py --dataset fashion-mnist --seq-length 1    --epoch 200 --lr 0.0002 --batch 50  --keep_prob 0.8  --verbose    --optimizer AdamOptimizer --output_dir ./experiment-results/models-for-experiment-1 --architecture 's3_network::in1:256|hidden:128|out1:32|out2:10--recur:256'\"\n",
      "\n",
      "\n",
      "submitJob \"./run.py scripts/train.py --dataset fashion-mnist --seq-length 1    --epoch 200 --lr 0.0002 --batch 50  --keep_prob 0.8  --verbose    --optimizer AdamOptimizer --output_dir ./experiment-results/models-for-experiment-1 --architecture 'deep_4l_network::in1:128|in2:256|hidden:128|out1:32|out2:10--recur:256'\"\n",
      "\n",
      "\n",
      "submitJob \"./run.py scripts/train.py --dataset fashion-mnist --seq-length 4    --epoch 200 --lr 0.0002 --batch 50  --keep_prob 0.8  --verbose    --optimizer AdamOptimizer --output_dir ./experiment-results/models-for-experiment-1 --architecture 's2_network::hidden:256|out:10--recur:256'\"\n",
      "\n",
      "\n",
      "submitJob \"./run.py scripts/train.py --dataset fashion-mnist --seq-length 4    --epoch 200 --lr 0.0002 --batch 50  --keep_prob 0.8  --verbose    --optimizer AdamOptimizer --output_dir ./experiment-results/models-for-experiment-1 --architecture 's3_network::in1:256|hidden:128|out1:32|out2:10--recur:256'\"\n",
      "\n",
      "\n",
      "submitJob \"./run.py scripts/train.py --dataset fashion-mnist --seq-length 4    --epoch 200 --lr 0.0002 --batch 50  --keep_prob 0.8  --verbose    --optimizer AdamOptimizer --output_dir ./experiment-results/models-for-experiment-1 --architecture 'deep_4l_network::in1:128|in2:256|hidden:128|out1:32|out2:10--recur:256'\"\n",
      "\n",
      "\n",
      "submitJob \"./run.py scripts/train.py --dataset fashion-mnist --seq-length 7    --epoch 200 --lr 0.0002 --batch 50  --keep_prob 0.8  --verbose    --optimizer AdamOptimizer --output_dir ./experiment-results/models-for-experiment-1 --architecture 's2_network::hidden:256|out:10--recur:256'\"\n",
      "\n",
      "\n",
      "submitJob \"./run.py scripts/train.py --dataset fashion-mnist --seq-length 7    --epoch 200 --lr 0.0002 --batch 50  --keep_prob 0.8  --verbose    --optimizer AdamOptimizer --output_dir ./experiment-results/models-for-experiment-1 --architecture 's3_network::in1:256|hidden:128|out1:32|out2:10--recur:256'\"\n",
      "\n",
      "\n",
      "submitJob \"./run.py scripts/train.py --dataset fashion-mnist --seq-length 7    --epoch 200 --lr 0.0002 --batch 50  --keep_prob 0.8  --verbose    --optimizer AdamOptimizer --output_dir ./experiment-results/models-for-experiment-1 --architecture 'deep_4l_network::in1:128|in2:256|hidden:128|out1:32|out2:10--recur:256'\"\n",
      "\n"
     ]
    }
   ],
   "source": [
    "command_proto = \"\"\"\n",
    "python scripts/train.py --dataset {dataset} --seq-length {seq} \\\n",
    "   --epoch 200 --lr 0.0002 --batch 50  --keep_prob 0.8  --verbose \\\n",
    "   --optimizer AdamOptimizer --output_dir ./experiment-results/models-for-experiment-1 --architecture '{arch}'\n",
    "\"\"\"\n",
    "for data in ['mnist', 'fashion-mnist']:\n",
    "    for seq in [1, 4, 7]:\n",
    "        for k in ['s2_network', 's3_network', 'deep_4l_network']:\n",
    "            cmd = command_proto.format(dataset=data, seq=seq, arch=architecture_dict[k])\n",
    "            print(cmd)\n",
    "            "
   ]
  },
  {
   "cell_type": "code",
   "execution_count": null,
   "metadata": {},
   "outputs": [],
   "source": [
    "for data in ['mnist', 'fashion-mnist']:\n",
    "    for seq in [1, 4, 7]:\n",
    "        for k in ['convdeep_4l_network']:\n",
    "            cmd = command_proto.format(dataset=data, seq=seq, arch=architecture_dict[k])\n",
    "            print(cmd)"
   ]
  },
  {
   "cell_type": "markdown",
   "metadata": {},
   "source": [
    " python scripts/train.py --seq-length 12 --epoch 50 --lr 0.0001 --batch 50         --architecture 'convdeep::conv1:5x5x24=>2x2[2,2]|conv2:3x3x32=>2x2[2,2]|in1:128|hidden:128|out1:32|out2:10--recur:256' --keep_prob 0.8             --verbose --optimizer AdamOptimizer --output_dir ./experiment-results/models-for-exp3 --dataset mnist-3-digits-maj\n",
    " \n"
   ]
  },
  {
   "cell_type": "markdown",
   "metadata": {},
   "source": [
    " ## RLSTM\n",
    " python scripts/train.py --seq-length 12 --epoch 200 --lr 0.0001 --batch 50 --architecture 'rlstm::in1:256|recur:72|out2:10' --keep_prob 0.8 --verbose --optimizer AdamOptimizer --output_dir ./experiment-results/models-for-exp3 --dataset mnist-3-digits-maj\n",
    " \n",
    "  python scripts/train.py --seq-length 12 --epoch 200 --lr 0.00025 --batch 50 --architecture 'deep::in1:256|hidden:128|out1:32|out2:10--recur:256' --keep_prob 0.8 --verbose --optimizer AdamOptimizer --output_dir ./experiment-results/models-for-exp3 --dataset mnist-3-digits-maj\n",
    "  \n",
    "  TODO:\n",
    "  - explain rlstm"
   ]
  },
  {
   "cell_type": "markdown",
   "metadata": {},
   "source": [
    "## 1 Models majority problem"
   ]
  },
  {
   "cell_type": "code",
   "execution_count": 31,
   "metadata": {},
   "outputs": [
    {
     "name": "stdout",
     "output_type": "stream",
     "text": [
      "===========\n",
      "archictecture : shallow\n",
      "> python scripts/train.py --dataset mnist-3-digits-maj --seq-length 12    --epoch 100 --lr 0.0002 --batch 50  --keep_prob 0.8  --verbose    --optimizer AdamOptimizer --output_dir ./experiment-results/models-for-exp3-100epoches --architecture 'shallow::hidden:256|out:10--recur:256'  && python scripts/train.py --dataset fashion-mnist-3-items-maj --seq-length 12    --epoch 100 --lr 0.0002 --batch 50  --keep_prob 0.8  --verbose    --optimizer AdamOptimizer --output_dir ./experiment-results/models-for-exp3-100epoches --architecture 'shallow::hidden:256|out:10--recur:256' \n",
      "===========\n",
      "archictecture : deep\n",
      "> python scripts/train.py --dataset mnist-3-digits-maj --seq-length 12    --epoch 100 --lr 0.0002 --batch 50  --keep_prob 0.8  --verbose    --optimizer AdamOptimizer --output_dir ./experiment-results/models-for-exp3-100epoches --architecture 'deep::in1:256|hidden:128|out1:32|out2:10--recur:256'  && python scripts/train.py --dataset fashion-mnist-3-items-maj --seq-length 12    --epoch 100 --lr 0.0002 --batch 50  --keep_prob 0.8  --verbose    --optimizer AdamOptimizer --output_dir ./experiment-results/models-for-exp3-100epoches --architecture 'deep::in1:256|hidden:128|out1:32|out2:10--recur:256' \n",
      "===========\n",
      "archictecture : convdeep\n",
      "> python scripts/train.py --dataset mnist-3-digits-maj --seq-length 12    --epoch 100 --lr 0.0002 --batch 50  --keep_prob 0.8  --verbose    --optimizer AdamOptimizer --output_dir ./experiment-results/models-for-exp3-100epoches --architecture 'convdeep::conv1:5x5x24=>2x2[2,2]|conv2:3x3x32=>2x2[2,2]|in1:128|hidden:128|out1:32|out2:10--recur:256'  && python scripts/train.py --dataset fashion-mnist-3-items-maj --seq-length 12    --epoch 100 --lr 0.0002 --batch 50  --keep_prob 0.8  --verbose    --optimizer AdamOptimizer --output_dir ./experiment-results/models-for-exp3-100epoches --architecture 'convdeep::conv1:5x5x24=>2x2[2,2]|conv2:3x3x32=>2x2[2,2]|in1:128|hidden:128|out1:32|out2:10--recur:256' \n",
      "===========\n",
      "archictecture : rlstm\n",
      "> python scripts/train.py --dataset mnist-3-digits-maj --seq-length 12    --epoch 100 --lr 0.0002 --batch 50  --keep_prob 0.8  --verbose    --optimizer AdamOptimizer --output_dir ./experiment-results/models-for-exp3-100epoches --architecture 'rlstm::in1:256|recur:72|out2:10'  && python scripts/train.py --dataset fashion-mnist-3-items-maj --seq-length 12    --epoch 100 --lr 0.0002 --batch 50  --keep_prob 0.8  --verbose    --optimizer AdamOptimizer --output_dir ./experiment-results/models-for-exp3-100epoches --architecture 'rlstm::in1:256|recur:72|out2:10' \n",
      "===========\n",
      "archictecture : rlstm_persisted_dropout\n",
      "> python scripts/train.py --dataset mnist-3-digits-maj --seq-length 12    --epoch 100 --lr 0.0002 --batch 50  --keep_prob 0.8  --verbose    --optimizer AdamOptimizer --output_dir ./experiment-results/models-for-exp3-100epoches --architecture 'rlstm_persisted_dropout::in1:256|recur:72|out2:10'  && python scripts/train.py --dataset fashion-mnist-3-items-maj --seq-length 12    --epoch 100 --lr 0.0002 --batch 50  --keep_prob 0.8  --verbose    --optimizer AdamOptimizer --output_dir ./experiment-results/models-for-exp3-100epoches --architecture 'rlstm_persisted_dropout::in1:256|recur:72|out2:10' \n",
      "===========\n",
      "archictecture : convdeep_transcribe\n",
      "> python scripts/train.py --dataset mnist-3-digits-maj --seq-length 12    --epoch 100 --lr 0.0002 --batch 50  --keep_prob 0.8  --verbose    --optimizer AdamOptimizer --output_dir ./experiment-results/models-for-exp3-100epoches --architecture 'convdeep_transcribe::conv1:5x5x24=>2x2[2,2]|conv2:3x3x32=>2x2[2,2]|in1:128|hidden:128|out1:32|out2:10--recur:256'  && python scripts/train.py --dataset fashion-mnist-3-items-maj --seq-length 12    --epoch 100 --lr 0.0002 --batch 50  --keep_prob 0.8  --verbose    --optimizer AdamOptimizer --output_dir ./experiment-results/models-for-exp3-100epoches --architecture 'convdeep_transcribe::conv1:5x5x24=>2x2[2,2]|conv2:3x3x32=>2x2[2,2]|in1:128|hidden:128|out1:32|out2:10--recur:256' \n",
      "===========\n",
      "archictecture : deep_persisted_dropout\n",
      "> python scripts/train.py --dataset mnist-3-digits-maj --seq-length 12    --epoch 100 --lr 0.0002 --batch 50  --keep_prob 0.8  --verbose    --optimizer AdamOptimizer --output_dir ./experiment-results/models-for-exp3-100epoches --architecture 'deep_persisted_dropout::in1:256|hidden:128|out1:32|out2:10--recur:256'  && python scripts/train.py --dataset fashion-mnist-3-items-maj --seq-length 12    --epoch 100 --lr 0.0002 --batch 50  --keep_prob 0.8  --verbose    --optimizer AdamOptimizer --output_dir ./experiment-results/models-for-exp3-100epoches --architecture 'deep_persisted_dropout::in1:256|hidden:128|out1:32|out2:10--recur:256' \n",
      "===========\n",
      "archictecture : deep_v2\n",
      "> python scripts/train.py --dataset mnist-3-digits-maj --seq-length 12    --epoch 100 --lr 0.0002 --batch 50  --keep_prob 0.8  --verbose    --optimizer AdamOptimizer --output_dir ./experiment-results/models-for-exp3-100epoches --architecture 'deep_v2::in1:128|in2:256|hidden:128|out1:32|out2:10--recur:256'  && python scripts/train.py --dataset fashion-mnist-3-items-maj --seq-length 12    --epoch 100 --lr 0.0002 --batch 50  --keep_prob 0.8  --verbose    --optimizer AdamOptimizer --output_dir ./experiment-results/models-for-exp3-100epoches --architecture 'deep_v2::in1:128|in2:256|hidden:128|out1:32|out2:10--recur:256' \n",
      "===========\n",
      "archictecture : convrlstm_persisted_dropout\n",
      "> python scripts/train.py --dataset mnist-3-digits-maj --seq-length 12    --epoch 100 --lr 0.0002 --batch 50  --keep_prob 0.8  --verbose    --optimizer AdamOptimizer --output_dir ./experiment-results/models-for-exp3-100epoches --architecture 'convrlstm_persisted_dropout::conv1:5x5x24=>2x2[2,2]|conv2:3x3x32=>2x2[2,2]|in1:128|recur:96|out2:10'  && python scripts/train.py --dataset fashion-mnist-3-items-maj --seq-length 12    --epoch 100 --lr 0.0002 --batch 50  --keep_prob 0.8  --verbose    --optimizer AdamOptimizer --output_dir ./experiment-results/models-for-exp3-100epoches --architecture 'convrlstm_persisted_dropout::conv1:5x5x24=>2x2[2,2]|conv2:3x3x32=>2x2[2,2]|in1:128|recur:96|out2:10' \n",
      "===========\n",
      "archictecture : convtran_rlstm_persisted_dropout\n",
      "> python scripts/train.py --dataset mnist-3-digits-maj --seq-length 12    --epoch 100 --lr 0.0002 --batch 50  --keep_prob 0.8  --verbose    --optimizer AdamOptimizer --output_dir ./experiment-results/models-for-exp3-100epoches --architecture 'convtran_rlstm_persisted_dropout::conv1:5x5x24=>2x2[2,2]|conv2:3x3x32=>2x2[2,2]|in1:128|recur:96|out2:10'  && python scripts/train.py --dataset fashion-mnist-3-items-maj --seq-length 12    --epoch 100 --lr 0.0002 --batch 50  --keep_prob 0.8  --verbose    --optimizer AdamOptimizer --output_dir ./experiment-results/models-for-exp3-100epoches --architecture 'convtran_rlstm_persisted_dropout::conv1:5x5x24=>2x2[2,2]|conv2:3x3x32=>2x2[2,2]|in1:128|recur:96|out2:10' \n"
     ]
    }
   ],
   "source": [
    "command_proto = \"\"\"python scripts/train.py --dataset {dataset} --seq-length 12 \\\n",
    "   --epoch 100 --lr 0.0002 --batch 50  --keep_prob 0.8  --verbose \\\n",
    "   --optimizer AdamOptimizer --output_dir ./experiment-results/models-for-exp3-100epoches --architecture '{arch}' \\\n",
    "\"\"\"\n",
    "\n",
    "for k in models:\n",
    "    cmds = []\n",
    "    print('===========')\n",
    "    print('archictecture : %s' % k)\n",
    "    for data in ['mnist-3-digits-maj', 'fashion-mnist-3-items-maj']:\n",
    "        cmd = command_proto.format(dataset=data, arch=architecture_dict[k])\n",
    "        cmds.append(cmd)\n",
    "    print('> %s' % ' && '.join(cmds))\n",
    "\n",
    "\n",
    "            "
   ]
  },
  {
   "cell_type": "markdown",
   "metadata": {},
   "source": [
    "## Hypothesis testing models"
   ]
  },
  {
   "cell_type": "code",
   "execution_count": 34,
   "metadata": {},
   "outputs": [
    {
     "name": "stdout",
     "output_type": "stream",
     "text": [
      "===========\n",
      "archictecture : shallow\n",
      "> python scripts/train.py --dataset mnist-3-digits-maj --seq-length 12    --epoch 100 --lr 0.0002 --batch 50  --keep_prob 0.8  --verbose --cv_folds 7    --optimizer AdamOptimizer --output_dir ./experiment-results/models-for-exp3-hypo --architecture 'shallow::hidden:256|out:10--recur:256'  && python scripts/train.py --dataset fashion-mnist-3-items-maj --seq-length 12    --epoch 100 --lr 0.0002 --batch 50  --keep_prob 0.8  --verbose --cv_folds 7    --optimizer AdamOptimizer --output_dir ./experiment-results/models-for-exp3-hypo --architecture 'shallow::hidden:256|out:10--recur:256' \n",
      "===========\n",
      "archictecture : deep\n",
      "> python scripts/train.py --dataset mnist-3-digits-maj --seq-length 12    --epoch 100 --lr 0.0002 --batch 50  --keep_prob 0.8  --verbose --cv_folds 7    --optimizer AdamOptimizer --output_dir ./experiment-results/models-for-exp3-hypo --architecture 'deep::in1:256|hidden:128|out1:32|out2:10--recur:256'  && python scripts/train.py --dataset fashion-mnist-3-items-maj --seq-length 12    --epoch 100 --lr 0.0002 --batch 50  --keep_prob 0.8  --verbose --cv_folds 7    --optimizer AdamOptimizer --output_dir ./experiment-results/models-for-exp3-hypo --architecture 'deep::in1:256|hidden:128|out1:32|out2:10--recur:256' \n",
      "===========\n",
      "archictecture : convdeep\n",
      "> python scripts/train.py --dataset mnist-3-digits-maj --seq-length 12    --epoch 100 --lr 0.0002 --batch 50  --keep_prob 0.8  --verbose --cv_folds 7    --optimizer AdamOptimizer --output_dir ./experiment-results/models-for-exp3-hypo --architecture 'convdeep::conv1:5x5x24=>2x2[2,2]|conv2:3x3x32=>2x2[2,2]|in1:128|hidden:128|out1:32|out2:10--recur:256'  && python scripts/train.py --dataset fashion-mnist-3-items-maj --seq-length 12    --epoch 100 --lr 0.0002 --batch 50  --keep_prob 0.8  --verbose --cv_folds 7    --optimizer AdamOptimizer --output_dir ./experiment-results/models-for-exp3-hypo --architecture 'convdeep::conv1:5x5x24=>2x2[2,2]|conv2:3x3x32=>2x2[2,2]|in1:128|hidden:128|out1:32|out2:10--recur:256' \n",
      "===========\n",
      "archictecture : rlstm\n",
      "> python scripts/train.py --dataset mnist-3-digits-maj --seq-length 12    --epoch 100 --lr 0.0002 --batch 50  --keep_prob 0.8  --verbose --cv_folds 7    --optimizer AdamOptimizer --output_dir ./experiment-results/models-for-exp3-hypo --architecture 'rlstm::in1:256|recur:72|out2:10'  && python scripts/train.py --dataset fashion-mnist-3-items-maj --seq-length 12    --epoch 100 --lr 0.0002 --batch 50  --keep_prob 0.8  --verbose --cv_folds 7    --optimizer AdamOptimizer --output_dir ./experiment-results/models-for-exp3-hypo --architecture 'rlstm::in1:256|recur:72|out2:10' \n",
      "===========\n",
      "archictecture : rlstm_persisted_dropout\n",
      "> python scripts/train.py --dataset mnist-3-digits-maj --seq-length 12    --epoch 100 --lr 0.0002 --batch 50  --keep_prob 0.8  --verbose --cv_folds 7    --optimizer AdamOptimizer --output_dir ./experiment-results/models-for-exp3-hypo --architecture 'rlstm_persisted_dropout::in1:256|recur:72|out2:10'  && python scripts/train.py --dataset fashion-mnist-3-items-maj --seq-length 12    --epoch 100 --lr 0.0002 --batch 50  --keep_prob 0.8  --verbose --cv_folds 7    --optimizer AdamOptimizer --output_dir ./experiment-results/models-for-exp3-hypo --architecture 'rlstm_persisted_dropout::in1:256|recur:72|out2:10' \n",
      "===========\n",
      "archictecture : convdeep_transcribe\n",
      "> python scripts/train.py --dataset mnist-3-digits-maj --seq-length 12    --epoch 100 --lr 0.0002 --batch 50  --keep_prob 0.8  --verbose --cv_folds 7    --optimizer AdamOptimizer --output_dir ./experiment-results/models-for-exp3-hypo --architecture 'convdeep_transcribe::conv1:5x5x24=>2x2[2,2]|conv2:3x3x32=>2x2[2,2]|in1:128|hidden:128|out1:32|out2:10--recur:256'  && python scripts/train.py --dataset fashion-mnist-3-items-maj --seq-length 12    --epoch 100 --lr 0.0002 --batch 50  --keep_prob 0.8  --verbose --cv_folds 7    --optimizer AdamOptimizer --output_dir ./experiment-results/models-for-exp3-hypo --architecture 'convdeep_transcribe::conv1:5x5x24=>2x2[2,2]|conv2:3x3x32=>2x2[2,2]|in1:128|hidden:128|out1:32|out2:10--recur:256' \n",
      "===========\n",
      "archictecture : deep_persisted_dropout\n",
      "> python scripts/train.py --dataset mnist-3-digits-maj --seq-length 12    --epoch 100 --lr 0.0002 --batch 50  --keep_prob 0.8  --verbose --cv_folds 7    --optimizer AdamOptimizer --output_dir ./experiment-results/models-for-exp3-hypo --architecture 'deep_persisted_dropout::in1:256|hidden:128|out1:32|out2:10--recur:256'  && python scripts/train.py --dataset fashion-mnist-3-items-maj --seq-length 12    --epoch 100 --lr 0.0002 --batch 50  --keep_prob 0.8  --verbose --cv_folds 7    --optimizer AdamOptimizer --output_dir ./experiment-results/models-for-exp3-hypo --architecture 'deep_persisted_dropout::in1:256|hidden:128|out1:32|out2:10--recur:256' \n",
      "===========\n",
      "archictecture : deep_v2\n",
      "> python scripts/train.py --dataset mnist-3-digits-maj --seq-length 12    --epoch 100 --lr 0.0002 --batch 50  --keep_prob 0.8  --verbose --cv_folds 7    --optimizer AdamOptimizer --output_dir ./experiment-results/models-for-exp3-hypo --architecture 'deep_v2::in1:128|in2:256|hidden:128|out1:32|out2:10--recur:256'  && python scripts/train.py --dataset fashion-mnist-3-items-maj --seq-length 12    --epoch 100 --lr 0.0002 --batch 50  --keep_prob 0.8  --verbose --cv_folds 7    --optimizer AdamOptimizer --output_dir ./experiment-results/models-for-exp3-hypo --architecture 'deep_v2::in1:128|in2:256|hidden:128|out1:32|out2:10--recur:256' \n",
      "===========\n",
      "archictecture : convrlstm_persisted_dropout\n",
      "> python scripts/train.py --dataset mnist-3-digits-maj --seq-length 12    --epoch 100 --lr 0.0002 --batch 50  --keep_prob 0.8  --verbose --cv_folds 7    --optimizer AdamOptimizer --output_dir ./experiment-results/models-for-exp3-hypo --architecture 'convrlstm_persisted_dropout::conv1:5x5x24=>2x2[2,2]|conv2:3x3x32=>2x2[2,2]|in1:128|recur:96|out2:10'  && python scripts/train.py --dataset fashion-mnist-3-items-maj --seq-length 12    --epoch 100 --lr 0.0002 --batch 50  --keep_prob 0.8  --verbose --cv_folds 7    --optimizer AdamOptimizer --output_dir ./experiment-results/models-for-exp3-hypo --architecture 'convrlstm_persisted_dropout::conv1:5x5x24=>2x2[2,2]|conv2:3x3x32=>2x2[2,2]|in1:128|recur:96|out2:10' \n",
      "===========\n",
      "archictecture : convtran_rlstm_persisted_dropout\n",
      "> python scripts/train.py --dataset mnist-3-digits-maj --seq-length 12    --epoch 100 --lr 0.0002 --batch 50  --keep_prob 0.8  --verbose --cv_folds 7    --optimizer AdamOptimizer --output_dir ./experiment-results/models-for-exp3-hypo --architecture 'convtran_rlstm_persisted_dropout::conv1:5x5x24=>2x2[2,2]|conv2:3x3x32=>2x2[2,2]|in1:128|recur:96|out2:10'  && python scripts/train.py --dataset fashion-mnist-3-items-maj --seq-length 12    --epoch 100 --lr 0.0002 --batch 50  --keep_prob 0.8  --verbose --cv_folds 7    --optimizer AdamOptimizer --output_dir ./experiment-results/models-for-exp3-hypo --architecture 'convtran_rlstm_persisted_dropout::conv1:5x5x24=>2x2[2,2]|conv2:3x3x32=>2x2[2,2]|in1:128|recur:96|out2:10' \n"
     ]
    }
   ],
   "source": [
    "command_proto = \"\"\"python scripts/train.py --dataset {dataset} --seq-length 12 \\\n",
    "   --epoch 100 --lr 0.0002 --batch 50  --keep_prob 0.8  --verbose --cv_folds 7 \\\n",
    "   --optimizer AdamOptimizer --output_dir ./experiment-results/models-for-exp3-hypo --architecture '{arch}' \\\n",
    "\"\"\"\n",
    "\n",
    "for k in models:\n",
    "    cmds = []\n",
    "    print('===========')\n",
    "    print('archictecture : %s' % k)\n",
    "    for data in ['mnist-3-digits-maj', 'fashion-mnist-3-items-maj']:\n",
    "        cmd = command_proto.format(dataset=data, arch=architecture_dict[k])\n",
    "        cmds.append(cmd)\n",
    "    print('> %s' % ' && '.join(cmds))\n",
    "\n",
    "\n",
    "            \n",
    "            "
   ]
  },
  {
   "cell_type": "markdown",
   "metadata": {},
   "source": [
    "python scripts/train.py --dataset mnist-3-digits-maj --seq-length 12    --epoch 100 --lr 0.0002 --batch 50  --keep_prob 0.8  --verbose --cv_folds 7    --optimizer AdamOptimizer --output_dir ./experiment-results/models-for-exp3-hypo --architecture 'convdeep_transcribe::conv1:5x5x24=>2x2[2,2]|conv2:3x3x32=>2x2[2,2]|in1:128|hidden:128|out1:32|out2:10--recur:256'  && python scripts/train.py --dataset fashion-mnist-3-items-maj --seq-length 12    --epoch 100 --lr 0.0002 --batch 50  --keep_prob 0.8  --verbose --cv_folds 7    --optimizer AdamOptimizer --output_dir ./experiment-results/models-for-exp3-hypo --architecture 'convdeep_transcribe::conv1:5x5x24=>2x2[2,2]|conv2:3x3x32=>2x2[2,2]|in1:128|hidden:128|out1:32|out2:10--recur:256'  && python scripts/train.py --dataset mnist-3-digits-maj --seq-length 12    --epoch 100 --lr 0.0002 --batch 50  --keep_prob 0.8  --verbose --cv_folds 7    --optimizer AdamOptimizer --output_dir ./experiment-results/models-for-exp3-hypo --architecture 'convtran_rlstm_persisted_dropout::conv1:5x5x24=>2x2[2,2]|conv2:3x3x32=>2x2[2,2]|in1:128|recur:96|out2:10'  && python scripts/train.py --dataset fashion-mnist-3-items-maj --seq-length 12    --epoch 100 --lr 0.0002 --batch 50  --keep_prob 0.8  --verbose --cv_folds 7    --optimizer AdamOptimizer --output_dir ./experiment-results/models-for-exp3-hypo --architecture 'convtran_rlstm_persisted_dropout::conv1:5x5x24=>2x2[2,2]|conv2:3x3x32=>2x2[2,2]|in1:128|recur:96|out2:10' "
   ]
  },
  {
   "cell_type": "code",
   "execution_count": null,
   "metadata": {},
   "outputs": [],
   "source": []
  }
 ],
 "metadata": {
  "kernelspec": {
   "display_name": "Python3 Thesis Kernel",
   "language": "python",
   "name": "py3-thesis-kernel"
  },
  "language_info": {
   "codemirror_mode": {
    "name": "ipython",
    "version": 3
   },
   "file_extension": ".py",
   "mimetype": "text/x-python",
   "name": "python",
   "nbconvert_exporter": "python",
   "pygments_lexer": "ipython3",
   "version": "3.5.1"
  },
  "toc": {
   "nav_menu": {},
   "number_sections": true,
   "sideBar": true,
   "skip_h1_title": false,
   "toc_cell": false,
   "toc_position": {},
   "toc_section_display": "block",
   "toc_window_display": true
  }
 },
 "nbformat": 4,
 "nbformat_minor": 2
}
