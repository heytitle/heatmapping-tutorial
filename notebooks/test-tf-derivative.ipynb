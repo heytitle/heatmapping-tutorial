{
 "cells": [
  {
   "cell_type": "code",
   "execution_count": 2,
   "metadata": {},
   "outputs": [],
   "source": [
    "import tensorflow as tf\n",
    "import numpy as np"
   ]
  },
  {
   "cell_type": "code",
   "execution_count": 49,
   "metadata": {},
   "outputs": [
    {
     "name": "stdout",
     "output_type": "stream",
     "text": [
      "------\n",
      "[ 13.  41.  85.]\n",
      "[  35.  189.  559.]\n",
      "------\n",
      "[[3 2]\n",
      " [4 5]\n",
      " [7 6]]\n",
      "(3, 2)\n",
      "[[  13.   35.]\n",
      " [  41.  189.]\n",
      " [  85.  559.]]\n",
      "----- grad -----\n",
      "[array([[  33.,   16.],\n",
      "       [  56.,   85.],\n",
      "       [ 161.,  120.]], dtype=float32)]\n",
      "---- max_pred ----\n",
      "[  35.  189.  559.]\n",
      "---- grad max pred\n",
      "[array([[  27.,   12.],\n",
      "       [  48.,   75.],\n",
      "       [ 147.,  108.]], dtype=float32)]\n"
     ]
    }
   ],
   "source": [
    "with tf.Session() as sess:\n",
    "    x = tf.placeholder(tf.float32, shape=(None, 2), name='x')\n",
    "    y_2 = tf.reduce_sum(tf.pow(x, 2), axis=1)\n",
    "    y_3 = tf.reduce_sum(tf.pow(x, 3), axis=1)\n",
    "    \n",
    "    y = tf.stack([y_2,y_3], axis=1)\n",
    "    x_input = np.array([3,2,4,5,7,6]).reshape(-1,2)\n",
    "\n",
    "    print('------')\n",
    "    res_y_2, res_y_3 = sess.run([y_2,y_3], feed_dict={x: x_input});\n",
    "    print(res_y_2)\n",
    "    print(res_y_3)\n",
    "    print('------')\n",
    "    max_pred = tf.reduce_max(y, axis=1)\n",
    "    gradient = tf.gradients(y, x)\n",
    "    grad_max_pred = tf.gradients(max_pred, x)\n",
    "    \n",
    "    res, grad_res, max_pred_res, grad_max_pred = sess.run([y, gradient, max_pred, grad_max_pred], feed_dict={x: x_input})\n",
    "    \n",
    "    \n",
    "    print(x_input)\n",
    "    print(res.shape)\n",
    "    print(res)\n",
    "    print('----- grad -----')\n",
    "    print(grad_res)\n",
    "    print('---- max_pred ----')\n",
    "    print(max_pred_res)\n",
    "    print('---- grad max pred')\n",
    "    print(grad_max_pred)\n",
    "#     print('x=%f , y=%f' %(x_input, res))"
   ]
  },
  {
   "cell_type": "code",
   "execution_count": 21,
   "metadata": {},
   "outputs": [],
   "source": [
    "grad_func = lambda x: 2*x + 3*(x**2)"
   ]
  },
  {
   "cell_type": "code",
   "execution_count": 28,
   "metadata": {},
   "outputs": [
    {
     "data": {
      "text/plain": [
       "161"
      ]
     },
     "execution_count": 28,
     "metadata": {},
     "output_type": "execute_result"
    }
   ],
   "source": [
    "grad_func(7)"
   ]
  },
  {
   "cell_type": "code",
   "execution_count": null,
   "metadata": {},
   "outputs": [],
   "source": []
  }
 ],
 "metadata": {
  "kernelspec": {
   "display_name": "Python3 Thesis Kernel",
   "language": "python",
   "name": "py3-thesis-kernel"
  },
  "language_info": {
   "codemirror_mode": {
    "name": "ipython",
    "version": 3
   },
   "file_extension": ".py",
   "mimetype": "text/x-python",
   "name": "python",
   "nbconvert_exporter": "python",
   "pygments_lexer": "ipython3",
   "version": "3.5.1"
  },
  "toc": {
   "nav_menu": {},
   "number_sections": true,
   "sideBar": true,
   "skip_h1_title": false,
   "toc_cell": false,
   "toc_position": {},
   "toc_section_display": "block",
   "toc_window_display": false
  }
 },
 "nbformat": 4,
 "nbformat_minor": 2
}
