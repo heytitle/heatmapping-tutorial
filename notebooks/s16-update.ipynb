{
 "cells": [
  {
   "cell_type": "markdown",
   "metadata": {},
   "source": [
    "# Improvement of Guided Backprop  on R-LSTM\n",
    "Previously, when applying GB, gradient of sigmoid units were not controled. This results in poor performance of GB on R-LSTM. In particular, the percentage of GB was SA or slightly worse. In this version, I set gradient of sigmoids to be zero for GB. This gradient overridng seems to give much better results for GB. Below is the plot comparing between Deep and R-LSTM with the sigmoid gradient being overriden.\n",
    "\n",
    "![](https://i.imgur.com/6xcib8I.png)\n",
    "\n",
    "# A better evaluation metric for measuring properly distributed relevance\n",
    "When inspecting experiment results, I found that there are some heatmaps where the right most digit/item in the majority group are primarily highlighted, while the other one barely has relevance assigned to. When such cases happen, **the percentage of relevance in data region** that we currently use to quantify the improvement is very close to 1, although the other digit/item is not highlighted. The figure below is one of such cases.\n",
    "![](https://i.imgur.com/RwOcuQk.png)\n",
    "\n",
    "As a result, I am thinking to slightly change the way we compute **the percentage**. More precisely, each block of digit/item  cannot have the percentage greater than $\\tau$. This new calculation will not let architectures that dominantly distribute relevance to only one region get too high percentage. Below is the figure comparing the adjusted percentage between Deep and R-LSTM with $\\tau=0.8$.\n",
    "![](https://i.imgur.com/97kL2tj.png)\n",
    "![](https://i.imgur.com/qxtZLP0.png)"
   ]
  },
  {
   "cell_type": "markdown",
   "metadata": {},
   "source": [
    "# ConvDeep with Literal connections\n",
    "For the last part, there was a critical mistake in my implemenation of ConvDeep with literal connections, denoted as Conv$^+$Deep. After correcting the problems, it turns out that Conv$^+$Deep gives much worse result than ConvDeep.\n",
    "![](https://i.imgur.com/6c8cZPw.png)\n",
    "![](https://i.imgur.com/Izh8m4a.png)"
   ]
  },
  {
   "cell_type": "code",
   "execution_count": null,
   "metadata": {},
   "outputs": [],
   "source": []
  }
 ],
 "metadata": {
  "kernelspec": {
   "display_name": "Python3 Thesis Kernel",
   "language": "python",
   "name": "py3-thesis-kernel"
  },
  "language_info": {
   "codemirror_mode": {
    "name": "ipython",
    "version": 3
   },
   "file_extension": ".py",
   "mimetype": "text/x-python",
   "name": "python",
   "nbconvert_exporter": "python",
   "pygments_lexer": "ipython3",
   "version": "3.5.1"
  },
  "toc": {
   "nav_menu": {},
   "number_sections": true,
   "sideBar": true,
   "skip_h1_title": false,
   "toc_cell": false,
   "toc_position": {},
   "toc_section_display": "block",
   "toc_window_display": false
  }
 },
 "nbformat": 4,
 "nbformat_minor": 2
}
