{
 "cells": [
  {
   "cell_type": "markdown",
   "metadata": {},
   "source": [
    "# Improvement of Guided Backprop  on R-LSTM\n",
    "Previously, when applying GB, gradient of sigmoid units were not controled. This results in poor performance of GB on R-LSTM. In particular, the percentage of GB was SA or slightly worse. In this version, I set gradient of sigmoids to be zero for GB. This gradient overridng seems to give much better results for GB. Below is the plot comparing between Deep and R-LSTM with the sigmoid gradient being overriden.\n",
    "\n",
    "![](https://i.imgur.com/6xcib8I.png)\n",
    "\n",
    "# A better evaluation metric for measuring properly distributed relevance\n",
    "When inspecting experiment results, I found that there are some heatmaps where the right most digit/item in the majority group are primarily highlighted, while the other one barely has relevance assigned to. When such cases happen, **the percentage of relevance in data region** that we currently use to quantify the improvement is very close to 1, although the other digit/item is not highlighted. The figure below is one of such cases.\n",
    "![](https://i.imgur.com/RwOcuQk.png)\n",
    "\n",
    "As a result, I am thinking to slightly change the way we compute **the percentage**. More precisely, each block of digit/item  cannot have the percentage greater than $\\tau$. This new calculation will not let architectures that dominantly distribute relevance to only one region get too high percentage. Below is the figure comparing the adjusted percentage between Deep and R-LSTM with $\\tau=0.8$.\n",
    "![](https://i.imgur.com/97kL2tj.png)\n",
    "![](https://i.imgur.com/qxtZLP0.png)"
   ]
  },
  {
   "cell_type": "markdown",
   "metadata": {},
   "source": [
    "# ConvDeep with Literal connections\n",
    "For the last part, there was a critical mistake in my implemenation of ConvDeep with literal connections, denoted as Conv$^+$Deep. After correcting the problems, it turns out that Conv$^+$Deep gives much worse result than ConvDeep.\n",
    "![](https://i.imgur.com/6c8cZPw.png)\n",
    "![](https://i.imgur.com/Izh8m4a.png)"
   ]
  },
  {
   "attachments": {},
   "cell_type": "markdown",
   "metadata": {},
   "source": [
    "# Cosine Similarity \n",
    "\n",
    "\n",
    "![](https://i.imgur.com/e3y9ZCw.png)\n",
    "\n",
    "![](https://i.imgur.com/E8ZUAi9.png)"
   ]
  },
  {
   "cell_type": "markdown",
   "metadata": {},
   "source": [
    "# End"
   ]
  },
  {
   "cell_type": "code",
   "execution_count": null,
   "metadata": {},
   "outputs": [],
   "source": []
  },
  {
   "cell_type": "code",
   "execution_count": null,
   "metadata": {},
   "outputs": [],
   "source": []
  },
  {
   "cell_type": "code",
   "execution_count": 2,
   "metadata": {},
   "outputs": [],
   "source": [
    "import numpy as np"
   ]
  },
  {
   "cell_type": "code",
   "execution_count": 72,
   "metadata": {},
   "outputs": [
    {
     "name": "stdout",
     "output_type": "stream",
     "text": [
      "(1, 3)\n"
     ]
    },
    {
     "data": {
      "text/plain": [
       "array([ 0.70278193])"
      ]
     },
     "execution_count": 72,
     "metadata": {},
     "output_type": "execute_result"
    }
   ],
   "source": [
    "marks = np.array([\n",
    "    [1,0,1], \n",
    "#     [1,1,0], \n",
    "#     [0,1,1],\n",
    "#     [0,1,1],\n",
    "#     [0,1,1],\n",
    "#     [0,1,1],\n",
    "])\n",
    "rels = np.array([\n",
    "    [0.0, 0.1, 0.9],\n",
    "#     [0.01, 0.9, 0.09],\n",
    "#     [0.2, 0.3, 0.5],\n",
    "#     [0.05, 0.05, 0.9],\n",
    "#     [0.05, 0.15, 0.8],\n",
    "#     [0, 0, 0]\n",
    "])\n",
    "print(rels.shape)\n",
    "\n",
    "def compute_length(x):\n",
    "    dist = np.sqrt(np.sum(x * x, axis=1))\n",
    "    return dist\n",
    "\n",
    "\n",
    "def cosine_similarity(u, v):\n",
    "\n",
    "    dot_prod = np.sum(u * v, axis=1)\n",
    "\n",
    "    length = compute_length(u) * compute_length(v)\n",
    "\n",
    "    cosine_sim = dot_prod / length\n",
    "    cosine_sim[length==0] = 0\n",
    "\n",
    "    return cosine_sim\n",
    "\n",
    "\n",
    "\n",
    "cosine_similarity(marks, rels)"
   ]
  },
  {
   "cell_type": "code",
   "execution_count": 49,
   "metadata": {},
   "outputs": [],
   "source": [
    "from scipy.spatial.distance import cosine"
   ]
  },
  {
   "cell_type": "code",
   "execution_count": 48,
   "metadata": {},
   "outputs": [
    {
     "data": {
      "text/plain": [
       "0.91000000000000003"
      ]
     },
     "execution_count": 48,
     "metadata": {},
     "output_type": "execute_result"
    }
   ],
   "source": [
    "np.array([0.01, 0.9, 0.09]).dot(np.array([1,1,0])) / (np.)"
   ]
  },
  {
   "cell_type": "code",
   "execution_count": 53,
   "metadata": {},
   "outputs": [
    {
     "name": "stdout",
     "output_type": "stream",
     "text": [
      "1.0\n",
      "0.711371819486\n",
      "0.917662935482\n",
      "0.744097427489\n",
      "0.823754471048\n",
      "nan\n"
     ]
    },
    {
     "name": "stderr",
     "output_type": "stream",
     "text": [
      "/Users/heytitle/projects/heatmapping-tutorial/venv/lib/python3.5/site-packages/scipy/spatial/distance.py:505: RuntimeWarning: invalid value encountered in double_scalars\n",
      "  dist = 1.0 - np.dot(u, v) / (norm(u) * norm(v))\n"
     ]
    }
   ],
   "source": [
    "for i in range(marks.shape[0]):\n",
    "    print(1 - cosine(marks[i, :], rels[i, :]))"
   ]
  },
  {
   "cell_type": "code",
   "execution_count": 54,
   "metadata": {},
   "outputs": [],
   "source": [
    "import re"
   ]
  },
  {
   "cell_type": "code",
   "execution_count": 69,
   "metadata": {},
   "outputs": [
    {
     "data": {
      "text/plain": [
       "'5'"
      ]
     },
     "execution_count": 69,
     "metadata": {},
     "output_type": "execute_result"
    }
   ],
   "source": [
    "re.match('.+fold-(\\d+)$', './final-models-group/shallow-fashion-mnist-3-items-maj-seq-12-fold-5').group(1)"
   ]
  },
  {
   "cell_type": "code",
   "execution_count": null,
   "metadata": {},
   "outputs": [],
   "source": []
  }
 ],
 "metadata": {
  "kernelspec": {
   "display_name": "Python3 Thesis Kernel",
   "language": "python",
   "name": "py3-thesis-kernel"
  },
  "language_info": {
   "codemirror_mode": {
    "name": "ipython",
    "version": 3
   },
   "file_extension": ".py",
   "mimetype": "text/x-python",
   "name": "python",
   "nbconvert_exporter": "python",
   "pygments_lexer": "ipython3",
   "version": "3.5.1"
  },
  "toc": {
   "nav_menu": {},
   "number_sections": true,
   "sideBar": true,
   "skip_h1_title": false,
   "toc_cell": false,
   "toc_position": {},
   "toc_section_display": "block",
   "toc_window_display": false
  }
 },
 "nbformat": 4,
 "nbformat_minor": 2
}
